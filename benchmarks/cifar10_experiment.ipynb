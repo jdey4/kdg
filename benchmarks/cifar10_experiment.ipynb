{
 "cells": [
  {
   "cell_type": "code",
   "execution_count": 1,
   "id": "711e3089",
   "metadata": {},
   "outputs": [],
   "source": [
    "from numpy import dtype\n",
    "from kdg import kdf, kdn, kdcnn\n",
    "from kdg.utils import get_ece, plot_reliability\n",
    "from tensorflow import keras\n",
    "from tensorflow.keras.layers import Dense, Activation, Flatten, Conv2D, MaxPooling2D, BatchNormalization\n",
    "from tensorflow.keras import activations\n",
    "from tensorflow.keras import backend as bknd\n",
    "import matplotlib.pyplot as plt\n",
    "import seaborn as sns\n",
    "import pandas as pd\n",
    "import os \n",
    "import numpy as np\n",
    "import openml\n",
    "from sklearn.metrics import cohen_kappa_score\n",
    "from kdg.utils import get_ece\n",
    "from numpy import min_scalar_type\n",
    "from sklearn.mixture import GaussianMixture\n",
    "from sklearn.utils.validation import check_array, check_is_fitted, check_X_y\n",
    "from sklearn.ensemble import RandomForestClassifier as rf \n",
    "import numpy as np\n",
    "from scipy.stats import multivariate_normal\n",
    "import warnings\n",
    "from sklearn.covariance import MinCovDet, fast_mcd, GraphicalLassoCV, LedoitWolf, EmpiricalCovariance, OAS, EllipticEnvelope, log_likelihood\n",
    "from sklearn.model_selection import train_test_split\n",
    "from sklearn.model_selection import train_test_split\n"
   ]
  },
  {
   "cell_type": "code",
   "execution_count": 2,
   "id": "fd9e4ca3",
   "metadata": {},
   "outputs": [],
   "source": [
    "dataset = openml.datasets.get_dataset(1050)\n",
    "X, y, is_categorical, _ = dataset.get_data(\n",
    "                dataset_format=\"array\", target=dataset.default_target_attribute\n",
    "            )\n",
    "\n",
    "#feature = [475, 433]\n",
    "#X = X[:,feature]\n",
    "#X /= np.max(np.linalg.norm(X,2,axis=1))\n",
    "total_sample = X.shape[0]\n",
    "train_samples = np.logspace(\n",
    "            np.log10(100),\n",
    "            np.log10(total_sample-1000),\n",
    "            num=5,\n",
    "            endpoint=True,\n",
    "            dtype=int\n",
    "        )\n",
    "X_train, X_test, y_train, y_test = train_test_split(\n",
    "                     X, y, test_size=.33, random_state=44)\n",
    "\n",
    "min_val = np.min(X_train,axis=0)\n",
    "max_val = np.max(X_train, axis=0)\n",
    "    \n",
    "X_train = (X_train-min_val)/(max_val-min_val+1e-12)\n",
    "X_test = (X_test-min_val)/(max_val-min_val+1e-12)\n"
   ]
  },
  {
   "cell_type": "code",
   "execution_count": 3,
   "id": "23a23652",
   "metadata": {},
   "outputs": [],
   "source": [
    "compile_kwargs = {\n",
    "        \"loss\": \"binary_crossentropy\",\n",
    "        \"optimizer\": keras.optimizers.Adam(3e-4),\n",
    "    }\n",
    "callback = keras.callbacks.EarlyStopping(monitor=\"loss\", patience=10, verbose=True)\n",
    "fit_kwargs = {\n",
    "        \"epochs\": 2000,\n",
    "        \"batch_size\": 32,\n",
    "        \"verbose\": False,\n",
    "        \"callbacks\": [callback],\n",
    "    }"
   ]
  },
  {
   "cell_type": "code",
   "execution_count": 4,
   "id": "73882614",
   "metadata": {},
   "outputs": [],
   "source": [
    "def getNN(input_size, num_classes, layer_size=2000):\n",
    "    network_base = keras.Sequential()\n",
    "    initializer = keras.initializers.random_normal(seed=0)\n",
    "    network_base.add(keras.layers.Dense(layer_size, kernel_initializer=initializer, input_shape=(input_size,)))\n",
    "    network_base.add(keras.layers.Activation(activations.relu))\n",
    "    network_base.add(keras.layers.Dense(layer_size, kernel_initializer=initializer))\n",
    "    network_base.add(keras.layers.Activation(activations.relu))\n",
    "    network_base.add(keras.layers.Dense(layer_size, kernel_initializer=initializer))\n",
    "    network_base.add(keras.layers.Activation(activations.relu))\n",
    "    network_base.add(keras.layers.Dense(layer_size, kernel_initializer=initializer))\n",
    "    network_base.add(keras.layers.Activation(activations.relu))\n",
    "    network_base.add(keras.layers.Dense(units=num_classes, activation=\"softmax\", kernel_initializer=initializer))\n",
    "    network_base.compile(**compile_kwargs)\n",
    "    return network_base"
   ]
  },
  {
   "cell_type": "code",
   "execution_count": 5,
   "id": "31a2bf36",
   "metadata": {},
   "outputs": [
    {
     "name": "stdout",
     "output_type": "stream",
     "text": [
      "Metal device set to: Apple M1 Max\n"
     ]
    },
    {
     "name": "stderr",
     "output_type": "stream",
     "text": [
      "2023-08-04 09:47:43.058632: I tensorflow/core/common_runtime/pluggable_device/pluggable_device_factory.cc:305] Could not identify NUMA node of platform GPU ID 0, defaulting to 0. Your kernel may not have been built with NUMA support.\n",
      "2023-08-04 09:47:43.059217: I tensorflow/core/common_runtime/pluggable_device/pluggable_device_factory.cc:271] Created TensorFlow device (/job:localhost/replica:0/task:0/device:GPU:0 with 0 MB memory) -> physical PluggableDevice (device: 0, name: METAL, pci bus id: <undefined>)\n",
      "2023-08-04 09:47:43.270842: W tensorflow/core/platform/profile_utils/cpu_utils.cc:128] Failed to get CPU frequency: 0 Hz\n",
      "2023-08-04 09:47:43.401324: I tensorflow/core/grappler/optimizers/custom_graph_optimizer_registry.cc:113] Plugin optimizer for device_type GPU is enabled.\n"
     ]
    },
    {
     "name": "stdout",
     "output_type": "stream",
     "text": [
      "Epoch 71: early stopping\n"
     ]
    }
   ],
   "source": [
    "nn = getNN(input_size=X.shape[1], num_classes=len(np.unique(y)), layer_size=1000)\n",
    "history = nn.fit(X_train, keras.utils.to_categorical(y_train), **fit_kwargs)\n"
   ]
  },
  {
   "cell_type": "code",
   "execution_count": 6,
   "id": "e82c6a44",
   "metadata": {},
   "outputs": [],
   "source": [
    "model_kdn = kdn(network=nn)\n",
    "model_kdn.fit(X_train, y_train, epsilon=1e-6, mul=20)"
   ]
  },
  {
   "cell_type": "code",
   "execution_count": 7,
   "id": "1c5e1819",
   "metadata": {},
   "outputs": [
    {
     "name": "stdout",
     "output_type": "stream",
     "text": [
      "[221 152 841 738 740 752 829 193 538 514 230 394 391 333 320 887 224 738\n",
      " 368  45 606 192 620 621 621 965 124  42 466 624 224 752  18 818 452 381\n",
      "  67 716 972 842 517  91 941 186 913 949 751 366 195 350 464 827 947 904\n",
      " 633 240 183 649 334 707 162 304 743 245 608  52 488 949  96 253  98 248\n",
      " 143 521 845 477 617  81 196 143 585 157 608 525 293 824  53 327 859 523\n",
      " 224 482 622 323 273 187 436 193 872  63 665 651 460 191 645 950 579 540\n",
      " 502 680 728 245 560 874 354 327 429 504 352 659 941 476   9 364 544 304\n",
      "  37 638  60 511 445 896 735 820 447 133 953 167 272 625 155 627   7 186\n",
      " 481 298 520 186 515  57 575  99 544 556 917 636 912  34 706 616 284 402\n",
      " 864 488 794 636 224 186 836 453 916 322 880 341 944 129 736  88 175 261\n",
      " 784 561 725 565 453 658 692 709 571 379   7 542 619 491 399 646 297   5\n",
      " 963 452 403 717 383 784 765 499 333 133 608   3 137 225 128 174 831 509\n",
      " 908   7  43 625 502 216 881  86 711 744   7 508 637 438 112 731 127 794\n",
      " 460 254 385 161 446 416 895 252 694 450 331 946 497 936 781 269  14 336\n",
      " 407  94 652 817 186 831 694 383 725 156 587 697 691   7 597 652 107 638\n",
      " 868 821 573 491 144 308 181  82 437 708 318 162 269 973  67 953 727 808\n",
      " 757 794  94 186 228 920 579 889 825 405 186 850 693 946 708 196 157 757\n",
      " 563 212 277 839 617 893 107 405 625  90 934 367 342 881 945 150 314 173\n",
      " 464 693 705 940 446 823  83 827 539 829  67  36 285 102 300 464 529 693\n",
      " 275  99 554 177 527 354 788 243 691  11 563 477 288 635  80 283 172 613\n",
      " 927 176 460 708 720 350 285 938 530  59 940 523 362 269 477 244 786 553\n",
      " 877  98   7 618  83 468 937 517 252   7 885 861 676  21  30  87 337 729\n",
      " 678 452 646 269  43  47 922 252  15 911 385 872 930 855 745 973 533 287\n",
      " 336 565 308 712 265 896  17 105 254 275 582 663 873 765 616   7 187 400\n",
      " 871 114 544  67 752 540 819 579 980 269  45 321 767 242 178  13 133 210\n",
      "   0 129 178 202 865 823 252 183 109 499 478 464 796 819 711 933 505 941\n",
      " 648 705 787 176 212 900 660   5 288 476 171 818   4 517 275 650 317 291\n",
      " 252 556 611   1 203 603 385 437 153 792 716 560 748 663 759 350  63 664\n",
      " 344 327 771 317 794 325 199 194 219 299 270 530] 980\n",
      "17/17 [==============================] - 0s 3ms/step\n"
     ]
    },
    {
     "name": "stderr",
     "output_type": "stream",
     "text": [
      "2023-08-04 09:48:06.623747: I tensorflow/core/grappler/optimizers/custom_graph_optimizer_registry.cc:113] Plugin optimizer for device_type GPU is enabled.\n"
     ]
    }
   ],
   "source": [
    "proba_kdn = model_kdn.predict_proba(X_test, distance='Geodesic')\n",
    "proba_dn = model_kdn.network.predict(X_test)\n",
    "predicted_label_kdn = np.argmax(proba_kdn, axis = 1)\n",
    "predicted_label_dn = np.argmax(proba_dn, axis = 1)"
   ]
  },
  {
   "cell_type": "code",
   "execution_count": 9,
   "id": "52bbf852",
   "metadata": {},
   "outputs": [
    {
     "data": {
      "text/plain": [
       "0.8934108527131783"
      ]
     },
     "execution_count": 9,
     "metadata": {},
     "output_type": "execute_result"
    }
   ],
   "source": [
    "np.mean(predicted_label_dn==y_test)"
   ]
  },
  {
   "cell_type": "code",
   "execution_count": 10,
   "id": "74b74b3f",
   "metadata": {},
   "outputs": [
    {
     "data": {
      "text/plain": [
       "0.8934108527131783"
      ]
     },
     "execution_count": 10,
     "metadata": {},
     "output_type": "execute_result"
    }
   ],
   "source": [
    "np.mean(predicted_label_kdn==y_test)"
   ]
  },
  {
   "cell_type": "code",
   "execution_count": null,
   "id": "92cb48ad",
   "metadata": {},
   "outputs": [],
   "source": []
  }
 ],
 "metadata": {
  "kernelspec": {
   "display_name": "Python 3 (ipykernel)",
   "language": "python",
   "name": "python3"
  },
  "language_info": {
   "codemirror_mode": {
    "name": "ipython",
    "version": 3
   },
   "file_extension": ".py",
   "mimetype": "text/x-python",
   "name": "python",
   "nbconvert_exporter": "python",
   "pygments_lexer": "ipython3",
   "version": "3.9.12"
  }
 },
 "nbformat": 4,
 "nbformat_minor": 5
}
