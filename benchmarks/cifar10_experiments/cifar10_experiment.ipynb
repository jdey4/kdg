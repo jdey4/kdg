{
 "cells": [
  {
   "cell_type": "code",
   "execution_count": 1,
   "id": "9f3d8cfe",
   "metadata": {},
   "outputs": [],
   "source": [
    "from numpy import dtype\n",
    "from kdg import kdf, kdn, kdcnn\n",
    "from kdg.utils import get_ece, plot_reliability\n",
    "from tensorflow import keras\n",
    "from tensorflow.keras.layers import Dense, Input, Activation, Flatten, Conv2D, MaxPooling2D, AveragePooling2D, BatchNormalization\n",
    "from tensorflow.keras import activations\n",
    "from tensorflow.keras import backend as bknd\n",
    "from tensorflow.keras.models import Model\n",
    "import matplotlib.pyplot as plt\n",
    "import seaborn as sns\n",
    "import pandas as pd\n",
    "import os \n",
    "import numpy as np\n",
    "import pickle\n",
    "import openml\n",
    "from sklearn.metrics import cohen_kappa_score\n",
    "from kdg.utils import get_ece\n",
    "import numpy as np\n",
    "import warnings\n",
    "from sklearn.model_selection import train_test_split\n",
    "from sklearn.model_selection import train_test_split\n",
    "from scipy.io import loadmat\n",
    "import random\n",
    "from itertools import product\n",
    "import matplotlib.gridspec as gridspec\n",
    "import matplotlib"
   ]
  },
  {
   "cell_type": "code",
   "execution_count": 151,
   "id": "960cd656",
   "metadata": {},
   "outputs": [],
   "source": [
    "def getLeNet(input_shape, num_classes):\n",
    "    model = keras.Sequential()\n",
    "    inputs = Input(shape=input_shape)\n",
    "    x = Conv2D(6, (3,3), kernel_initializer='he_uniform')(inputs)\n",
    "    x = Activation('relu')(x)\n",
    "    x = AveragePooling2D()(x)\n",
    "    x = Conv2D(16, (3,3), kernel_initializer='he_uniform')(x)\n",
    "    x = BatchNormalization()(x)\n",
    "    x = Activation('relu')(x)\n",
    "    x = AveragePooling2D((2,2))(x)\n",
    "\n",
    "    x = Flatten()(x)\n",
    "    x = Dense(120, kernel_initializer='he_uniform')(x)\n",
    "    x = Activation('relu')(x)\n",
    "    x = Dense(84, kernel_initializer='he_uniform')(x)\n",
    "    x = Activation('relu')(x)\n",
    "    outputs = Dense(num_classes,\n",
    "                    activation='softmax',\n",
    "                    kernel_initializer='he_normal')(x)\n",
    "    model = Model(inputs=inputs, outputs=outputs)\n",
    "    return model\n",
    "    "
   ]
  },
  {
   "cell_type": "code",
   "execution_count": 3,
   "id": "876d0434",
   "metadata": {},
   "outputs": [],
   "source": [
    "### Hyperparameters ###\n",
    "subtract_pixel_mean = True\n",
    "normalize = False\n",
    "classes_to_consider = [[0,1], [2,3],\n",
    "                       [4,5], [6,7],\n",
    "                       [8,9]]\n",
    "seeds = [0,100,200,300,400]\n",
    "\n",
    "compile_kwargs = {\n",
    "        \"loss\": \"binary_crossentropy\",\n",
    "        \"optimizer\": keras.optimizers.Adam(3e-4),\n",
    "    }\n",
    "callback = keras.callbacks.EarlyStopping(monitor=\"loss\", patience=10, verbose=True)\n",
    "fit_kwargs = {\n",
    "        \"epochs\": 100,\n",
    "        \"batch_size\": 32,\n",
    "        \"verbose\": False,\n",
    "        \"callbacks\": [callback],\n",
    "    }"
   ]
  },
  {
   "cell_type": "code",
   "execution_count": 5,
   "id": "f8c6b4aa",
   "metadata": {},
   "outputs": [],
   "source": [
    "### preprocess the data ###\n",
    "\n",
    "def get_data(classes):\n",
    "    (x_train, y_train), (x_test, y_test) = keras.datasets.cifar10.load_data()\n",
    "    input_shape = x_train.shape[1:]\n",
    "\n",
    "    train_idx = np.where(y_train==classes[0])[0]\n",
    "    test_idx = np.where(y_test==classes[0])[0]\n",
    "\n",
    "    for ii in classes[1:]:\n",
    "        train_idx = np.concatenate((\n",
    "                        train_idx,\n",
    "                        np.where(y_train==ii)[0]\n",
    "                    ))\n",
    "        test_idx = np.concatenate((\n",
    "                        test_idx,\n",
    "                        np.where(y_test==ii)[0]\n",
    "                    ))\n",
    "\n",
    "    x_train, y_train = x_train[train_idx], y_train[train_idx]\n",
    "    x_test, y_test = x_test[test_idx], y_test[test_idx]\n",
    "    \n",
    "    _, y_train = np.unique(y_train, return_inverse=True)\n",
    "    _, y_test = np.unique(y_test, return_inverse=True)\n",
    "    \n",
    "    if normalize:\n",
    "        x_train = x_train.astype('float32') / 255\n",
    "        x_test = x_test.astype('float32') / 255\n",
    "    else:\n",
    "        x_train = x_train.astype('float32')\n",
    "        x_test = x_test.astype('float32')\n",
    "    \n",
    "    x_train_mean = np.mean(x_train, axis=0)\n",
    "    if subtract_pixel_mean:\n",
    "        x_train -= x_train_mean\n",
    "        x_test -= x_train_mean\n",
    "    return (x_train, y_train), (x_test, y_test), x_train_mean"
   ]
  },
  {
   "cell_type": "code",
   "execution_count": 155,
   "id": "b9a8873e",
   "metadata": {
    "scrolled": false
   },
   "outputs": [
    {
     "name": "stderr",
     "output_type": "stream",
     "text": [
      "2023-08-05 12:21:13.939056: I tensorflow/core/grappler/optimizers/custom_graph_optimizer_registry.cc:113] Plugin optimizer for device_type GPU is enabled.\n"
     ]
    },
    {
     "name": "stdout",
     "output_type": "stream",
     "text": [
      "Epoch 49: early stopping\n",
      "63/63 [==============================] - 0s 3ms/step\n"
     ]
    },
    {
     "name": "stderr",
     "output_type": "stream",
     "text": [
      "2023-08-05 12:23:00.764011: I tensorflow/core/grappler/optimizers/custom_graph_optimizer_registry.cc:113] Plugin optimizer for device_type GPU is enabled.\n"
     ]
    },
    {
     "name": "stdout",
     "output_type": "stream",
     "text": [
      "Trained model with classes  [0, 1]  seed  0\n",
      "Accuracy: 0.909\n"
     ]
    },
    {
     "name": "stderr",
     "output_type": "stream",
     "text": [
      "WARNING:absl:Found untraced functions such as _jit_compiled_convolution_op, _jit_compiled_convolution_op while saving (showing 2 of 2). These functions will not be directly callable after loading.\n"
     ]
    },
    {
     "name": "stdout",
     "output_type": "stream",
     "text": [
      "INFO:tensorflow:Assets written to: lenet_models/cifar10_model_0_0/assets\n"
     ]
    },
    {
     "name": "stderr",
     "output_type": "stream",
     "text": [
      "INFO:tensorflow:Assets written to: lenet_models/cifar10_model_0_0/assets\n",
      "2023-08-05 12:23:01.569966: I tensorflow/core/grappler/optimizers/custom_graph_optimizer_registry.cc:113] Plugin optimizer for device_type GPU is enabled.\n"
     ]
    },
    {
     "name": "stdout",
     "output_type": "stream",
     "text": [
      "Epoch 51: early stopping\n",
      "63/63 [==============================] - 0s 2ms/step\n"
     ]
    },
    {
     "name": "stderr",
     "output_type": "stream",
     "text": [
      "2023-08-05 12:24:51.946076: I tensorflow/core/grappler/optimizers/custom_graph_optimizer_registry.cc:113] Plugin optimizer for device_type GPU is enabled.\n"
     ]
    },
    {
     "name": "stdout",
     "output_type": "stream",
     "text": [
      "Trained model with classes  [0, 1]  seed  100\n",
      "Accuracy: 0.9115\n"
     ]
    },
    {
     "name": "stderr",
     "output_type": "stream",
     "text": [
      "WARNING:absl:Found untraced functions such as _jit_compiled_convolution_op, _jit_compiled_convolution_op while saving (showing 2 of 2). These functions will not be directly callable after loading.\n"
     ]
    },
    {
     "name": "stdout",
     "output_type": "stream",
     "text": [
      "INFO:tensorflow:Assets written to: lenet_models/cifar10_model_0_100/assets\n"
     ]
    },
    {
     "name": "stderr",
     "output_type": "stream",
     "text": [
      "INFO:tensorflow:Assets written to: lenet_models/cifar10_model_0_100/assets\n",
      "2023-08-05 12:24:52.755993: I tensorflow/core/grappler/optimizers/custom_graph_optimizer_registry.cc:113] Plugin optimizer for device_type GPU is enabled.\n"
     ]
    },
    {
     "name": "stdout",
     "output_type": "stream",
     "text": [
      "Epoch 44: early stopping\n",
      "63/63 [==============================] - 0s 2ms/step\n"
     ]
    },
    {
     "name": "stderr",
     "output_type": "stream",
     "text": [
      "2023-08-05 12:26:28.678642: I tensorflow/core/grappler/optimizers/custom_graph_optimizer_registry.cc:113] Plugin optimizer for device_type GPU is enabled.\n"
     ]
    },
    {
     "name": "stdout",
     "output_type": "stream",
     "text": [
      "Trained model with classes  [0, 1]  seed  200\n",
      "Accuracy: 0.912\n"
     ]
    },
    {
     "name": "stderr",
     "output_type": "stream",
     "text": [
      "WARNING:absl:Found untraced functions such as _jit_compiled_convolution_op, _jit_compiled_convolution_op while saving (showing 2 of 2). These functions will not be directly callable after loading.\n"
     ]
    },
    {
     "name": "stdout",
     "output_type": "stream",
     "text": [
      "INFO:tensorflow:Assets written to: lenet_models/cifar10_model_0_200/assets\n"
     ]
    },
    {
     "name": "stderr",
     "output_type": "stream",
     "text": [
      "INFO:tensorflow:Assets written to: lenet_models/cifar10_model_0_200/assets\n",
      "2023-08-05 12:26:29.517766: I tensorflow/core/grappler/optimizers/custom_graph_optimizer_registry.cc:113] Plugin optimizer for device_type GPU is enabled.\n"
     ]
    },
    {
     "name": "stdout",
     "output_type": "stream",
     "text": [
      "Epoch 45: early stopping\n",
      "63/63 [==============================] - 0s 3ms/step\n"
     ]
    },
    {
     "name": "stderr",
     "output_type": "stream",
     "text": [
      "2023-08-05 12:28:07.340798: I tensorflow/core/grappler/optimizers/custom_graph_optimizer_registry.cc:113] Plugin optimizer for device_type GPU is enabled.\n"
     ]
    },
    {
     "name": "stdout",
     "output_type": "stream",
     "text": [
      "Trained model with classes  [0, 1]  seed  300\n",
      "Accuracy: 0.9305\n"
     ]
    },
    {
     "name": "stderr",
     "output_type": "stream",
     "text": [
      "WARNING:absl:Found untraced functions such as _jit_compiled_convolution_op, _jit_compiled_convolution_op while saving (showing 2 of 2). These functions will not be directly callable after loading.\n"
     ]
    },
    {
     "name": "stdout",
     "output_type": "stream",
     "text": [
      "INFO:tensorflow:Assets written to: lenet_models/cifar10_model_0_300/assets\n"
     ]
    },
    {
     "name": "stderr",
     "output_type": "stream",
     "text": [
      "INFO:tensorflow:Assets written to: lenet_models/cifar10_model_0_300/assets\n",
      "2023-08-05 12:28:08.155446: I tensorflow/core/grappler/optimizers/custom_graph_optimizer_registry.cc:113] Plugin optimizer for device_type GPU is enabled.\n"
     ]
    },
    {
     "name": "stdout",
     "output_type": "stream",
     "text": [
      "Epoch 52: early stopping\n",
      "48/63 [=====================>........] - ETA: 0s"
     ]
    },
    {
     "name": "stderr",
     "output_type": "stream",
     "text": [
      "2023-08-05 12:30:00.136199: I tensorflow/core/grappler/optimizers/custom_graph_optimizer_registry.cc:113] Plugin optimizer for device_type GPU is enabled.\n"
     ]
    },
    {
     "name": "stdout",
     "output_type": "stream",
     "text": [
      "63/63 [==============================] - 0s 3ms/step\n",
      "Trained model with classes  [0, 1]  seed  400\n",
      "Accuracy: 0.918\n"
     ]
    },
    {
     "name": "stderr",
     "output_type": "stream",
     "text": [
      "WARNING:absl:Found untraced functions such as _jit_compiled_convolution_op, _jit_compiled_convolution_op while saving (showing 2 of 2). These functions will not be directly callable after loading.\n"
     ]
    },
    {
     "name": "stdout",
     "output_type": "stream",
     "text": [
      "INFO:tensorflow:Assets written to: lenet_models/cifar10_model_0_400/assets\n"
     ]
    },
    {
     "name": "stderr",
     "output_type": "stream",
     "text": [
      "INFO:tensorflow:Assets written to: lenet_models/cifar10_model_0_400/assets\n",
      "2023-08-05 12:30:01.524509: I tensorflow/core/grappler/optimizers/custom_graph_optimizer_registry.cc:113] Plugin optimizer for device_type GPU is enabled.\n"
     ]
    },
    {
     "name": "stdout",
     "output_type": "stream",
     "text": [
      "Epoch 77: early stopping\n",
      "63/63 [==============================] - 0s 3ms/step\n"
     ]
    },
    {
     "name": "stderr",
     "output_type": "stream",
     "text": [
      "2023-08-05 12:32:48.562442: I tensorflow/core/grappler/optimizers/custom_graph_optimizer_registry.cc:113] Plugin optimizer for device_type GPU is enabled.\n"
     ]
    },
    {
     "name": "stdout",
     "output_type": "stream",
     "text": [
      "Trained model with classes  [2, 3]  seed  0\n",
      "Accuracy: 0.7655\n"
     ]
    },
    {
     "name": "stderr",
     "output_type": "stream",
     "text": [
      "WARNING:absl:Found untraced functions such as _jit_compiled_convolution_op, _jit_compiled_convolution_op while saving (showing 2 of 2). These functions will not be directly callable after loading.\n"
     ]
    },
    {
     "name": "stdout",
     "output_type": "stream",
     "text": [
      "INFO:tensorflow:Assets written to: lenet_models/cifar10_model_1_0/assets\n"
     ]
    },
    {
     "name": "stderr",
     "output_type": "stream",
     "text": [
      "INFO:tensorflow:Assets written to: lenet_models/cifar10_model_1_0/assets\n",
      "2023-08-05 12:32:49.373073: I tensorflow/core/grappler/optimizers/custom_graph_optimizer_registry.cc:113] Plugin optimizer for device_type GPU is enabled.\n"
     ]
    },
    {
     "name": "stdout",
     "output_type": "stream",
     "text": [
      "Epoch 50: early stopping\n",
      "63/63 [==============================] - 0s 2ms/step\n"
     ]
    },
    {
     "name": "stderr",
     "output_type": "stream",
     "text": [
      "2023-08-05 12:34:36.587178: I tensorflow/core/grappler/optimizers/custom_graph_optimizer_registry.cc:113] Plugin optimizer for device_type GPU is enabled.\n"
     ]
    },
    {
     "name": "stdout",
     "output_type": "stream",
     "text": [
      "Trained model with classes  [2, 3]  seed  100\n",
      "Accuracy: 0.7535\n"
     ]
    },
    {
     "name": "stderr",
     "output_type": "stream",
     "text": [
      "WARNING:absl:Found untraced functions such as _jit_compiled_convolution_op, _jit_compiled_convolution_op while saving (showing 2 of 2). These functions will not be directly callable after loading.\n"
     ]
    },
    {
     "name": "stdout",
     "output_type": "stream",
     "text": [
      "INFO:tensorflow:Assets written to: lenet_models/cifar10_model_1_100/assets\n"
     ]
    },
    {
     "name": "stderr",
     "output_type": "stream",
     "text": [
      "INFO:tensorflow:Assets written to: lenet_models/cifar10_model_1_100/assets\n",
      "2023-08-05 12:34:37.390326: I tensorflow/core/grappler/optimizers/custom_graph_optimizer_registry.cc:113] Plugin optimizer for device_type GPU is enabled.\n"
     ]
    },
    {
     "name": "stdout",
     "output_type": "stream",
     "text": [
      "Epoch 79: early stopping\n",
      "48/63 [=====================>........] - ETA: 0s"
     ]
    },
    {
     "name": "stderr",
     "output_type": "stream",
     "text": [
      "2023-08-05 12:37:26.226391: I tensorflow/core/grappler/optimizers/custom_graph_optimizer_registry.cc:113] Plugin optimizer for device_type GPU is enabled.\n"
     ]
    },
    {
     "name": "stdout",
     "output_type": "stream",
     "text": [
      "63/63 [==============================] - 0s 3ms/step\n",
      "Trained model with classes  [2, 3]  seed  200\n",
      "Accuracy: 0.773\n"
     ]
    },
    {
     "name": "stderr",
     "output_type": "stream",
     "text": [
      "WARNING:absl:Found untraced functions such as _jit_compiled_convolution_op, _jit_compiled_convolution_op while saving (showing 2 of 2). These functions will not be directly callable after loading.\n"
     ]
    },
    {
     "name": "stdout",
     "output_type": "stream",
     "text": [
      "INFO:tensorflow:Assets written to: lenet_models/cifar10_model_1_200/assets\n"
     ]
    },
    {
     "name": "stderr",
     "output_type": "stream",
     "text": [
      "INFO:tensorflow:Assets written to: lenet_models/cifar10_model_1_200/assets\n",
      "2023-08-05 12:37:27.052116: I tensorflow/core/grappler/optimizers/custom_graph_optimizer_registry.cc:113] Plugin optimizer for device_type GPU is enabled.\n"
     ]
    },
    {
     "name": "stdout",
     "output_type": "stream",
     "text": [
      "Epoch 76: early stopping\n",
      "45/63 [====================>.........] - ETA: 0s"
     ]
    },
    {
     "name": "stderr",
     "output_type": "stream",
     "text": [
      "2023-08-05 12:40:10.938318: I tensorflow/core/grappler/optimizers/custom_graph_optimizer_registry.cc:113] Plugin optimizer for device_type GPU is enabled.\n"
     ]
    },
    {
     "name": "stdout",
     "output_type": "stream",
     "text": [
      "63/63 [==============================] - 0s 3ms/step\n",
      "Trained model with classes  [2, 3]  seed  300\n",
      "Accuracy: 0.771\n"
     ]
    },
    {
     "name": "stderr",
     "output_type": "stream",
     "text": [
      "WARNING:absl:Found untraced functions such as _jit_compiled_convolution_op, _jit_compiled_convolution_op while saving (showing 2 of 2). These functions will not be directly callable after loading.\n"
     ]
    },
    {
     "name": "stdout",
     "output_type": "stream",
     "text": [
      "INFO:tensorflow:Assets written to: lenet_models/cifar10_model_1_300/assets\n"
     ]
    },
    {
     "name": "stderr",
     "output_type": "stream",
     "text": [
      "INFO:tensorflow:Assets written to: lenet_models/cifar10_model_1_300/assets\n",
      "2023-08-05 12:40:11.764931: I tensorflow/core/grappler/optimizers/custom_graph_optimizer_registry.cc:113] Plugin optimizer for device_type GPU is enabled.\n"
     ]
    },
    {
     "name": "stdout",
     "output_type": "stream",
     "text": [
      "46/63 [====================>.........] - ETA: 0s"
     ]
    },
    {
     "name": "stderr",
     "output_type": "stream",
     "text": [
      "2023-08-05 12:43:47.703348: I tensorflow/core/grappler/optimizers/custom_graph_optimizer_registry.cc:113] Plugin optimizer for device_type GPU is enabled.\n"
     ]
    },
    {
     "name": "stdout",
     "output_type": "stream",
     "text": [
      "63/63 [==============================] - 0s 3ms/step\n",
      "Trained model with classes  [2, 3]  seed  400\n",
      "Accuracy: 0.7695\n"
     ]
    },
    {
     "name": "stderr",
     "output_type": "stream",
     "text": [
      "WARNING:absl:Found untraced functions such as _jit_compiled_convolution_op, _jit_compiled_convolution_op while saving (showing 2 of 2). These functions will not be directly callable after loading.\n"
     ]
    },
    {
     "name": "stdout",
     "output_type": "stream",
     "text": [
      "INFO:tensorflow:Assets written to: lenet_models/cifar10_model_1_400/assets\n"
     ]
    },
    {
     "name": "stderr",
     "output_type": "stream",
     "text": [
      "INFO:tensorflow:Assets written to: lenet_models/cifar10_model_1_400/assets\n",
      "2023-08-05 12:43:48.728484: I tensorflow/core/grappler/optimizers/custom_graph_optimizer_registry.cc:113] Plugin optimizer for device_type GPU is enabled.\n"
     ]
    },
    {
     "name": "stdout",
     "output_type": "stream",
     "text": [
      "Epoch 64: early stopping\n",
      "63/63 [==============================] - 0s 3ms/step\n"
     ]
    },
    {
     "name": "stderr",
     "output_type": "stream",
     "text": [
      "2023-08-05 12:46:05.957367: I tensorflow/core/grappler/optimizers/custom_graph_optimizer_registry.cc:113] Plugin optimizer for device_type GPU is enabled.\n"
     ]
    },
    {
     "name": "stdout",
     "output_type": "stream",
     "text": [
      "Trained model with classes  [4, 5]  seed  0\n",
      "Accuracy: 0.817\n"
     ]
    },
    {
     "name": "stderr",
     "output_type": "stream",
     "text": [
      "WARNING:absl:Found untraced functions such as _jit_compiled_convolution_op, _jit_compiled_convolution_op while saving (showing 2 of 2). These functions will not be directly callable after loading.\n"
     ]
    },
    {
     "name": "stdout",
     "output_type": "stream",
     "text": [
      "INFO:tensorflow:Assets written to: lenet_models/cifar10_model_2_0/assets\n"
     ]
    },
    {
     "name": "stderr",
     "output_type": "stream",
     "text": [
      "INFO:tensorflow:Assets written to: lenet_models/cifar10_model_2_0/assets\n",
      "2023-08-05 12:46:06.765237: I tensorflow/core/grappler/optimizers/custom_graph_optimizer_registry.cc:113] Plugin optimizer for device_type GPU is enabled.\n"
     ]
    },
    {
     "name": "stdout",
     "output_type": "stream",
     "text": [
      "Epoch 53: early stopping\n",
      "48/63 [=====================>........] - ETA: 0s"
     ]
    },
    {
     "name": "stderr",
     "output_type": "stream",
     "text": [
      "2023-08-05 12:48:00.659799: I tensorflow/core/grappler/optimizers/custom_graph_optimizer_registry.cc:113] Plugin optimizer for device_type GPU is enabled.\n"
     ]
    },
    {
     "name": "stdout",
     "output_type": "stream",
     "text": [
      "63/63 [==============================] - 0s 3ms/step\n",
      "Trained model with classes  [4, 5]  seed  100\n",
      "Accuracy: 0.8275\n"
     ]
    },
    {
     "name": "stderr",
     "output_type": "stream",
     "text": [
      "WARNING:absl:Found untraced functions such as _jit_compiled_convolution_op, _jit_compiled_convolution_op while saving (showing 2 of 2). These functions will not be directly callable after loading.\n"
     ]
    },
    {
     "name": "stdout",
     "output_type": "stream",
     "text": [
      "INFO:tensorflow:Assets written to: lenet_models/cifar10_model_2_100/assets\n"
     ]
    },
    {
     "name": "stderr",
     "output_type": "stream",
     "text": [
      "INFO:tensorflow:Assets written to: lenet_models/cifar10_model_2_100/assets\n",
      "2023-08-05 12:48:01.901820: I tensorflow/core/grappler/optimizers/custom_graph_optimizer_registry.cc:113] Plugin optimizer for device_type GPU is enabled.\n"
     ]
    },
    {
     "name": "stdout",
     "output_type": "stream",
     "text": [
      "Epoch 65: early stopping\n",
      "63/63 [==============================] - 0s 3ms/step\n"
     ]
    },
    {
     "name": "stderr",
     "output_type": "stream",
     "text": [
      "2023-08-05 12:50:21.680550: I tensorflow/core/grappler/optimizers/custom_graph_optimizer_registry.cc:113] Plugin optimizer for device_type GPU is enabled.\n"
     ]
    },
    {
     "name": "stdout",
     "output_type": "stream",
     "text": [
      "Trained model with classes  [4, 5]  seed  200\n",
      "Accuracy: 0.819\n"
     ]
    },
    {
     "name": "stderr",
     "output_type": "stream",
     "text": [
      "WARNING:absl:Found untraced functions such as _jit_compiled_convolution_op, _jit_compiled_convolution_op while saving (showing 2 of 2). These functions will not be directly callable after loading.\n"
     ]
    },
    {
     "name": "stdout",
     "output_type": "stream",
     "text": [
      "INFO:tensorflow:Assets written to: lenet_models/cifar10_model_2_200/assets\n"
     ]
    },
    {
     "name": "stderr",
     "output_type": "stream",
     "text": [
      "INFO:tensorflow:Assets written to: lenet_models/cifar10_model_2_200/assets\n",
      "2023-08-05 12:50:22.490972: I tensorflow/core/grappler/optimizers/custom_graph_optimizer_registry.cc:113] Plugin optimizer for device_type GPU is enabled.\n"
     ]
    },
    {
     "name": "stdout",
     "output_type": "stream",
     "text": [
      "Epoch 94: early stopping\n",
      "63/63 [==============================] - 0s 3ms/step\n"
     ]
    },
    {
     "name": "stderr",
     "output_type": "stream",
     "text": [
      "2023-08-05 12:53:44.519108: I tensorflow/core/grappler/optimizers/custom_graph_optimizer_registry.cc:113] Plugin optimizer for device_type GPU is enabled.\n"
     ]
    },
    {
     "name": "stdout",
     "output_type": "stream",
     "text": [
      "Trained model with classes  [4, 5]  seed  300\n",
      "Accuracy: 0.834\n"
     ]
    },
    {
     "name": "stderr",
     "output_type": "stream",
     "text": [
      "WARNING:absl:Found untraced functions such as _jit_compiled_convolution_op, _jit_compiled_convolution_op while saving (showing 2 of 2). These functions will not be directly callable after loading.\n"
     ]
    },
    {
     "name": "stdout",
     "output_type": "stream",
     "text": [
      "INFO:tensorflow:Assets written to: lenet_models/cifar10_model_2_300/assets\n"
     ]
    },
    {
     "name": "stderr",
     "output_type": "stream",
     "text": [
      "INFO:tensorflow:Assets written to: lenet_models/cifar10_model_2_300/assets\n",
      "2023-08-05 12:53:45.337210: I tensorflow/core/grappler/optimizers/custom_graph_optimizer_registry.cc:113] Plugin optimizer for device_type GPU is enabled.\n"
     ]
    },
    {
     "name": "stdout",
     "output_type": "stream",
     "text": [
      "Epoch 65: early stopping\n",
      "63/63 [==============================] - 0s 3ms/step\n"
     ]
    },
    {
     "name": "stderr",
     "output_type": "stream",
     "text": [
      "2023-08-05 12:56:07.404420: I tensorflow/core/grappler/optimizers/custom_graph_optimizer_registry.cc:113] Plugin optimizer for device_type GPU is enabled.\n"
     ]
    },
    {
     "name": "stdout",
     "output_type": "stream",
     "text": [
      "Trained model with classes  [4, 5]  seed  400\n",
      "Accuracy: 0.824\n"
     ]
    },
    {
     "name": "stderr",
     "output_type": "stream",
     "text": [
      "WARNING:absl:Found untraced functions such as _jit_compiled_convolution_op, _jit_compiled_convolution_op while saving (showing 2 of 2). These functions will not be directly callable after loading.\n"
     ]
    },
    {
     "name": "stdout",
     "output_type": "stream",
     "text": [
      "INFO:tensorflow:Assets written to: lenet_models/cifar10_model_2_400/assets\n"
     ]
    },
    {
     "name": "stderr",
     "output_type": "stream",
     "text": [
      "INFO:tensorflow:Assets written to: lenet_models/cifar10_model_2_400/assets\n",
      "2023-08-05 12:56:08.421230: I tensorflow/core/grappler/optimizers/custom_graph_optimizer_registry.cc:113] Plugin optimizer for device_type GPU is enabled.\n"
     ]
    },
    {
     "name": "stdout",
     "output_type": "stream",
     "text": [
      "Epoch 39: early stopping\n",
      "46/63 [====================>.........] - ETA: 0s"
     ]
    },
    {
     "name": "stderr",
     "output_type": "stream",
     "text": [
      "2023-08-05 12:57:32.174482: I tensorflow/core/grappler/optimizers/custom_graph_optimizer_registry.cc:113] Plugin optimizer for device_type GPU is enabled.\n"
     ]
    },
    {
     "name": "stdout",
     "output_type": "stream",
     "text": [
      "63/63 [==============================] - 0s 3ms/step\n",
      "Trained model with classes  [6, 7]  seed  0\n",
      "Accuracy: 0.917\n"
     ]
    },
    {
     "name": "stderr",
     "output_type": "stream",
     "text": [
      "WARNING:absl:Found untraced functions such as _jit_compiled_convolution_op, _jit_compiled_convolution_op while saving (showing 2 of 2). These functions will not be directly callable after loading.\n"
     ]
    },
    {
     "name": "stdout",
     "output_type": "stream",
     "text": [
      "INFO:tensorflow:Assets written to: lenet_models/cifar10_model_3_0/assets\n"
     ]
    },
    {
     "name": "stderr",
     "output_type": "stream",
     "text": [
      "INFO:tensorflow:Assets written to: lenet_models/cifar10_model_3_0/assets\n",
      "2023-08-05 12:57:33.015957: I tensorflow/core/grappler/optimizers/custom_graph_optimizer_registry.cc:113] Plugin optimizer for device_type GPU is enabled.\n"
     ]
    },
    {
     "name": "stdout",
     "output_type": "stream",
     "text": [
      "Epoch 43: early stopping\n",
      "50/63 [======================>.......] - ETA: 0s"
     ]
    },
    {
     "name": "stderr",
     "output_type": "stream",
     "text": [
      "2023-08-05 12:59:03.968390: I tensorflow/core/grappler/optimizers/custom_graph_optimizer_registry.cc:113] Plugin optimizer for device_type GPU is enabled.\n"
     ]
    },
    {
     "name": "stdout",
     "output_type": "stream",
     "text": [
      "63/63 [==============================] - 0s 2ms/step\n",
      "Trained model with classes  [6, 7]  seed  100\n",
      "Accuracy: 0.921\n"
     ]
    },
    {
     "name": "stderr",
     "output_type": "stream",
     "text": [
      "WARNING:absl:Found untraced functions such as _jit_compiled_convolution_op, _jit_compiled_convolution_op while saving (showing 2 of 2). These functions will not be directly callable after loading.\n"
     ]
    },
    {
     "name": "stdout",
     "output_type": "stream",
     "text": [
      "INFO:tensorflow:Assets written to: lenet_models/cifar10_model_3_100/assets\n"
     ]
    },
    {
     "name": "stderr",
     "output_type": "stream",
     "text": [
      "INFO:tensorflow:Assets written to: lenet_models/cifar10_model_3_100/assets\n",
      "2023-08-05 12:59:04.769750: I tensorflow/core/grappler/optimizers/custom_graph_optimizer_registry.cc:113] Plugin optimizer for device_type GPU is enabled.\n"
     ]
    },
    {
     "name": "stdout",
     "output_type": "stream",
     "text": [
      "Epoch 58: early stopping\n",
      "49/63 [======================>.......] - ETA: 0s"
     ]
    },
    {
     "name": "stderr",
     "output_type": "stream",
     "text": [
      "2023-08-05 13:01:00.075867: I tensorflow/core/grappler/optimizers/custom_graph_optimizer_registry.cc:113] Plugin optimizer for device_type GPU is enabled.\n"
     ]
    },
    {
     "name": "stdout",
     "output_type": "stream",
     "text": [
      "63/63 [==============================] - 0s 3ms/step\n",
      "Trained model with classes  [6, 7]  seed  200\n",
      "Accuracy: 0.925\n"
     ]
    },
    {
     "name": "stderr",
     "output_type": "stream",
     "text": [
      "WARNING:absl:Found untraced functions such as _jit_compiled_convolution_op, _jit_compiled_convolution_op while saving (showing 2 of 2). These functions will not be directly callable after loading.\n"
     ]
    },
    {
     "name": "stdout",
     "output_type": "stream",
     "text": [
      "INFO:tensorflow:Assets written to: lenet_models/cifar10_model_3_200/assets\n"
     ]
    },
    {
     "name": "stderr",
     "output_type": "stream",
     "text": [
      "INFO:tensorflow:Assets written to: lenet_models/cifar10_model_3_200/assets\n",
      "2023-08-05 13:01:01.231815: I tensorflow/core/grappler/optimizers/custom_graph_optimizer_registry.cc:113] Plugin optimizer for device_type GPU is enabled.\n"
     ]
    },
    {
     "name": "stdout",
     "output_type": "stream",
     "text": [
      "Epoch 73: early stopping\n",
      "47/63 [=====================>........] - ETA: 0s"
     ]
    },
    {
     "name": "stderr",
     "output_type": "stream",
     "text": [
      "2023-08-05 13:03:26.560438: I tensorflow/core/grappler/optimizers/custom_graph_optimizer_registry.cc:113] Plugin optimizer for device_type GPU is enabled.\n"
     ]
    },
    {
     "name": "stdout",
     "output_type": "stream",
     "text": [
      "63/63 [==============================] - 0s 3ms/step\n",
      "Trained model with classes  [6, 7]  seed  300\n",
      "Accuracy: 0.914\n"
     ]
    },
    {
     "name": "stderr",
     "output_type": "stream",
     "text": [
      "WARNING:absl:Found untraced functions such as _jit_compiled_convolution_op, _jit_compiled_convolution_op while saving (showing 2 of 2). These functions will not be directly callable after loading.\n"
     ]
    },
    {
     "name": "stdout",
     "output_type": "stream",
     "text": [
      "INFO:tensorflow:Assets written to: lenet_models/cifar10_model_3_300/assets\n"
     ]
    },
    {
     "name": "stderr",
     "output_type": "stream",
     "text": [
      "INFO:tensorflow:Assets written to: lenet_models/cifar10_model_3_300/assets\n",
      "2023-08-05 13:03:27.357575: I tensorflow/core/grappler/optimizers/custom_graph_optimizer_registry.cc:113] Plugin optimizer for device_type GPU is enabled.\n"
     ]
    },
    {
     "name": "stdout",
     "output_type": "stream",
     "text": [
      "Epoch 51: early stopping\n",
      "49/63 [======================>.......] - ETA: 0s"
     ]
    },
    {
     "name": "stderr",
     "output_type": "stream",
     "text": [
      "2023-08-05 13:05:09.236327: I tensorflow/core/grappler/optimizers/custom_graph_optimizer_registry.cc:113] Plugin optimizer for device_type GPU is enabled.\n"
     ]
    },
    {
     "name": "stdout",
     "output_type": "stream",
     "text": [
      "63/63 [==============================] - 0s 3ms/step\n",
      "Trained model with classes  [6, 7]  seed  400\n",
      "Accuracy: 0.919\n"
     ]
    },
    {
     "name": "stderr",
     "output_type": "stream",
     "text": [
      "WARNING:absl:Found untraced functions such as _jit_compiled_convolution_op, _jit_compiled_convolution_op while saving (showing 2 of 2). These functions will not be directly callable after loading.\n"
     ]
    },
    {
     "name": "stdout",
     "output_type": "stream",
     "text": [
      "INFO:tensorflow:Assets written to: lenet_models/cifar10_model_3_400/assets\n"
     ]
    },
    {
     "name": "stderr",
     "output_type": "stream",
     "text": [
      "INFO:tensorflow:Assets written to: lenet_models/cifar10_model_3_400/assets\n",
      "2023-08-05 13:05:10.232054: I tensorflow/core/grappler/optimizers/custom_graph_optimizer_registry.cc:113] Plugin optimizer for device_type GPU is enabled.\n"
     ]
    },
    {
     "name": "stdout",
     "output_type": "stream",
     "text": [
      "Epoch 54: early stopping\n",
      "53/63 [========================>.....] - ETA: 0s"
     ]
    },
    {
     "name": "stderr",
     "output_type": "stream",
     "text": [
      "2023-08-05 13:06:57.735090: I tensorflow/core/grappler/optimizers/custom_graph_optimizer_registry.cc:113] Plugin optimizer for device_type GPU is enabled.\n"
     ]
    },
    {
     "name": "stdout",
     "output_type": "stream",
     "text": [
      "63/63 [==============================] - 0s 3ms/step\n",
      "Trained model with classes  [8, 9]  seed  0\n",
      "Accuracy: 0.9075\n"
     ]
    },
    {
     "name": "stderr",
     "output_type": "stream",
     "text": [
      "WARNING:absl:Found untraced functions such as _jit_compiled_convolution_op, _jit_compiled_convolution_op while saving (showing 2 of 2). These functions will not be directly callable after loading.\n"
     ]
    },
    {
     "name": "stdout",
     "output_type": "stream",
     "text": [
      "INFO:tensorflow:Assets written to: lenet_models/cifar10_model_4_0/assets\n"
     ]
    },
    {
     "name": "stderr",
     "output_type": "stream",
     "text": [
      "INFO:tensorflow:Assets written to: lenet_models/cifar10_model_4_0/assets\n",
      "2023-08-05 13:06:58.526754: I tensorflow/core/grappler/optimizers/custom_graph_optimizer_registry.cc:113] Plugin optimizer for device_type GPU is enabled.\n"
     ]
    },
    {
     "name": "stdout",
     "output_type": "stream",
     "text": [
      "Epoch 71: early stopping\n",
      "49/63 [======================>.......] - ETA: 0s"
     ]
    },
    {
     "name": "stderr",
     "output_type": "stream",
     "text": [
      "2023-08-05 13:09:19.545743: I tensorflow/core/grappler/optimizers/custom_graph_optimizer_registry.cc:113] Plugin optimizer for device_type GPU is enabled.\n"
     ]
    },
    {
     "name": "stdout",
     "output_type": "stream",
     "text": [
      "63/63 [==============================] - 0s 3ms/step\n",
      "Trained model with classes  [8, 9]  seed  100\n",
      "Accuracy: 0.891\n"
     ]
    },
    {
     "name": "stderr",
     "output_type": "stream",
     "text": [
      "WARNING:absl:Found untraced functions such as _jit_compiled_convolution_op, _jit_compiled_convolution_op while saving (showing 2 of 2). These functions will not be directly callable after loading.\n"
     ]
    },
    {
     "name": "stdout",
     "output_type": "stream",
     "text": [
      "INFO:tensorflow:Assets written to: lenet_models/cifar10_model_4_100/assets\n"
     ]
    },
    {
     "name": "stderr",
     "output_type": "stream",
     "text": [
      "INFO:tensorflow:Assets written to: lenet_models/cifar10_model_4_100/assets\n",
      "2023-08-05 13:09:20.343165: I tensorflow/core/grappler/optimizers/custom_graph_optimizer_registry.cc:113] Plugin optimizer for device_type GPU is enabled.\n"
     ]
    },
    {
     "name": "stdout",
     "output_type": "stream",
     "text": [
      "Epoch 67: early stopping\n",
      "48/63 [=====================>........] - ETA: 0s"
     ]
    },
    {
     "name": "stderr",
     "output_type": "stream",
     "text": [
      "2023-08-05 13:11:34.103427: I tensorflow/core/grappler/optimizers/custom_graph_optimizer_registry.cc:113] Plugin optimizer for device_type GPU is enabled.\n"
     ]
    },
    {
     "name": "stdout",
     "output_type": "stream",
     "text": [
      "63/63 [==============================] - 0s 3ms/step\n",
      "Trained model with classes  [8, 9]  seed  200\n",
      "Accuracy: 0.8935\n"
     ]
    },
    {
     "name": "stderr",
     "output_type": "stream",
     "text": [
      "WARNING:absl:Found untraced functions such as _jit_compiled_convolution_op, _jit_compiled_convolution_op while saving (showing 2 of 2). These functions will not be directly callable after loading.\n"
     ]
    },
    {
     "name": "stdout",
     "output_type": "stream",
     "text": [
      "INFO:tensorflow:Assets written to: lenet_models/cifar10_model_4_200/assets\n"
     ]
    },
    {
     "name": "stderr",
     "output_type": "stream",
     "text": [
      "INFO:tensorflow:Assets written to: lenet_models/cifar10_model_4_200/assets\n",
      "2023-08-05 13:11:34.916583: I tensorflow/core/grappler/optimizers/custom_graph_optimizer_registry.cc:113] Plugin optimizer for device_type GPU is enabled.\n"
     ]
    },
    {
     "name": "stdout",
     "output_type": "stream",
     "text": [
      "Epoch 77: early stopping\n",
      "49/63 [======================>.......] - ETA: 0s"
     ]
    },
    {
     "name": "stderr",
     "output_type": "stream",
     "text": [
      "2023-08-05 13:14:07.706933: I tensorflow/core/grappler/optimizers/custom_graph_optimizer_registry.cc:113] Plugin optimizer for device_type GPU is enabled.\n"
     ]
    },
    {
     "name": "stdout",
     "output_type": "stream",
     "text": [
      "63/63 [==============================] - 0s 3ms/step\n",
      "Trained model with classes  [8, 9]  seed  300\n",
      "Accuracy: 0.91\n"
     ]
    },
    {
     "name": "stderr",
     "output_type": "stream",
     "text": [
      "WARNING:absl:Found untraced functions such as _jit_compiled_convolution_op, _jit_compiled_convolution_op while saving (showing 2 of 2). These functions will not be directly callable after loading.\n"
     ]
    },
    {
     "name": "stdout",
     "output_type": "stream",
     "text": [
      "INFO:tensorflow:Assets written to: lenet_models/cifar10_model_4_300/assets\n"
     ]
    },
    {
     "name": "stderr",
     "output_type": "stream",
     "text": [
      "INFO:tensorflow:Assets written to: lenet_models/cifar10_model_4_300/assets\n",
      "2023-08-05 13:14:08.511720: I tensorflow/core/grappler/optimizers/custom_graph_optimizer_registry.cc:113] Plugin optimizer for device_type GPU is enabled.\n"
     ]
    },
    {
     "name": "stdout",
     "output_type": "stream",
     "text": [
      "Epoch 59: early stopping\n",
      "49/63 [======================>.......] - ETA: 0s"
     ]
    },
    {
     "name": "stderr",
     "output_type": "stream",
     "text": [
      "2023-08-05 13:16:05.557825: I tensorflow/core/grappler/optimizers/custom_graph_optimizer_registry.cc:113] Plugin optimizer for device_type GPU is enabled.\n"
     ]
    },
    {
     "name": "stdout",
     "output_type": "stream",
     "text": [
      "63/63 [==============================] - 0s 3ms/step\n",
      "Trained model with classes  [8, 9]  seed  400\n",
      "Accuracy: 0.901\n"
     ]
    },
    {
     "name": "stderr",
     "output_type": "stream",
     "text": [
      "WARNING:absl:Found untraced functions such as _jit_compiled_convolution_op, _jit_compiled_convolution_op while saving (showing 2 of 2). These functions will not be directly callable after loading.\n"
     ]
    },
    {
     "name": "stdout",
     "output_type": "stream",
     "text": [
      "INFO:tensorflow:Assets written to: lenet_models/cifar10_model_4_400/assets\n"
     ]
    },
    {
     "name": "stderr",
     "output_type": "stream",
     "text": [
      "INFO:tensorflow:Assets written to: lenet_models/cifar10_model_4_400/assets\n"
     ]
    }
   ],
   "source": [
    "### train LeNet5 ###\n",
    "\n",
    "for task, classes in enumerate(classes_to_consider):\n",
    "    (x_train, y_train), (x_test, y_test), _ = get_data(classes)\n",
    "    input_shape = x_train[0].shape\n",
    "    for seed in seeds:\n",
    "        np.random.seed(seed)\n",
    "        nn = getLeNet(input_shape, num_classes=len(np.unique(y_train)))\n",
    "        nn.compile(**compile_kwargs)\n",
    "        history = nn.fit(x_train, keras.utils.to_categorical(y_train), **fit_kwargs)\n",
    "        \n",
    "        y_pred = np.argmax(nn.predict(x_test), axis=1)\n",
    "        print('Trained model with classes ', classes, ' seed ', seed)\n",
    "        print('Accuracy:', np.mean(y_pred==y_test.reshape(-1)))\n",
    "        nn.save('lenet_models/cifar10_model_'+str(task)+'_'+str(seed))"
   ]
  },
  {
   "cell_type": "code",
   "execution_count": 156,
   "id": "be8da2c5",
   "metadata": {},
   "outputs": [
    {
     "name": "stdout",
     "output_type": "stream",
     "text": [
      "Training cifar10_model_0_0\n"
     ]
    },
    {
     "name": "stderr",
     "output_type": "stream",
     "text": [
      "WARNING:absl:Found untraced functions such as _jit_compiled_convolution_op, _jit_compiled_convolution_op while saving (showing 2 of 2). These functions will not be directly callable after loading.\n"
     ]
    },
    {
     "name": "stdout",
     "output_type": "stream",
     "text": [
      "INFO:tensorflow:Assets written to: ram://27f7c601-963c-4753-874b-f792cb6880c6/assets\n"
     ]
    },
    {
     "name": "stderr",
     "output_type": "stream",
     "text": [
      "INFO:tensorflow:Assets written to: ram://27f7c601-963c-4753-874b-f792cb6880c6/assets\n"
     ]
    },
    {
     "name": "stdout",
     "output_type": "stream",
     "text": [
      "Training cifar10_model_0_100\n"
     ]
    },
    {
     "name": "stderr",
     "output_type": "stream",
     "text": [
      "WARNING:absl:Found untraced functions such as _jit_compiled_convolution_op, _jit_compiled_convolution_op while saving (showing 2 of 2). These functions will not be directly callable after loading.\n"
     ]
    },
    {
     "name": "stdout",
     "output_type": "stream",
     "text": [
      "INFO:tensorflow:Assets written to: ram://dec1be89-0665-42cf-9907-7c7fd7f46cbc/assets\n"
     ]
    },
    {
     "name": "stderr",
     "output_type": "stream",
     "text": [
      "INFO:tensorflow:Assets written to: ram://dec1be89-0665-42cf-9907-7c7fd7f46cbc/assets\n"
     ]
    },
    {
     "name": "stdout",
     "output_type": "stream",
     "text": [
      "Training cifar10_model_0_200\n"
     ]
    },
    {
     "name": "stderr",
     "output_type": "stream",
     "text": [
      "WARNING:absl:Found untraced functions such as _jit_compiled_convolution_op, _jit_compiled_convolution_op while saving (showing 2 of 2). These functions will not be directly callable after loading.\n"
     ]
    },
    {
     "name": "stdout",
     "output_type": "stream",
     "text": [
      "INFO:tensorflow:Assets written to: ram://96453b34-e7ff-470b-ad88-5f020eef3fca/assets\n"
     ]
    },
    {
     "name": "stderr",
     "output_type": "stream",
     "text": [
      "INFO:tensorflow:Assets written to: ram://96453b34-e7ff-470b-ad88-5f020eef3fca/assets\n"
     ]
    },
    {
     "name": "stdout",
     "output_type": "stream",
     "text": [
      "Training cifar10_model_0_300\n"
     ]
    },
    {
     "name": "stderr",
     "output_type": "stream",
     "text": [
      "WARNING:absl:Found untraced functions such as _jit_compiled_convolution_op, _jit_compiled_convolution_op while saving (showing 2 of 2). These functions will not be directly callable after loading.\n"
     ]
    },
    {
     "name": "stdout",
     "output_type": "stream",
     "text": [
      "INFO:tensorflow:Assets written to: ram://25ace94e-74e9-4a41-a9df-5cb3e0d05ad9/assets\n"
     ]
    },
    {
     "name": "stderr",
     "output_type": "stream",
     "text": [
      "INFO:tensorflow:Assets written to: ram://25ace94e-74e9-4a41-a9df-5cb3e0d05ad9/assets\n"
     ]
    },
    {
     "name": "stdout",
     "output_type": "stream",
     "text": [
      "Training cifar10_model_0_400\n"
     ]
    },
    {
     "name": "stderr",
     "output_type": "stream",
     "text": [
      "WARNING:absl:Found untraced functions such as _jit_compiled_convolution_op, _jit_compiled_convolution_op while saving (showing 2 of 2). These functions will not be directly callable after loading.\n"
     ]
    },
    {
     "name": "stdout",
     "output_type": "stream",
     "text": [
      "INFO:tensorflow:Assets written to: ram://8e83da3b-cf73-4927-a74a-19c1763aa1f2/assets\n"
     ]
    },
    {
     "name": "stderr",
     "output_type": "stream",
     "text": [
      "INFO:tensorflow:Assets written to: ram://8e83da3b-cf73-4927-a74a-19c1763aa1f2/assets\n"
     ]
    },
    {
     "name": "stdout",
     "output_type": "stream",
     "text": [
      "Training cifar10_model_1_0\n"
     ]
    },
    {
     "name": "stderr",
     "output_type": "stream",
     "text": [
      "WARNING:absl:Found untraced functions such as _jit_compiled_convolution_op, _jit_compiled_convolution_op while saving (showing 2 of 2). These functions will not be directly callable after loading.\n"
     ]
    },
    {
     "name": "stdout",
     "output_type": "stream",
     "text": [
      "INFO:tensorflow:Assets written to: ram://33db1ccb-93ed-4866-9825-c359c53d9204/assets\n"
     ]
    },
    {
     "name": "stderr",
     "output_type": "stream",
     "text": [
      "INFO:tensorflow:Assets written to: ram://33db1ccb-93ed-4866-9825-c359c53d9204/assets\n"
     ]
    },
    {
     "name": "stdout",
     "output_type": "stream",
     "text": [
      "Training cifar10_model_1_100\n"
     ]
    },
    {
     "name": "stderr",
     "output_type": "stream",
     "text": [
      "WARNING:absl:Found untraced functions such as _jit_compiled_convolution_op, _jit_compiled_convolution_op while saving (showing 2 of 2). These functions will not be directly callable after loading.\n"
     ]
    },
    {
     "name": "stdout",
     "output_type": "stream",
     "text": [
      "INFO:tensorflow:Assets written to: ram://2f5e079c-9253-4369-aa7a-d4c991e9e740/assets\n"
     ]
    },
    {
     "name": "stderr",
     "output_type": "stream",
     "text": [
      "INFO:tensorflow:Assets written to: ram://2f5e079c-9253-4369-aa7a-d4c991e9e740/assets\n"
     ]
    },
    {
     "name": "stdout",
     "output_type": "stream",
     "text": [
      "Training cifar10_model_1_200\n"
     ]
    },
    {
     "name": "stderr",
     "output_type": "stream",
     "text": [
      "WARNING:absl:Found untraced functions such as _jit_compiled_convolution_op, _jit_compiled_convolution_op while saving (showing 2 of 2). These functions will not be directly callable after loading.\n"
     ]
    },
    {
     "name": "stdout",
     "output_type": "stream",
     "text": [
      "INFO:tensorflow:Assets written to: ram://02a3f1a4-bcba-4c37-a9e7-b068480337c2/assets\n"
     ]
    },
    {
     "name": "stderr",
     "output_type": "stream",
     "text": [
      "INFO:tensorflow:Assets written to: ram://02a3f1a4-bcba-4c37-a9e7-b068480337c2/assets\n"
     ]
    },
    {
     "name": "stdout",
     "output_type": "stream",
     "text": [
      "Training cifar10_model_1_300\n"
     ]
    },
    {
     "name": "stderr",
     "output_type": "stream",
     "text": [
      "WARNING:absl:Found untraced functions such as _jit_compiled_convolution_op, _jit_compiled_convolution_op while saving (showing 2 of 2). These functions will not be directly callable after loading.\n"
     ]
    },
    {
     "name": "stdout",
     "output_type": "stream",
     "text": [
      "INFO:tensorflow:Assets written to: ram://ab7e55c5-84a7-4440-b5d2-015f6a90ccdf/assets\n"
     ]
    },
    {
     "name": "stderr",
     "output_type": "stream",
     "text": [
      "INFO:tensorflow:Assets written to: ram://ab7e55c5-84a7-4440-b5d2-015f6a90ccdf/assets\n"
     ]
    },
    {
     "name": "stdout",
     "output_type": "stream",
     "text": [
      "Training cifar10_model_1_400\n"
     ]
    },
    {
     "name": "stderr",
     "output_type": "stream",
     "text": [
      "WARNING:absl:Found untraced functions such as _jit_compiled_convolution_op, _jit_compiled_convolution_op while saving (showing 2 of 2). These functions will not be directly callable after loading.\n"
     ]
    },
    {
     "name": "stdout",
     "output_type": "stream",
     "text": [
      "INFO:tensorflow:Assets written to: ram://5a3bd5cd-7117-4482-be20-f18df0ce3587/assets\n"
     ]
    },
    {
     "name": "stderr",
     "output_type": "stream",
     "text": [
      "INFO:tensorflow:Assets written to: ram://5a3bd5cd-7117-4482-be20-f18df0ce3587/assets\n"
     ]
    },
    {
     "name": "stdout",
     "output_type": "stream",
     "text": [
      "Training cifar10_model_2_0\n"
     ]
    },
    {
     "name": "stderr",
     "output_type": "stream",
     "text": [
      "WARNING:absl:Found untraced functions such as _jit_compiled_convolution_op, _jit_compiled_convolution_op while saving (showing 2 of 2). These functions will not be directly callable after loading.\n"
     ]
    },
    {
     "name": "stdout",
     "output_type": "stream",
     "text": [
      "INFO:tensorflow:Assets written to: ram://7ba1bf62-0de7-4f3b-8568-5df538f6e5fd/assets\n"
     ]
    },
    {
     "name": "stderr",
     "output_type": "stream",
     "text": [
      "INFO:tensorflow:Assets written to: ram://7ba1bf62-0de7-4f3b-8568-5df538f6e5fd/assets\n"
     ]
    },
    {
     "name": "stdout",
     "output_type": "stream",
     "text": [
      "Training cifar10_model_2_100\n"
     ]
    },
    {
     "name": "stderr",
     "output_type": "stream",
     "text": [
      "WARNING:absl:Found untraced functions such as _jit_compiled_convolution_op, _jit_compiled_convolution_op while saving (showing 2 of 2). These functions will not be directly callable after loading.\n"
     ]
    },
    {
     "name": "stdout",
     "output_type": "stream",
     "text": [
      "INFO:tensorflow:Assets written to: ram://973cc294-7a5c-4322-9f0e-f1d227a4dc0a/assets\n"
     ]
    },
    {
     "name": "stderr",
     "output_type": "stream",
     "text": [
      "INFO:tensorflow:Assets written to: ram://973cc294-7a5c-4322-9f0e-f1d227a4dc0a/assets\n"
     ]
    },
    {
     "name": "stdout",
     "output_type": "stream",
     "text": [
      "Training cifar10_model_2_200\n"
     ]
    },
    {
     "name": "stderr",
     "output_type": "stream",
     "text": [
      "WARNING:absl:Found untraced functions such as _jit_compiled_convolution_op, _jit_compiled_convolution_op while saving (showing 2 of 2). These functions will not be directly callable after loading.\n"
     ]
    },
    {
     "name": "stdout",
     "output_type": "stream",
     "text": [
      "INFO:tensorflow:Assets written to: ram://a16fa23e-1585-4ba3-b842-07d4be41b23b/assets\n"
     ]
    },
    {
     "name": "stderr",
     "output_type": "stream",
     "text": [
      "INFO:tensorflow:Assets written to: ram://a16fa23e-1585-4ba3-b842-07d4be41b23b/assets\n"
     ]
    },
    {
     "name": "stdout",
     "output_type": "stream",
     "text": [
      "Training cifar10_model_2_300\n"
     ]
    },
    {
     "name": "stderr",
     "output_type": "stream",
     "text": [
      "WARNING:absl:Found untraced functions such as _jit_compiled_convolution_op, _jit_compiled_convolution_op while saving (showing 2 of 2). These functions will not be directly callable after loading.\n"
     ]
    },
    {
     "name": "stdout",
     "output_type": "stream",
     "text": [
      "INFO:tensorflow:Assets written to: ram://74f14642-6974-4697-8232-65fa77a2c0e4/assets\n"
     ]
    },
    {
     "name": "stderr",
     "output_type": "stream",
     "text": [
      "INFO:tensorflow:Assets written to: ram://74f14642-6974-4697-8232-65fa77a2c0e4/assets\n"
     ]
    },
    {
     "name": "stdout",
     "output_type": "stream",
     "text": [
      "Training cifar10_model_2_400\n"
     ]
    },
    {
     "name": "stderr",
     "output_type": "stream",
     "text": [
      "WARNING:absl:Found untraced functions such as _jit_compiled_convolution_op, _jit_compiled_convolution_op while saving (showing 2 of 2). These functions will not be directly callable after loading.\n"
     ]
    },
    {
     "name": "stdout",
     "output_type": "stream",
     "text": [
      "INFO:tensorflow:Assets written to: ram://14a4201f-610a-4410-a32c-56e303109a16/assets\n"
     ]
    },
    {
     "name": "stderr",
     "output_type": "stream",
     "text": [
      "INFO:tensorflow:Assets written to: ram://14a4201f-610a-4410-a32c-56e303109a16/assets\n"
     ]
    },
    {
     "name": "stdout",
     "output_type": "stream",
     "text": [
      "Training cifar10_model_3_0\n"
     ]
    },
    {
     "name": "stderr",
     "output_type": "stream",
     "text": [
      "WARNING:absl:Found untraced functions such as _jit_compiled_convolution_op, _jit_compiled_convolution_op while saving (showing 2 of 2). These functions will not be directly callable after loading.\n"
     ]
    },
    {
     "name": "stdout",
     "output_type": "stream",
     "text": [
      "INFO:tensorflow:Assets written to: ram://faf02df4-c8ae-4e02-9a0e-55412bdaf12d/assets\n"
     ]
    },
    {
     "name": "stderr",
     "output_type": "stream",
     "text": [
      "INFO:tensorflow:Assets written to: ram://faf02df4-c8ae-4e02-9a0e-55412bdaf12d/assets\n"
     ]
    },
    {
     "name": "stdout",
     "output_type": "stream",
     "text": [
      "Training cifar10_model_3_100\n"
     ]
    },
    {
     "name": "stderr",
     "output_type": "stream",
     "text": [
      "WARNING:absl:Found untraced functions such as _jit_compiled_convolution_op, _jit_compiled_convolution_op while saving (showing 2 of 2). These functions will not be directly callable after loading.\n"
     ]
    },
    {
     "name": "stdout",
     "output_type": "stream",
     "text": [
      "INFO:tensorflow:Assets written to: ram://c9818a6f-5bbf-4f66-ad94-5ca1d383baeb/assets\n"
     ]
    },
    {
     "name": "stderr",
     "output_type": "stream",
     "text": [
      "INFO:tensorflow:Assets written to: ram://c9818a6f-5bbf-4f66-ad94-5ca1d383baeb/assets\n"
     ]
    },
    {
     "name": "stdout",
     "output_type": "stream",
     "text": [
      "Training cifar10_model_3_200\n"
     ]
    },
    {
     "name": "stderr",
     "output_type": "stream",
     "text": [
      "WARNING:absl:Found untraced functions such as _jit_compiled_convolution_op, _jit_compiled_convolution_op while saving (showing 2 of 2). These functions will not be directly callable after loading.\n"
     ]
    },
    {
     "name": "stdout",
     "output_type": "stream",
     "text": [
      "INFO:tensorflow:Assets written to: ram://92e6ab8e-47c3-4115-9c18-113fed0670e7/assets\n"
     ]
    },
    {
     "name": "stderr",
     "output_type": "stream",
     "text": [
      "INFO:tensorflow:Assets written to: ram://92e6ab8e-47c3-4115-9c18-113fed0670e7/assets\n"
     ]
    },
    {
     "name": "stdout",
     "output_type": "stream",
     "text": [
      "Training cifar10_model_3_300\n"
     ]
    },
    {
     "name": "stderr",
     "output_type": "stream",
     "text": [
      "WARNING:absl:Found untraced functions such as _jit_compiled_convolution_op, _jit_compiled_convolution_op while saving (showing 2 of 2). These functions will not be directly callable after loading.\n"
     ]
    },
    {
     "name": "stdout",
     "output_type": "stream",
     "text": [
      "INFO:tensorflow:Assets written to: ram://26021851-62a8-4528-a84f-d913f8a07b1f/assets\n"
     ]
    },
    {
     "name": "stderr",
     "output_type": "stream",
     "text": [
      "INFO:tensorflow:Assets written to: ram://26021851-62a8-4528-a84f-d913f8a07b1f/assets\n"
     ]
    },
    {
     "name": "stdout",
     "output_type": "stream",
     "text": [
      "Training cifar10_model_3_400\n"
     ]
    },
    {
     "name": "stderr",
     "output_type": "stream",
     "text": [
      "WARNING:absl:Found untraced functions such as _jit_compiled_convolution_op, _jit_compiled_convolution_op while saving (showing 2 of 2). These functions will not be directly callable after loading.\n"
     ]
    },
    {
     "name": "stdout",
     "output_type": "stream",
     "text": [
      "INFO:tensorflow:Assets written to: ram://c7eaee21-c6a6-4854-abe2-cb03a43eba61/assets\n"
     ]
    },
    {
     "name": "stderr",
     "output_type": "stream",
     "text": [
      "INFO:tensorflow:Assets written to: ram://c7eaee21-c6a6-4854-abe2-cb03a43eba61/assets\n"
     ]
    },
    {
     "name": "stdout",
     "output_type": "stream",
     "text": [
      "Training cifar10_model_4_0\n"
     ]
    },
    {
     "name": "stderr",
     "output_type": "stream",
     "text": [
      "WARNING:absl:Found untraced functions such as _jit_compiled_convolution_op, _jit_compiled_convolution_op while saving (showing 2 of 2). These functions will not be directly callable after loading.\n"
     ]
    },
    {
     "name": "stdout",
     "output_type": "stream",
     "text": [
      "INFO:tensorflow:Assets written to: ram://87ec9631-e4d2-465b-a59a-898845a097a1/assets\n"
     ]
    },
    {
     "name": "stderr",
     "output_type": "stream",
     "text": [
      "INFO:tensorflow:Assets written to: ram://87ec9631-e4d2-465b-a59a-898845a097a1/assets\n"
     ]
    },
    {
     "name": "stdout",
     "output_type": "stream",
     "text": [
      "Training cifar10_model_4_100\n"
     ]
    },
    {
     "name": "stderr",
     "output_type": "stream",
     "text": [
      "WARNING:absl:Found untraced functions such as _jit_compiled_convolution_op, _jit_compiled_convolution_op while saving (showing 2 of 2). These functions will not be directly callable after loading.\n"
     ]
    },
    {
     "name": "stdout",
     "output_type": "stream",
     "text": [
      "INFO:tensorflow:Assets written to: ram://5d3f5afe-b54f-4190-8e22-1cfbfe7ab456/assets\n"
     ]
    },
    {
     "name": "stderr",
     "output_type": "stream",
     "text": [
      "INFO:tensorflow:Assets written to: ram://5d3f5afe-b54f-4190-8e22-1cfbfe7ab456/assets\n"
     ]
    },
    {
     "name": "stdout",
     "output_type": "stream",
     "text": [
      "Training cifar10_model_4_200\n"
     ]
    },
    {
     "name": "stderr",
     "output_type": "stream",
     "text": [
      "WARNING:absl:Found untraced functions such as _jit_compiled_convolution_op, _jit_compiled_convolution_op while saving (showing 2 of 2). These functions will not be directly callable after loading.\n"
     ]
    },
    {
     "name": "stdout",
     "output_type": "stream",
     "text": [
      "INFO:tensorflow:Assets written to: ram://e70a6457-2d65-4670-94e9-de18daff777a/assets\n"
     ]
    },
    {
     "name": "stderr",
     "output_type": "stream",
     "text": [
      "INFO:tensorflow:Assets written to: ram://e70a6457-2d65-4670-94e9-de18daff777a/assets\n"
     ]
    },
    {
     "name": "stdout",
     "output_type": "stream",
     "text": [
      "Training cifar10_model_4_300\n"
     ]
    },
    {
     "name": "stderr",
     "output_type": "stream",
     "text": [
      "WARNING:absl:Found untraced functions such as _jit_compiled_convolution_op, _jit_compiled_convolution_op while saving (showing 2 of 2). These functions will not be directly callable after loading.\n"
     ]
    },
    {
     "name": "stdout",
     "output_type": "stream",
     "text": [
      "INFO:tensorflow:Assets written to: ram://1c58355c-0dd6-4d69-921f-af54eda051ef/assets\n"
     ]
    },
    {
     "name": "stderr",
     "output_type": "stream",
     "text": [
      "INFO:tensorflow:Assets written to: ram://1c58355c-0dd6-4d69-921f-af54eda051ef/assets\n"
     ]
    },
    {
     "name": "stdout",
     "output_type": "stream",
     "text": [
      "Training cifar10_model_4_400\n"
     ]
    },
    {
     "name": "stderr",
     "output_type": "stream",
     "text": [
      "WARNING:absl:Found untraced functions such as _jit_compiled_convolution_op, _jit_compiled_convolution_op while saving (showing 2 of 2). These functions will not be directly callable after loading.\n"
     ]
    },
    {
     "name": "stdout",
     "output_type": "stream",
     "text": [
      "INFO:tensorflow:Assets written to: ram://f7937c33-4c3a-4de4-bd87-2f0998185111/assets\n"
     ]
    },
    {
     "name": "stderr",
     "output_type": "stream",
     "text": [
      "INFO:tensorflow:Assets written to: ram://f7937c33-4c3a-4de4-bd87-2f0998185111/assets\n"
     ]
    }
   ],
   "source": [
    "### load models and train kgn ###\n",
    "for task, classes in enumerate(classes_to_consider):\n",
    "    (x_train, y_train), (x_test, y_test), _ = get_data(classes)\n",
    "    for seed in seeds:\n",
    "        print('Training cifar10_model_'+str(task)+'_'+str(seed))\n",
    "        nn = keras.models.load_model('lenet_models/cifar10_model_'+str(task)+'_'+str(seed))\n",
    "        model_kdn = kdn(network=nn)\n",
    "        model_kdn.fit(x_train, y_train, batch=10)\n",
    "        model_kdn.global_bias = -1e7\n",
    "        \n",
    "        with open('kdn_models/cifar10_model_'+str(task)+'_'+str(seed)+'.pickle', 'wb') as f:\n",
    "            pickle.dump(model_kdn, f)"
   ]
  },
  {
   "cell_type": "code",
   "execution_count": 290,
   "id": "6ff686c4",
   "metadata": {},
   "outputs": [
    {
     "name": "stdout",
     "output_type": "stream",
     "text": [
      "Testing cifar10_model_4_0\n",
      "45/63 [====================>.........] - ETA: 0s"
     ]
    },
    {
     "name": "stderr",
     "output_type": "stream",
     "text": [
      "2023-08-06 21:03:00.344907: I tensorflow/core/grappler/optimizers/custom_graph_optimizer_registry.cc:113] Plugin optimizer for device_type GPU is enabled.\n"
     ]
    },
    {
     "name": "stdout",
     "output_type": "stream",
     "text": [
      "63/63 [==============================] - 0s 3ms/step\n",
      "Task  0  MMC  0.63425\n",
      "Task  0  MMC  0.984582\n",
      "63/63 [==============================] - 0s 2ms/step\n",
      "Task  1  MMC  0.5855\n",
      "Task  1  MMC  0.98345083\n",
      "63/63 [==============================] - 0s 2ms/step\n",
      "Task  2  MMC  0.57175\n",
      "Task  2  MMC  0.98090553\n",
      "63/63 [==============================] - 0s 2ms/step\n",
      "Task  3  MMC  0.5565\n",
      "Task  3  MMC  0.9857606\n",
      "63/63 [==============================] - 0s 2ms/step\n",
      "Task  4  MMC  1.0\n",
      "Task  4  MMC  0.99165344\n",
      "63/63 [==============================] - 0s 2ms/step\n",
      "cifar100  MMC  0.5925\n",
      "cifar100  MMC  0.98549473\n",
      "63/63 [==============================] - 0s 2ms/step\n",
      "svhn  MMC  0.5\n",
      "svhn  MMC  1.0\n",
      "63/63 [==============================] - 0s 2ms/step\n",
      "noise  MMC  0.5\n",
      "noise  MMC  1.0\n",
      "Testing cifar10_model_4_100\n",
      "43/63 [===================>..........] - ETA: 0s"
     ]
    },
    {
     "name": "stderr",
     "output_type": "stream",
     "text": [
      "2023-08-06 21:32:58.895581: I tensorflow/core/grappler/optimizers/custom_graph_optimizer_registry.cc:113] Plugin optimizer for device_type GPU is enabled.\n"
     ]
    },
    {
     "name": "stdout",
     "output_type": "stream",
     "text": [
      "63/63 [==============================] - 0s 3ms/step\n",
      "Task  0  MMC  0.6234999994304435\n",
      "Task  0  MMC  0.9842139\n",
      "63/63 [==============================] - 0s 2ms/step\n",
      "Task  1  MMC  0.566999999385814\n",
      "Task  1  MMC  0.9761731\n",
      "63/63 [==============================] - 0s 2ms/step\n",
      "Task  2  MMC  0.5572499997636845\n",
      "Task  2  MMC  0.9763956\n",
      "63/63 [==============================] - 0s 2ms/step\n",
      "Task  3  MMC  0.5259999995310711\n",
      "Task  3  MMC  0.9861787\n",
      "63/63 [==============================] - 0s 2ms/step\n",
      "Task  4  MMC  0.9987496965325479\n",
      "Task  4  MMC  0.98900294\n",
      "63/63 [==============================] - 0s 2ms/step\n",
      "cifar100  MMC  0.5747499984063565\n",
      "cifar100  MMC  0.9817464\n",
      "63/63 [==============================] - 0s 2ms/step\n",
      "svhn  MMC  0.5\n",
      "svhn  MMC  0.99998266\n",
      "63/63 [==============================] - 0s 2ms/step\n",
      "noise  MMC  0.5\n",
      "noise  MMC  0.99999785\n",
      "Testing cifar10_model_4_200\n",
      "47/63 [=====================>........] - ETA: 0s"
     ]
    },
    {
     "name": "stderr",
     "output_type": "stream",
     "text": [
      "2023-08-06 22:02:58.991578: I tensorflow/core/grappler/optimizers/custom_graph_optimizer_registry.cc:113] Plugin optimizer for device_type GPU is enabled.\n"
     ]
    },
    {
     "name": "stdout",
     "output_type": "stream",
     "text": [
      "63/63 [==============================] - 0s 3ms/step\n",
      "Task  0  MMC  0.6157499957714458\n",
      "Task  0  MMC  0.9818019\n",
      "63/63 [==============================] - 0s 2ms/step\n",
      "Task  1  MMC  0.5509999890359346\n",
      "Task  1  MMC  0.98014814\n",
      "63/63 [==============================] - 0s 2ms/step\n",
      "Task  2  MMC  0.5357499944042577\n",
      "Task  2  MMC  0.9787869\n",
      "63/63 [==============================] - 0s 2ms/step\n",
      "Task  3  MMC  0.5172499889101186\n",
      "Task  3  MMC  0.9811169\n",
      "63/63 [==============================] - 0s 2ms/step\n",
      "Task  4  MMC  0.9964999778742357\n",
      "Task  4  MMC  0.98894745\n",
      "63/63 [==============================] - 0s 2ms/step\n",
      "cifar100  MMC  0.5632499903945133\n",
      "cifar100  MMC  0.98223597\n",
      "63/63 [==============================] - 0s 2ms/step\n",
      "svhn  MMC  0.5\n",
      "svhn  MMC  1.0\n",
      "63/63 [==============================] - 0s 2ms/step\n",
      "noise  MMC  0.5\n",
      "noise  MMC  1.0\n",
      "Testing cifar10_model_4_300\n",
      "46/63 [====================>.........] - ETA: 0s"
     ]
    },
    {
     "name": "stderr",
     "output_type": "stream",
     "text": [
      "2023-08-06 22:33:00.825562: I tensorflow/core/grappler/optimizers/custom_graph_optimizer_registry.cc:113] Plugin optimizer for device_type GPU is enabled.\n"
     ]
    },
    {
     "name": "stdout",
     "output_type": "stream",
     "text": [
      "63/63 [==============================] - 0s 3ms/step\n",
      "Task  0  MMC  0.6102499822160667\n",
      "Task  0  MMC  0.9863655\n",
      "63/63 [==============================] - 0s 2ms/step\n",
      "Task  1  MMC  0.544249992099514\n",
      "Task  1  MMC  0.9808528\n",
      "63/63 [==============================] - 0s 2ms/step\n",
      "Task  2  MMC  0.5234999943706931\n",
      "Task  2  MMC  0.9807631\n",
      "63/63 [==============================] - 0s 2ms/step\n",
      "Task  3  MMC  0.5117499999501675\n",
      "Task  3  MMC  0.98480844\n",
      "63/63 [==============================] - 0s 2ms/step\n",
      "Task  4  MMC  0.9992499953289462\n",
      "Task  4  MMC  0.9918025\n",
      "63/63 [==============================] - 0s 2ms/step\n",
      "cifar100  MMC  0.5484999901989499\n",
      "cifar100  MMC  0.98246616\n",
      "63/63 [==============================] - 0s 2ms/step\n",
      "svhn  MMC  0.5\n",
      "svhn  MMC  1.0\n",
      "63/63 [==============================] - 0s 2ms/step\n",
      "noise  MMC  0.5\n",
      "noise  MMC  1.0\n",
      "Testing cifar10_model_4_400\n",
      "44/63 [===================>..........] - ETA: 0s"
     ]
    },
    {
     "name": "stderr",
     "output_type": "stream",
     "text": [
      "2023-08-06 23:03:13.233433: I tensorflow/core/grappler/optimizers/custom_graph_optimizer_registry.cc:113] Plugin optimizer for device_type GPU is enabled.\n"
     ]
    },
    {
     "name": "stdout",
     "output_type": "stream",
     "text": [
      "63/63 [==============================] - 0s 3ms/step\n",
      "Task  0  MMC  0.6102499963465271\n",
      "Task  0  MMC  0.98233944\n",
      "63/63 [==============================] - 0s 2ms/step\n",
      "Task  1  MMC  0.5517499935319189\n",
      "Task  1  MMC  0.9756949\n",
      "63/63 [==============================] - 0s 2ms/step\n",
      "Task  2  MMC  0.5357499977950623\n",
      "Task  2  MMC  0.97922254\n",
      "63/63 [==============================] - 0s 2ms/step\n",
      "Task  3  MMC  0.5184999896977447\n",
      "Task  3  MMC  0.9867698\n",
      "63/63 [==============================] - 0s 2ms/step\n",
      "Task  4  MMC  0.9989999425713275\n",
      "Task  4  MMC  0.989826\n",
      "63/63 [==============================] - 0s 2ms/step\n",
      "cifar100  MMC  0.5579999906746194\n",
      "cifar100  MMC  0.98161453\n",
      "63/63 [==============================] - 0s 2ms/step\n",
      "svhn  MMC  0.5\n",
      "svhn  MMC  1.0\n",
      "63/63 [==============================] - 0s 2ms/step\n",
      "noise  MMC  0.5\n",
      "noise  MMC  1.0\n"
     ]
    }
   ],
   "source": [
    "subtract_pixel_mean = False\n",
    "normalize = False\n",
    "\n",
    "for task, classes in enumerate(classes_to_consider):        \n",
    "    for seed in seeds:\n",
    "        print('Testing cifar10_model_'+str(task)+'_'+str(seed))\n",
    "        \n",
    "        np.random.seed(seed)\n",
    "        result = []\n",
    "        proba_kdn = {}\n",
    "        proba_dn = {}\n",
    "        predicted_label_kdn = {}\n",
    "        predicted_label_dn = {}\n",
    "        \n",
    "        (_, _), (_, _), train_mean = get_data(classes)\n",
    "        with open('kdn_models/cifar10_model_'+str(task)+'_'+str(seed)+'.pickle', 'rb') as f:\n",
    "            model_kdn = pickle.load(f)\n",
    "            \n",
    "        for task_, classes_ in enumerate(classes_to_consider):         \n",
    "            (_, _), (x_test, y_test), _ = get_data(classes_)\n",
    "            x_test -= trn_mean\n",
    "            \n",
    "            proba_kdn['Task '+str(task_)] = model_kdn.predict_proba(x_test, distance='Geodesic')\n",
    "            proba_dn['Task '+str(task_)] = model_kdn.network.predict(x_test)\n",
    "            predicted_label_kdn['Task '+str(task_)] = np.argmax(proba_kdn['Task '+str(task_)], axis = 1)\n",
    "            predicted_label_dn['Task '+str(task_)] = np.argmax(proba_dn['Task '+str(task_)], axis = 1)\n",
    "            print('Task ', task_, ' MMC ', np.mean(np.max(proba_kdn['Task '+str(task_)], axis=1)))\n",
    "            print('Task ', task_, ' MMC ', np.mean(np.max(proba_dn['Task '+str(task_)], axis=1)))\n",
    "        \n",
    "        model_kdn.global_bias = -1e7\n",
    "        (_, _), (x_test, y_test) = keras.datasets.cifar100.load_data()\n",
    "        test_ids =  random.sample(range(0, x_test.shape[0]), 2000)\n",
    "        x_test = x_test[test_ids].astype('float32')\n",
    "        x_test -= trn_mean\n",
    "        proba_kdn['cifar100'] = model_kdn.predict_proba(x_test, distance='Geodesic')\n",
    "        proba_dn['cifar100'] = model_kdn.network.predict(x_test)\n",
    "        predicted_label_kdn['cifar100'] = np.argmax(proba_kdn['cifar100'], axis = 1)\n",
    "        predicted_label_dn['cifar100'] = np.argmax(proba_dn['cifar100'], axis = 1)\n",
    "        print('cifar100', ' MMC ', np.mean(np.max(proba_kdn['cifar100'], axis=1)))\n",
    "        print('cifar100', ' MMC ', np.mean(np.max(proba_dn['cifar100'], axis=1)))\n",
    "        \n",
    "        x_test = loadmat('/Users/jayantadey/svhn/train_32x32.mat')['X']\n",
    "        test_ids =  random.sample(range(0, x_test.shape[3]), 2000)\n",
    "        x_test = x_test[:,:,:,test_ids].astype('float32').reshape(2000,32,32,3)\n",
    "        x_test -= trn_mean\n",
    "        proba_kdn['svhn'] = model_kdn.predict_proba(x_test, distance='Geodesic')\n",
    "        proba_dn['svhn'] = model_kdn.network.predict(x_test)\n",
    "        predicted_label_kdn['svhn'] = np.argmax(proba_kdn['svhn'], axis = 1)\n",
    "        predicted_label_dn['svhn'] = np.argmax(proba_dn['svhn'], axis = 1)\n",
    "        print('svhn', ' MMC ', np.mean(np.max(proba_kdn['svhn'], axis=1)))\n",
    "        print('svhn', ' MMC ', np.mean(np.max(proba_dn['svhn'], axis=1)))\n",
    "        \n",
    "        x_test = np.random.random_integers(0,high=255,size=(2000,32,32,3)).astype('float')\n",
    "        x_test -= trn_mean\n",
    "        proba_kdn['noise'] = model_kdn.predict_proba(x_test, distance='Geodesic')\n",
    "        proba_dn['noise'] = model_kdn.network.predict(x_test)\n",
    "        predicted_label_kdn['noise'] = np.argmax(proba_kdn['noise'], axis = 1)\n",
    "        predicted_label_dn['noise'] = np.argmax(proba_dn['noise'], axis = 1)\n",
    "        print('noise', ' MMC ', np.mean(np.max(proba_kdn['noise'], axis=1)))\n",
    "        print('noise', ' MMC ', np.mean(np.max(proba_dn['noise'], axis=1)))\n",
    "        \n",
    "        result = [proba_kdn, proba_dn, predicted_label_kdn, predicted_label_dn]\n",
    "        with open('results/model_'+str(task)+'_'+str(seed)+'.pickle', 'wb') as f:\n",
    "            pickle.dump(result, f)"
   ]
  },
  {
   "cell_type": "code",
   "execution_count": 7,
   "id": "4227d2ca",
   "metadata": {},
   "outputs": [],
   "source": [
    "MMC_benchmark = {}\n",
    "MMC_kdn = {}\n",
    "MMC_dn = {}\n",
    "MMC_kdn_euclidean = {}\n",
    "accuracy = {}\n",
    "accuracy_all = []\n",
    "algorithm = []\n",
    "train_task = []\n",
    "\n",
    "datasets = ['Task 1', 'Task 2', 'Task 3', 'Task 4', 'Task 5', 'CIFAR100', 'SVHN', 'Noise']\n",
    "for task, classes in enumerate(classes_to_consider): \n",
    "    mmc_kdn = np.zeros(len(datasets), dtype=float)\n",
    "    mmc_kdn_euclidean = np.zeros(len(datasets), dtype=float)\n",
    "    mmc_dn = np.zeros(len(datasets), dtype=float)\n",
    "    mmc_benchmark = np.zeros(len(datasets), dtype=float)\n",
    "    \n",
    "    (_, _), (x_test, y_test), _ = get_data(classes)\n",
    "    for seed in seeds:\n",
    "        with open('results/model_'+str(task)+'_'+str(seed)+'.pickle', 'rb') as f:\n",
    "            result = pickle.load(f)\n",
    "        \n",
    "        with open('results/model_euclidean_'+str(task)+'_'+str(seed)+'.pickle', 'rb') as f:\n",
    "            result_ = pickle.load(f)\n",
    "        \n",
    "        with open('results/ACET_'+str(task)+'_'+str(seed)+'.pickle', 'rb') as f:\n",
    "            df_ben, acc_ben = pickle.load(f)\n",
    "            \n",
    "        for ii, key in enumerate(result[0].keys()):\n",
    "            mmc_kdn[ii] += np.mean(np.max(result[0][key], axis=1))\n",
    "            mmc_dn[ii] += np.mean(np.max(result[1][key], axis=1))\n",
    "            mmc_kdn_euclidean[ii] += np.mean(np.max(result_[0][key], axis=1))\n",
    "        \n",
    "        for ii, key in enumerate(df_ben.keys()):\n",
    "            mmc_benchmark[ii] += df_ben[key]\n",
    "        \n",
    "        accuracy_all.append(np.mean(result_[1]['Task '+str(task)]==y_test.reshape(-1))) \n",
    "        algorithm.append('KDN-Euclidean')\n",
    "        train_task.append('Task '+str(task+1))\n",
    "        \n",
    "        accuracy_all.append(np.mean(result[2]['Task '+str(task)]==y_test.reshape(-1)))\n",
    "        algorithm.append('KDN-Geodesic')\n",
    "        train_task.append('Task '+str(task+1))\n",
    "        \n",
    "        accuracy_all.append(acc_ben)\n",
    "        algorithm.append('ACET')\n",
    "        train_task.append('Task '+str(task+1))\n",
    "        \n",
    "        accuracy_all.append(np.mean(result[3]['Task '+str(task)]==y_test.reshape(-1)))\n",
    "        algorithm.append('LeNet-5')\n",
    "        train_task.append('Task '+str(task+1))\n",
    "        \n",
    "    mmc_kdn /= 5\n",
    "    mmc_kdn_euclidean /= 5\n",
    "    mmc_benchmark /= 5\n",
    "    mmc_dn /= 5\n",
    "    \n",
    "    MMC_kdn['Task '+str(task+1)] = mmc_kdn\n",
    "    MMC_kdn_euclidean['Task '+str(task+1)] = mmc_kdn_euclidean\n",
    "    MMC_benchmark['Task '+str(task+1)] = mmc_benchmark\n",
    "    MMC_dn['Task '+str(task+1)] = mmc_dn\n",
    "    \n",
    "accuracy['Accuracy'] = accuracy_all\n",
    "accuracy['Algorithm'] = algorithm\n",
    "accuracy['Dataset to Train on'] = train_task"
   ]
  },
  {
   "cell_type": "code",
   "execution_count": 8,
   "id": "53ab514e",
   "metadata": {},
   "outputs": [],
   "source": [
    "kdn_df = pd.DataFrame(MMC_kdn)\n",
    "kdn_df.index = datasets\n",
    "\n",
    "kdn_euclidean_df = pd.DataFrame(MMC_kdn_euclidean)\n",
    "kdn_euclidean_df.index = datasets\n",
    "\n",
    "dn_df = pd.DataFrame(MMC_dn)\n",
    "dn_df.index = datasets\n",
    "\n",
    "benchmark_df = pd.DataFrame(MMC_benchmark)\n",
    "dn_df.index = datasets\n",
    "\n",
    "accuracy_df = pd.DataFrame(accuracy)"
   ]
  },
  {
   "cell_type": "code",
   "execution_count": 9,
   "id": "a8a6e52f",
   "metadata": {},
   "outputs": [
    {
     "data": {
      "text/html": [
       "<div>\n",
       "<style scoped>\n",
       "    .dataframe tbody tr th:only-of-type {\n",
       "        vertical-align: middle;\n",
       "    }\n",
       "\n",
       "    .dataframe tbody tr th {\n",
       "        vertical-align: top;\n",
       "    }\n",
       "\n",
       "    .dataframe thead th {\n",
       "        text-align: right;\n",
       "    }\n",
       "</style>\n",
       "<table border=\"1\" class=\"dataframe\">\n",
       "  <thead>\n",
       "    <tr style=\"text-align: right;\">\n",
       "      <th></th>\n",
       "      <th>Task 1</th>\n",
       "      <th>Task 2</th>\n",
       "      <th>Task 3</th>\n",
       "      <th>Task 4</th>\n",
       "      <th>Task 5</th>\n",
       "    </tr>\n",
       "  </thead>\n",
       "  <tbody>\n",
       "    <tr>\n",
       "      <th>Task 1</th>\n",
       "      <td>0.998883</td>\n",
       "      <td>0.614899</td>\n",
       "      <td>0.57275</td>\n",
       "      <td>0.58780</td>\n",
       "      <td>0.6188</td>\n",
       "    </tr>\n",
       "    <tr>\n",
       "      <th>Task 2</th>\n",
       "      <td>0.660362</td>\n",
       "      <td>0.998800</td>\n",
       "      <td>0.59015</td>\n",
       "      <td>0.59245</td>\n",
       "      <td>0.5599</td>\n",
       "    </tr>\n",
       "    <tr>\n",
       "      <th>Task 3</th>\n",
       "      <td>0.637825</td>\n",
       "      <td>0.604350</td>\n",
       "      <td>0.99845</td>\n",
       "      <td>0.57400</td>\n",
       "      <td>0.5448</td>\n",
       "    </tr>\n",
       "    <tr>\n",
       "      <th>Task 4</th>\n",
       "      <td>0.611900</td>\n",
       "      <td>0.586500</td>\n",
       "      <td>0.55970</td>\n",
       "      <td>0.99835</td>\n",
       "      <td>0.5260</td>\n",
       "    </tr>\n",
       "    <tr>\n",
       "      <th>Task 5</th>\n",
       "      <td>0.616370</td>\n",
       "      <td>0.557300</td>\n",
       "      <td>0.54410</td>\n",
       "      <td>0.54770</td>\n",
       "      <td>0.9987</td>\n",
       "    </tr>\n",
       "    <tr>\n",
       "      <th>CIFAR100</th>\n",
       "      <td>0.658914</td>\n",
       "      <td>0.609900</td>\n",
       "      <td>0.58265</td>\n",
       "      <td>0.58440</td>\n",
       "      <td>0.5674</td>\n",
       "    </tr>\n",
       "    <tr>\n",
       "      <th>SVHN</th>\n",
       "      <td>0.503050</td>\n",
       "      <td>0.529400</td>\n",
       "      <td>0.50185</td>\n",
       "      <td>0.52515</td>\n",
       "      <td>0.5000</td>\n",
       "    </tr>\n",
       "    <tr>\n",
       "      <th>Noise</th>\n",
       "      <td>0.501999</td>\n",
       "      <td>0.501750</td>\n",
       "      <td>0.50005</td>\n",
       "      <td>0.50015</td>\n",
       "      <td>0.5000</td>\n",
       "    </tr>\n",
       "  </tbody>\n",
       "</table>\n",
       "</div>"
      ],
      "text/plain": [
       "            Task 1    Task 2   Task 3   Task 4  Task 5\n",
       "Task 1    0.998883  0.614899  0.57275  0.58780  0.6188\n",
       "Task 2    0.660362  0.998800  0.59015  0.59245  0.5599\n",
       "Task 3    0.637825  0.604350  0.99845  0.57400  0.5448\n",
       "Task 4    0.611900  0.586500  0.55970  0.99835  0.5260\n",
       "Task 5    0.616370  0.557300  0.54410  0.54770  0.9987\n",
       "CIFAR100  0.658914  0.609900  0.58265  0.58440  0.5674\n",
       "SVHN      0.503050  0.529400  0.50185  0.52515  0.5000\n",
       "Noise     0.501999  0.501750  0.50005  0.50015  0.5000"
      ]
     },
     "execution_count": 9,
     "metadata": {},
     "output_type": "execute_result"
    }
   ],
   "source": [
    "kdn_df"
   ]
  },
  {
   "cell_type": "code",
   "execution_count": 10,
   "id": "8f0c82a2",
   "metadata": {},
   "outputs": [
    {
     "data": {
      "text/html": [
       "<div>\n",
       "<style scoped>\n",
       "    .dataframe tbody tr th:only-of-type {\n",
       "        vertical-align: middle;\n",
       "    }\n",
       "\n",
       "    .dataframe tbody tr th {\n",
       "        vertical-align: top;\n",
       "    }\n",
       "\n",
       "    .dataframe thead th {\n",
       "        text-align: right;\n",
       "    }\n",
       "</style>\n",
       "<table border=\"1\" class=\"dataframe\">\n",
       "  <thead>\n",
       "    <tr style=\"text-align: right;\">\n",
       "      <th></th>\n",
       "      <th>Task 1</th>\n",
       "      <th>Task 2</th>\n",
       "      <th>Task 3</th>\n",
       "      <th>Task 4</th>\n",
       "      <th>Task 5</th>\n",
       "    </tr>\n",
       "  </thead>\n",
       "  <tbody>\n",
       "    <tr>\n",
       "      <th>0</th>\n",
       "      <td>0.945361</td>\n",
       "      <td>0.910482</td>\n",
       "      <td>0.925325</td>\n",
       "      <td>0.958037</td>\n",
       "      <td>0.938029</td>\n",
       "    </tr>\n",
       "    <tr>\n",
       "      <th>1</th>\n",
       "      <td>0.945361</td>\n",
       "      <td>0.910482</td>\n",
       "      <td>0.925325</td>\n",
       "      <td>0.958037</td>\n",
       "      <td>0.938029</td>\n",
       "    </tr>\n",
       "    <tr>\n",
       "      <th>2</th>\n",
       "      <td>0.945361</td>\n",
       "      <td>0.910482</td>\n",
       "      <td>0.925325</td>\n",
       "      <td>0.958037</td>\n",
       "      <td>0.938029</td>\n",
       "    </tr>\n",
       "    <tr>\n",
       "      <th>3</th>\n",
       "      <td>0.945361</td>\n",
       "      <td>0.910482</td>\n",
       "      <td>0.925325</td>\n",
       "      <td>0.958037</td>\n",
       "      <td>0.938029</td>\n",
       "    </tr>\n",
       "    <tr>\n",
       "      <th>4</th>\n",
       "      <td>0.945361</td>\n",
       "      <td>0.910482</td>\n",
       "      <td>0.925325</td>\n",
       "      <td>0.958037</td>\n",
       "      <td>0.938029</td>\n",
       "    </tr>\n",
       "    <tr>\n",
       "      <th>5</th>\n",
       "      <td>0.893005</td>\n",
       "      <td>0.893218</td>\n",
       "      <td>0.897412</td>\n",
       "      <td>0.920648</td>\n",
       "      <td>0.917340</td>\n",
       "    </tr>\n",
       "    <tr>\n",
       "      <th>6</th>\n",
       "      <td>0.895950</td>\n",
       "      <td>0.833578</td>\n",
       "      <td>0.728892</td>\n",
       "      <td>0.749307</td>\n",
       "      <td>0.857250</td>\n",
       "    </tr>\n",
       "    <tr>\n",
       "      <th>7</th>\n",
       "      <td>0.969327</td>\n",
       "      <td>0.998606</td>\n",
       "      <td>0.999161</td>\n",
       "      <td>0.999766</td>\n",
       "      <td>0.997607</td>\n",
       "    </tr>\n",
       "  </tbody>\n",
       "</table>\n",
       "</div>"
      ],
      "text/plain": [
       "     Task 1    Task 2    Task 3    Task 4    Task 5\n",
       "0  0.945361  0.910482  0.925325  0.958037  0.938029\n",
       "1  0.945361  0.910482  0.925325  0.958037  0.938029\n",
       "2  0.945361  0.910482  0.925325  0.958037  0.938029\n",
       "3  0.945361  0.910482  0.925325  0.958037  0.938029\n",
       "4  0.945361  0.910482  0.925325  0.958037  0.938029\n",
       "5  0.893005  0.893218  0.897412  0.920648  0.917340\n",
       "6  0.895950  0.833578  0.728892  0.749307  0.857250\n",
       "7  0.969327  0.998606  0.999161  0.999766  0.997607"
      ]
     },
     "execution_count": 10,
     "metadata": {},
     "output_type": "execute_result"
    }
   ],
   "source": [
    "benchmark_df"
   ]
  },
  {
   "cell_type": "code",
   "execution_count": 11,
   "id": "8334c439",
   "metadata": {},
   "outputs": [
    {
     "data": {
      "text/html": [
       "<div>\n",
       "<style scoped>\n",
       "    .dataframe tbody tr th:only-of-type {\n",
       "        vertical-align: middle;\n",
       "    }\n",
       "\n",
       "    .dataframe tbody tr th {\n",
       "        vertical-align: top;\n",
       "    }\n",
       "\n",
       "    .dataframe thead th {\n",
       "        text-align: right;\n",
       "    }\n",
       "</style>\n",
       "<table border=\"1\" class=\"dataframe\">\n",
       "  <thead>\n",
       "    <tr style=\"text-align: right;\">\n",
       "      <th></th>\n",
       "      <th>Task 1</th>\n",
       "      <th>Task 2</th>\n",
       "      <th>Task 3</th>\n",
       "      <th>Task 4</th>\n",
       "      <th>Task 5</th>\n",
       "    </tr>\n",
       "  </thead>\n",
       "  <tbody>\n",
       "    <tr>\n",
       "      <th>Task 1</th>\n",
       "      <td>0.998841</td>\n",
       "      <td>0.61650</td>\n",
       "      <td>0.59170</td>\n",
       "      <td>0.60600</td>\n",
       "      <td>0.68185</td>\n",
       "    </tr>\n",
       "    <tr>\n",
       "      <th>Task 2</th>\n",
       "      <td>0.751911</td>\n",
       "      <td>0.99795</td>\n",
       "      <td>0.62210</td>\n",
       "      <td>0.61065</td>\n",
       "      <td>0.63185</td>\n",
       "    </tr>\n",
       "    <tr>\n",
       "      <th>Task 3</th>\n",
       "      <td>0.725919</td>\n",
       "      <td>0.61610</td>\n",
       "      <td>0.99780</td>\n",
       "      <td>0.59985</td>\n",
       "      <td>0.62050</td>\n",
       "    </tr>\n",
       "    <tr>\n",
       "      <th>Task 4</th>\n",
       "      <td>0.702520</td>\n",
       "      <td>0.61390</td>\n",
       "      <td>0.59835</td>\n",
       "      <td>0.99765</td>\n",
       "      <td>0.59130</td>\n",
       "    </tr>\n",
       "    <tr>\n",
       "      <th>Task 5</th>\n",
       "      <td>0.693507</td>\n",
       "      <td>0.55785</td>\n",
       "      <td>0.55785</td>\n",
       "      <td>0.54915</td>\n",
       "      <td>0.99775</td>\n",
       "    </tr>\n",
       "    <tr>\n",
       "      <th>CIFAR100</th>\n",
       "      <td>0.733584</td>\n",
       "      <td>0.61590</td>\n",
       "      <td>0.60845</td>\n",
       "      <td>0.60890</td>\n",
       "      <td>0.62680</td>\n",
       "    </tr>\n",
       "    <tr>\n",
       "      <th>SVHN</th>\n",
       "      <td>0.999981</td>\n",
       "      <td>0.66245</td>\n",
       "      <td>0.81235</td>\n",
       "      <td>0.50000</td>\n",
       "      <td>0.53140</td>\n",
       "    </tr>\n",
       "    <tr>\n",
       "      <th>Noise</th>\n",
       "      <td>0.999681</td>\n",
       "      <td>0.50005</td>\n",
       "      <td>0.50000</td>\n",
       "      <td>0.50000</td>\n",
       "      <td>0.52850</td>\n",
       "    </tr>\n",
       "  </tbody>\n",
       "</table>\n",
       "</div>"
      ],
      "text/plain": [
       "            Task 1   Task 2   Task 3   Task 4   Task 5\n",
       "Task 1    0.998841  0.61650  0.59170  0.60600  0.68185\n",
       "Task 2    0.751911  0.99795  0.62210  0.61065  0.63185\n",
       "Task 3    0.725919  0.61610  0.99780  0.59985  0.62050\n",
       "Task 4    0.702520  0.61390  0.59835  0.99765  0.59130\n",
       "Task 5    0.693507  0.55785  0.55785  0.54915  0.99775\n",
       "CIFAR100  0.733584  0.61590  0.60845  0.60890  0.62680\n",
       "SVHN      0.999981  0.66245  0.81235  0.50000  0.53140\n",
       "Noise     0.999681  0.50005  0.50000  0.50000  0.52850"
      ]
     },
     "execution_count": 11,
     "metadata": {},
     "output_type": "execute_result"
    }
   ],
   "source": [
    "kdn_euclidean_df"
   ]
  },
  {
   "cell_type": "code",
   "execution_count": 12,
   "id": "3af8464b",
   "metadata": {},
   "outputs": [
    {
     "data": {
      "text/html": [
       "<div>\n",
       "<style scoped>\n",
       "    .dataframe tbody tr th:only-of-type {\n",
       "        vertical-align: middle;\n",
       "    }\n",
       "\n",
       "    .dataframe tbody tr th {\n",
       "        vertical-align: top;\n",
       "    }\n",
       "\n",
       "    .dataframe thead th {\n",
       "        text-align: right;\n",
       "    }\n",
       "</style>\n",
       "<table border=\"1\" class=\"dataframe\">\n",
       "  <thead>\n",
       "    <tr style=\"text-align: right;\">\n",
       "      <th></th>\n",
       "      <th>Task 1</th>\n",
       "      <th>Task 2</th>\n",
       "      <th>Task 3</th>\n",
       "      <th>Task 4</th>\n",
       "      <th>Task 5</th>\n",
       "    </tr>\n",
       "  </thead>\n",
       "  <tbody>\n",
       "    <tr>\n",
       "      <th>Task 1</th>\n",
       "      <td>0.991756</td>\n",
       "      <td>0.976130</td>\n",
       "      <td>0.980779</td>\n",
       "      <td>0.975377</td>\n",
       "      <td>0.983861</td>\n",
       "    </tr>\n",
       "    <tr>\n",
       "      <th>Task 2</th>\n",
       "      <td>0.979967</td>\n",
       "      <td>0.981869</td>\n",
       "      <td>0.982061</td>\n",
       "      <td>0.979643</td>\n",
       "      <td>0.979264</td>\n",
       "    </tr>\n",
       "    <tr>\n",
       "      <th>Task 3</th>\n",
       "      <td>0.979402</td>\n",
       "      <td>0.978815</td>\n",
       "      <td>0.985580</td>\n",
       "      <td>0.980762</td>\n",
       "      <td>0.979215</td>\n",
       "    </tr>\n",
       "    <tr>\n",
       "      <th>Task 4</th>\n",
       "      <td>0.973622</td>\n",
       "      <td>0.975676</td>\n",
       "      <td>0.979133</td>\n",
       "      <td>0.990204</td>\n",
       "      <td>0.984927</td>\n",
       "    </tr>\n",
       "    <tr>\n",
       "      <th>Task 5</th>\n",
       "      <td>0.980502</td>\n",
       "      <td>0.974796</td>\n",
       "      <td>0.979777</td>\n",
       "      <td>0.976899</td>\n",
       "      <td>0.990246</td>\n",
       "    </tr>\n",
       "    <tr>\n",
       "      <th>CIFAR100</th>\n",
       "      <td>0.978802</td>\n",
       "      <td>0.976939</td>\n",
       "      <td>0.982110</td>\n",
       "      <td>0.979538</td>\n",
       "      <td>0.982712</td>\n",
       "    </tr>\n",
       "    <tr>\n",
       "      <th>SVHN</th>\n",
       "      <td>0.994126</td>\n",
       "      <td>0.975993</td>\n",
       "      <td>0.928464</td>\n",
       "      <td>0.972423</td>\n",
       "      <td>0.999997</td>\n",
       "    </tr>\n",
       "    <tr>\n",
       "      <th>Noise</th>\n",
       "      <td>0.996259</td>\n",
       "      <td>0.984051</td>\n",
       "      <td>0.974917</td>\n",
       "      <td>0.965575</td>\n",
       "      <td>1.000000</td>\n",
       "    </tr>\n",
       "  </tbody>\n",
       "</table>\n",
       "</div>"
      ],
      "text/plain": [
       "            Task 1    Task 2    Task 3    Task 4    Task 5\n",
       "Task 1    0.991756  0.976130  0.980779  0.975377  0.983861\n",
       "Task 2    0.979967  0.981869  0.982061  0.979643  0.979264\n",
       "Task 3    0.979402  0.978815  0.985580  0.980762  0.979215\n",
       "Task 4    0.973622  0.975676  0.979133  0.990204  0.984927\n",
       "Task 5    0.980502  0.974796  0.979777  0.976899  0.990246\n",
       "CIFAR100  0.978802  0.976939  0.982110  0.979538  0.982712\n",
       "SVHN      0.994126  0.975993  0.928464  0.972423  0.999997\n",
       "Noise     0.996259  0.984051  0.974917  0.965575  1.000000"
      ]
     },
     "execution_count": 12,
     "metadata": {},
     "output_type": "execute_result"
    }
   ],
   "source": [
    "dn_df"
   ]
  },
  {
   "cell_type": "code",
   "execution_count": 13,
   "id": "ff66aeca",
   "metadata": {},
   "outputs": [
    {
     "data": {
      "text/html": [
       "<div>\n",
       "<style scoped>\n",
       "    .dataframe tbody tr th:only-of-type {\n",
       "        vertical-align: middle;\n",
       "    }\n",
       "\n",
       "    .dataframe tbody tr th {\n",
       "        vertical-align: top;\n",
       "    }\n",
       "\n",
       "    .dataframe thead th {\n",
       "        text-align: right;\n",
       "    }\n",
       "</style>\n",
       "<table border=\"1\" class=\"dataframe\">\n",
       "  <thead>\n",
       "    <tr style=\"text-align: right;\">\n",
       "      <th></th>\n",
       "      <th>Accuracy</th>\n",
       "      <th>Algorithm</th>\n",
       "      <th>Dataset to Train on</th>\n",
       "    </tr>\n",
       "  </thead>\n",
       "  <tbody>\n",
       "    <tr>\n",
       "      <th>0</th>\n",
       "      <td>0.5160</td>\n",
       "      <td>KDN-Euclidean</td>\n",
       "      <td>Task 1</td>\n",
       "    </tr>\n",
       "    <tr>\n",
       "      <th>1</th>\n",
       "      <td>0.8540</td>\n",
       "      <td>KDN-Geodesic</td>\n",
       "      <td>Task 1</td>\n",
       "    </tr>\n",
       "    <tr>\n",
       "      <th>2</th>\n",
       "      <td>0.8685</td>\n",
       "      <td>ACET</td>\n",
       "      <td>Task 1</td>\n",
       "    </tr>\n",
       "    <tr>\n",
       "      <th>3</th>\n",
       "      <td>0.9090</td>\n",
       "      <td>LeNet-5</td>\n",
       "      <td>Task 1</td>\n",
       "    </tr>\n",
       "    <tr>\n",
       "      <th>4</th>\n",
       "      <td>0.7145</td>\n",
       "      <td>KDN-Euclidean</td>\n",
       "      <td>Task 1</td>\n",
       "    </tr>\n",
       "    <tr>\n",
       "      <th>...</th>\n",
       "      <td>...</td>\n",
       "      <td>...</td>\n",
       "      <td>...</td>\n",
       "    </tr>\n",
       "    <tr>\n",
       "      <th>95</th>\n",
       "      <td>0.9135</td>\n",
       "      <td>LeNet-5</td>\n",
       "      <td>Task 5</td>\n",
       "    </tr>\n",
       "    <tr>\n",
       "      <th>96</th>\n",
       "      <td>0.6990</td>\n",
       "      <td>KDN-Euclidean</td>\n",
       "      <td>Task 5</td>\n",
       "    </tr>\n",
       "    <tr>\n",
       "      <th>97</th>\n",
       "      <td>0.9045</td>\n",
       "      <td>KDN-Geodesic</td>\n",
       "      <td>Task 5</td>\n",
       "    </tr>\n",
       "    <tr>\n",
       "      <th>98</th>\n",
       "      <td>0.8565</td>\n",
       "      <td>ACET</td>\n",
       "      <td>Task 5</td>\n",
       "    </tr>\n",
       "    <tr>\n",
       "      <th>99</th>\n",
       "      <td>0.9005</td>\n",
       "      <td>LeNet-5</td>\n",
       "      <td>Task 5</td>\n",
       "    </tr>\n",
       "  </tbody>\n",
       "</table>\n",
       "<p>100 rows × 3 columns</p>\n",
       "</div>"
      ],
      "text/plain": [
       "    Accuracy      Algorithm Dataset to Train on\n",
       "0     0.5160  KDN-Euclidean              Task 1\n",
       "1     0.8540   KDN-Geodesic              Task 1\n",
       "2     0.8685           ACET              Task 1\n",
       "3     0.9090        LeNet-5              Task 1\n",
       "4     0.7145  KDN-Euclidean              Task 1\n",
       "..       ...            ...                 ...\n",
       "95    0.9135        LeNet-5              Task 5\n",
       "96    0.6990  KDN-Euclidean              Task 5\n",
       "97    0.9045   KDN-Geodesic              Task 5\n",
       "98    0.8565           ACET              Task 5\n",
       "99    0.9005        LeNet-5              Task 5\n",
       "\n",
       "[100 rows x 3 columns]"
      ]
     },
     "execution_count": 13,
     "metadata": {},
     "output_type": "execute_result"
    }
   ],
   "source": [
    "accuracy_df"
   ]
  },
  {
   "cell_type": "code",
   "execution_count": 50,
   "id": "f80c7ce9",
   "metadata": {},
   "outputs": [
    {
     "data": {
      "image/png": "[encoded data removed]",
      "text/plain": [
       "<Figure size 1152x864 with 6 Axes>"
      ]
     },
     "metadata": {
      "needs_background": "light"
     },
     "output_type": "display_data"
    }
   ],
   "source": [
    "sns.set_context('talk')\n",
    "fontsize=22\n",
    "legend_level = .1\n",
    "fig = plt.figure(constrained_layout=True,figsize=(16,12))\n",
    "gs = fig.add_gridspec(12,16)\n",
    "\n",
    "cbar_ax = fig.add_axes([.25, legend_level-.04, .2, .04])\n",
    "\n",
    "ax = fig.add_subplot(gs[:5,:4])\n",
    "ax_ = sns.heatmap(kdn_euclidean_df, yticklabels=datasets,\\\n",
    "            vmin=0.5, vmax=1, cbar=None,\\\n",
    "            cmap='coolwarm', ax=ax)\n",
    "ax.set_title('KGN-Euclidean', fontsize=fontsize)\n",
    "ax.set_ylabel('Dataset to Test on', fontsize=fontsize)\n",
    "for item in ax_.get_xticklabels():\n",
    "    item.set_rotation(90)\n",
    "    \n",
    "ax = fig.add_subplot(gs[:5,4:8])\n",
    "sns.heatmap(kdn_df, yticklabels=datasets,\\\n",
    "            vmin=0.5, vmax=1, cbar=None,\\\n",
    "            cmap='coolwarm', ax=ax)\n",
    "ax.set_title('KGN-Geodesic', fontsize=fontsize)\n",
    "ax.set_yticks([])\n",
    "\n",
    "ax = fig.add_subplot(gs[5:10,:4])\n",
    "sns.heatmap(benchmark_df, yticklabels=datasets,\\\n",
    "            vmin=0.5, vmax=1,\\\n",
    "            cmap='coolwarm', ax=ax, cbar_ax= cbar_ax, cbar_kws = dict(use_gridspec=True, orientation = 'horizontal'))\n",
    "ax.set_title('ACET', fontsize=fontsize)\n",
    "#ax.set_yticks([])\n",
    "\n",
    "ax = fig.add_subplot(gs[5:10,4:8])\n",
    "sns.heatmap(dn_df, yticklabels=datasets,\\\n",
    "            vmin=0.5, vmax=1,\\\n",
    "            cmap='coolwarm', ax=ax, cbar_ax= cbar_ax, cbar_kws = dict(use_gridspec=True, orientation = 'horizontal'))\n",
    "ax.set_title('LeNet-5', fontsize=fontsize)\n",
    "ax.set_yticks([])\n",
    "\n",
    "ax = fig.add_subplot(gs[2:8,11:16])\n",
    "ax_ = sns.stripplot(data=accuracy_df, x='Dataset to Train on', y='Accuracy', hue='Algorithm', jitter=0, size = 10, dodge=True, ax=ax)\n",
    "right_side = ax.spines[\"right\"]\n",
    "right_side.set_visible(False)\n",
    "top_side = ax.spines[\"top\"]\n",
    "top_side.set_visible(False)\n",
    "ax.set_xlabel('')\n",
    "ax.set_xticks(ax.get_xticks(), rotation=90)\n",
    "for item in ax_.get_xticklabels():\n",
    "    item.set_rotation(90)\n",
    "ax_.legend (fontsize=14, bbox_transform=plt.gcf().transFigure,\n",
    "                        ncol=2, bbox_to_anchor = (.9, legend_level), frameon=False)\n",
    "\n",
    "#fig.tight_layout()\n",
    "fig.text(.45,legend_level+.01,'Dataset to Train on', fontsize=fontsize+4)\n",
    "plt.savefig('cifar10.pdf')"
   ]
  },
  {
   "cell_type": "code",
   "execution_count": null,
   "id": "ef54c7cc",
   "metadata": {},
   "outputs": [],
   "source": []
  }
 ],
 "metadata": {
  "kernelspec": {
   "display_name": "Python 3 (ipykernel)",
   "language": "python",
   "name": "python3"
  },
  "language_info": {
   "codemirror_mode": {
    "name": "ipython",
    "version": 3
   },
   "file_extension": ".py",
   "mimetype": "text/x-python",
   "name": "python",
   "nbconvert_exporter": "python",
   "pygments_lexer": "ipython3",
   "version": "3.9.12"
  }
 },
 "nbformat": 4,
 "nbformat_minor": 5
}
