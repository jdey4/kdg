{
 "cells": [
  {
   "cell_type": "code",
   "execution_count": 157,
   "id": "9f3d8cfe",
   "metadata": {},
   "outputs": [],
   "source": [
    "from numpy import dtype\n",
    "from kdg import kdf, kdn, kdcnn\n",
    "from kdg.utils import get_ece, plot_reliability\n",
    "from tensorflow import keras\n",
    "from tensorflow.keras.layers import Dense, Input, Activation, Flatten, Conv2D, MaxPooling2D, AveragePooling2D, BatchNormalization\n",
    "from tensorflow.keras import activations\n",
    "from tensorflow.keras import backend as bknd\n",
    "from tensorflow.keras.models import Model\n",
    "import matplotlib.pyplot as plt\n",
    "import seaborn as sns\n",
    "import pandas as pd\n",
    "import os \n",
    "import numpy as np\n",
    "import pickle\n",
    "import openml\n",
    "from sklearn.metrics import cohen_kappa_score\n",
    "from kdg.utils import get_ece\n",
    "import numpy as np\n",
    "from scipy.stats import multivariate_normal\n",
    "import warnings\n",
    "from sklearn.model_selection import train_test_split\n",
    "from sklearn.model_selection import train_test_split\n",
    "from scipy.io import loadmat\n",
    "import random"
   ]
  },
  {
   "cell_type": "code",
   "execution_count": 151,
   "id": "960cd656",
   "metadata": {},
   "outputs": [],
   "source": [
    "def getLeNet(input_shape, num_classes):\n",
    "    model = keras.Sequential()\n",
    "    inputs = Input(shape=input_shape)\n",
    "    x = Conv2D(6, (3,3), kernel_initializer='he_uniform')(inputs)\n",
    "    x = Activation('relu')(x)\n",
    "    x = AveragePooling2D()(x)\n",
    "    x = Conv2D(16, (3,3), kernel_initializer='he_uniform')(x)\n",
    "    x = BatchNormalization()(x)\n",
    "    x = Activation('relu')(x)\n",
    "    x = AveragePooling2D((2,2))(x)\n",
    "\n",
    "    x = Flatten()(x)\n",
    "    x = Dense(120, kernel_initializer='he_uniform')(x)\n",
    "    x = Activation('relu')(x)\n",
    "    x = Dense(84, kernel_initializer='he_uniform')(x)\n",
    "    x = Activation('relu')(x)\n",
    "    outputs = Dense(num_classes,\n",
    "                    activation='softmax',\n",
    "                    kernel_initializer='he_normal')(x)\n",
    "    model = Model(inputs=inputs, outputs=outputs)\n",
    "    return model\n",
    "    "
   ]
  },
  {
   "cell_type": "code",
   "execution_count": 152,
   "id": "876d0434",
   "metadata": {},
   "outputs": [],
   "source": [
    "### Hyperparameters ###\n",
    "subtract_pixel_mean = True\n",
    "normalize = False\n",
    "classes_to_consider = [[0,1], [2,3],\n",
    "                       [4,5], [6,7],\n",
    "                       [8,9]]\n",
    "seeds = [0,100,200,300,400]\n",
    "\n",
    "compile_kwargs = {\n",
    "        \"loss\": \"binary_crossentropy\",\n",
    "        \"optimizer\": keras.optimizers.Adam(3e-4),\n",
    "    }\n",
    "callback = keras.callbacks.EarlyStopping(monitor=\"loss\", patience=10, verbose=True)\n",
    "fit_kwargs = {\n",
    "        \"epochs\": 100,\n",
    "        \"batch_size\": 32,\n",
    "        \"verbose\": False,\n",
    "        \"callbacks\": [callback],\n",
    "    }"
   ]
  },
  {
   "cell_type": "code",
   "execution_count": 153,
   "id": "f8c6b4aa",
   "metadata": {},
   "outputs": [],
   "source": [
    "### preprocess the data ###\n",
    "\n",
    "def get_data(classes):\n",
    "    (x_train, y_train), (x_test, y_test) = keras.datasets.cifar10.load_data()\n",
    "    input_shape = x_train.shape[1:]\n",
    "\n",
    "    train_idx = np.where(y_train==classes[0])[0]\n",
    "    test_idx = np.where(y_test==classes[0])[0]\n",
    "\n",
    "    for ii in classes[1:]:\n",
    "        train_idx = np.concatenate((\n",
    "                        train_idx,\n",
    "                        np.where(y_train==ii)[0]\n",
    "                    ))\n",
    "        test_idx = np.concatenate((\n",
    "                        test_idx,\n",
    "                        np.where(y_test==ii)[0]\n",
    "                    ))\n",
    "\n",
    "    x_train, y_train = x_train[train_idx], y_train[train_idx]\n",
    "    x_test, y_test = x_test[test_idx], y_test[test_idx]\n",
    "    \n",
    "    _, y_train = np.unique(y_train, return_inverse=True)\n",
    "    _, y_test = np.unique(y_test, return_inverse=True)\n",
    "    \n",
    "    if normalize:\n",
    "        x_train = x_train.astype('float32') / 255\n",
    "        x_test = x_test.astype('float32') / 255\n",
    "    else:\n",
    "        x_train = x_train.astype('float32')\n",
    "        x_test = x_test.astype('float32')\n",
    "    \n",
    "    x_train_mean = np.mean(x_train, axis=0)\n",
    "    if subtract_pixel_mean:\n",
    "        x_train -= x_train_mean\n",
    "        x_test -= x_train_mean\n",
    "    return (x_train, y_train), (x_test, y_test), x_train_mean"
   ]
  },
  {
   "cell_type": "code",
   "execution_count": 155,
   "id": "b9a8873e",
   "metadata": {
    "scrolled": false
   },
   "outputs": [
    {
     "name": "stderr",
     "output_type": "stream",
     "text": [
      "2023-08-05 12:21:13.939056: I tensorflow/core/grappler/optimizers/custom_graph_optimizer_registry.cc:113] Plugin optimizer for device_type GPU is enabled.\n"
     ]
    },
    {
     "name": "stdout",
     "output_type": "stream",
     "text": [
      "Epoch 49: early stopping\n",
      "63/63 [==============================] - 0s 3ms/step\n"
     ]
    },
    {
     "name": "stderr",
     "output_type": "stream",
     "text": [
      "2023-08-05 12:23:00.764011: I tensorflow/core/grappler/optimizers/custom_graph_optimizer_registry.cc:113] Plugin optimizer for device_type GPU is enabled.\n"
     ]
    },
    {
     "name": "stdout",
     "output_type": "stream",
     "text": [
      "Trained model with classes  [0, 1]  seed  0\n",
      "Accuracy: 0.909\n"
     ]
    },
    {
     "name": "stderr",
     "output_type": "stream",
     "text": [
      "WARNING:absl:Found untraced functions such as _jit_compiled_convolution_op, _jit_compiled_convolution_op while saving (showing 2 of 2). These functions will not be directly callable after loading.\n"
     ]
    },
    {
     "name": "stdout",
     "output_type": "stream",
     "text": [
      "INFO:tensorflow:Assets written to: lenet_models/cifar10_model_0_0/assets\n"
     ]
    },
    {
     "name": "stderr",
     "output_type": "stream",
     "text": [
      "INFO:tensorflow:Assets written to: lenet_models/cifar10_model_0_0/assets\n",
      "2023-08-05 12:23:01.569966: I tensorflow/core/grappler/optimizers/custom_graph_optimizer_registry.cc:113] Plugin optimizer for device_type GPU is enabled.\n"
     ]
    },
    {
     "name": "stdout",
     "output_type": "stream",
     "text": [
      "Epoch 51: early stopping\n",
      "63/63 [==============================] - 0s 2ms/step\n"
     ]
    },
    {
     "name": "stderr",
     "output_type": "stream",
     "text": [
      "2023-08-05 12:24:51.946076: I tensorflow/core/grappler/optimizers/custom_graph_optimizer_registry.cc:113] Plugin optimizer for device_type GPU is enabled.\n"
     ]
    },
    {
     "name": "stdout",
     "output_type": "stream",
     "text": [
      "Trained model with classes  [0, 1]  seed  100\n",
      "Accuracy: 0.9115\n"
     ]
    },
    {
     "name": "stderr",
     "output_type": "stream",
     "text": [
      "WARNING:absl:Found untraced functions such as _jit_compiled_convolution_op, _jit_compiled_convolution_op while saving (showing 2 of 2). These functions will not be directly callable after loading.\n"
     ]
    },
    {
     "name": "stdout",
     "output_type": "stream",
     "text": [
      "INFO:tensorflow:Assets written to: lenet_models/cifar10_model_0_100/assets\n"
     ]
    },
    {
     "name": "stderr",
     "output_type": "stream",
     "text": [
      "INFO:tensorflow:Assets written to: lenet_models/cifar10_model_0_100/assets\n",
      "2023-08-05 12:24:52.755993: I tensorflow/core/grappler/optimizers/custom_graph_optimizer_registry.cc:113] Plugin optimizer for device_type GPU is enabled.\n"
     ]
    },
    {
     "name": "stdout",
     "output_type": "stream",
     "text": [
      "Epoch 44: early stopping\n",
      "63/63 [==============================] - 0s 2ms/step\n"
     ]
    },
    {
     "name": "stderr",
     "output_type": "stream",
     "text": [
      "2023-08-05 12:26:28.678642: I tensorflow/core/grappler/optimizers/custom_graph_optimizer_registry.cc:113] Plugin optimizer for device_type GPU is enabled.\n"
     ]
    },
    {
     "name": "stdout",
     "output_type": "stream",
     "text": [
      "Trained model with classes  [0, 1]  seed  200\n",
      "Accuracy: 0.912\n"
     ]
    },
    {
     "name": "stderr",
     "output_type": "stream",
     "text": [
      "WARNING:absl:Found untraced functions such as _jit_compiled_convolution_op, _jit_compiled_convolution_op while saving (showing 2 of 2). These functions will not be directly callable after loading.\n"
     ]
    },
    {
     "name": "stdout",
     "output_type": "stream",
     "text": [
      "INFO:tensorflow:Assets written to: lenet_models/cifar10_model_0_200/assets\n"
     ]
    },
    {
     "name": "stderr",
     "output_type": "stream",
     "text": [
      "INFO:tensorflow:Assets written to: lenet_models/cifar10_model_0_200/assets\n",
      "2023-08-05 12:26:29.517766: I tensorflow/core/grappler/optimizers/custom_graph_optimizer_registry.cc:113] Plugin optimizer for device_type GPU is enabled.\n"
     ]
    },
    {
     "name": "stdout",
     "output_type": "stream",
     "text": [
      "Epoch 45: early stopping\n",
      "63/63 [==============================] - 0s 3ms/step\n"
     ]
    },
    {
     "name": "stderr",
     "output_type": "stream",
     "text": [
      "2023-08-05 12:28:07.340798: I tensorflow/core/grappler/optimizers/custom_graph_optimizer_registry.cc:113] Plugin optimizer for device_type GPU is enabled.\n"
     ]
    },
    {
     "name": "stdout",
     "output_type": "stream",
     "text": [
      "Trained model with classes  [0, 1]  seed  300\n",
      "Accuracy: 0.9305\n"
     ]
    },
    {
     "name": "stderr",
     "output_type": "stream",
     "text": [
      "WARNING:absl:Found untraced functions such as _jit_compiled_convolution_op, _jit_compiled_convolution_op while saving (showing 2 of 2). These functions will not be directly callable after loading.\n"
     ]
    },
    {
     "name": "stdout",
     "output_type": "stream",
     "text": [
      "INFO:tensorflow:Assets written to: lenet_models/cifar10_model_0_300/assets\n"
     ]
    },
    {
     "name": "stderr",
     "output_type": "stream",
     "text": [
      "INFO:tensorflow:Assets written to: lenet_models/cifar10_model_0_300/assets\n",
      "2023-08-05 12:28:08.155446: I tensorflow/core/grappler/optimizers/custom_graph_optimizer_registry.cc:113] Plugin optimizer for device_type GPU is enabled.\n"
     ]
    },
    {
     "name": "stdout",
     "output_type": "stream",
     "text": [
      "Epoch 52: early stopping\n",
      "48/63 [=====================>........] - ETA: 0s"
     ]
    },
    {
     "name": "stderr",
     "output_type": "stream",
     "text": [
      "2023-08-05 12:30:00.136199: I tensorflow/core/grappler/optimizers/custom_graph_optimizer_registry.cc:113] Plugin optimizer for device_type GPU is enabled.\n"
     ]
    },
    {
     "name": "stdout",
     "output_type": "stream",
     "text": [
      "63/63 [==============================] - 0s 3ms/step\n",
      "Trained model with classes  [0, 1]  seed  400\n",
      "Accuracy: 0.918\n"
     ]
    },
    {
     "name": "stderr",
     "output_type": "stream",
     "text": [
      "WARNING:absl:Found untraced functions such as _jit_compiled_convolution_op, _jit_compiled_convolution_op while saving (showing 2 of 2). These functions will not be directly callable after loading.\n"
     ]
    },
    {
     "name": "stdout",
     "output_type": "stream",
     "text": [
      "INFO:tensorflow:Assets written to: lenet_models/cifar10_model_0_400/assets\n"
     ]
    },
    {
     "name": "stderr",
     "output_type": "stream",
     "text": [
      "INFO:tensorflow:Assets written to: lenet_models/cifar10_model_0_400/assets\n",
      "2023-08-05 12:30:01.524509: I tensorflow/core/grappler/optimizers/custom_graph_optimizer_registry.cc:113] Plugin optimizer for device_type GPU is enabled.\n"
     ]
    },
    {
     "name": "stdout",
     "output_type": "stream",
     "text": [
      "Epoch 77: early stopping\n",
      "63/63 [==============================] - 0s 3ms/step\n"
     ]
    },
    {
     "name": "stderr",
     "output_type": "stream",
     "text": [
      "2023-08-05 12:32:48.562442: I tensorflow/core/grappler/optimizers/custom_graph_optimizer_registry.cc:113] Plugin optimizer for device_type GPU is enabled.\n"
     ]
    },
    {
     "name": "stdout",
     "output_type": "stream",
     "text": [
      "Trained model with classes  [2, 3]  seed  0\n",
      "Accuracy: 0.7655\n"
     ]
    },
    {
     "name": "stderr",
     "output_type": "stream",
     "text": [
      "WARNING:absl:Found untraced functions such as _jit_compiled_convolution_op, _jit_compiled_convolution_op while saving (showing 2 of 2). These functions will not be directly callable after loading.\n"
     ]
    },
    {
     "name": "stdout",
     "output_type": "stream",
     "text": [
      "INFO:tensorflow:Assets written to: lenet_models/cifar10_model_1_0/assets\n"
     ]
    },
    {
     "name": "stderr",
     "output_type": "stream",
     "text": [
      "INFO:tensorflow:Assets written to: lenet_models/cifar10_model_1_0/assets\n",
      "2023-08-05 12:32:49.373073: I tensorflow/core/grappler/optimizers/custom_graph_optimizer_registry.cc:113] Plugin optimizer for device_type GPU is enabled.\n"
     ]
    },
    {
     "name": "stdout",
     "output_type": "stream",
     "text": [
      "Epoch 50: early stopping\n",
      "63/63 [==============================] - 0s 2ms/step\n"
     ]
    },
    {
     "name": "stderr",
     "output_type": "stream",
     "text": [
      "2023-08-05 12:34:36.587178: I tensorflow/core/grappler/optimizers/custom_graph_optimizer_registry.cc:113] Plugin optimizer for device_type GPU is enabled.\n"
     ]
    },
    {
     "name": "stdout",
     "output_type": "stream",
     "text": [
      "Trained model with classes  [2, 3]  seed  100\n",
      "Accuracy: 0.7535\n"
     ]
    },
    {
     "name": "stderr",
     "output_type": "stream",
     "text": [
      "WARNING:absl:Found untraced functions such as _jit_compiled_convolution_op, _jit_compiled_convolution_op while saving (showing 2 of 2). These functions will not be directly callable after loading.\n"
     ]
    },
    {
     "name": "stdout",
     "output_type": "stream",
     "text": [
      "INFO:tensorflow:Assets written to: lenet_models/cifar10_model_1_100/assets\n"
     ]
    },
    {
     "name": "stderr",
     "output_type": "stream",
     "text": [
      "INFO:tensorflow:Assets written to: lenet_models/cifar10_model_1_100/assets\n",
      "2023-08-05 12:34:37.390326: I tensorflow/core/grappler/optimizers/custom_graph_optimizer_registry.cc:113] Plugin optimizer for device_type GPU is enabled.\n"
     ]
    },
    {
     "name": "stdout",
     "output_type": "stream",
     "text": [
      "Epoch 79: early stopping\n",
      "48/63 [=====================>........] - ETA: 0s"
     ]
    },
    {
     "name": "stderr",
     "output_type": "stream",
     "text": [
      "2023-08-05 12:37:26.226391: I tensorflow/core/grappler/optimizers/custom_graph_optimizer_registry.cc:113] Plugin optimizer for device_type GPU is enabled.\n"
     ]
    },
    {
     "name": "stdout",
     "output_type": "stream",
     "text": [
      "63/63 [==============================] - 0s 3ms/step\n",
      "Trained model with classes  [2, 3]  seed  200\n",
      "Accuracy: 0.773\n"
     ]
    },
    {
     "name": "stderr",
     "output_type": "stream",
     "text": [
      "WARNING:absl:Found untraced functions such as _jit_compiled_convolution_op, _jit_compiled_convolution_op while saving (showing 2 of 2). These functions will not be directly callable after loading.\n"
     ]
    },
    {
     "name": "stdout",
     "output_type": "stream",
     "text": [
      "INFO:tensorflow:Assets written to: lenet_models/cifar10_model_1_200/assets\n"
     ]
    },
    {
     "name": "stderr",
     "output_type": "stream",
     "text": [
      "INFO:tensorflow:Assets written to: lenet_models/cifar10_model_1_200/assets\n",
      "2023-08-05 12:37:27.052116: I tensorflow/core/grappler/optimizers/custom_graph_optimizer_registry.cc:113] Plugin optimizer for device_type GPU is enabled.\n"
     ]
    },
    {
     "name": "stdout",
     "output_type": "stream",
     "text": [
      "Epoch 76: early stopping\n",
      "45/63 [====================>.........] - ETA: 0s"
     ]
    },
    {
     "name": "stderr",
     "output_type": "stream",
     "text": [
      "2023-08-05 12:40:10.938318: I tensorflow/core/grappler/optimizers/custom_graph_optimizer_registry.cc:113] Plugin optimizer for device_type GPU is enabled.\n"
     ]
    },
    {
     "name": "stdout",
     "output_type": "stream",
     "text": [
      "63/63 [==============================] - 0s 3ms/step\n",
      "Trained model with classes  [2, 3]  seed  300\n",
      "Accuracy: 0.771\n"
     ]
    },
    {
     "name": "stderr",
     "output_type": "stream",
     "text": [
      "WARNING:absl:Found untraced functions such as _jit_compiled_convolution_op, _jit_compiled_convolution_op while saving (showing 2 of 2). These functions will not be directly callable after loading.\n"
     ]
    },
    {
     "name": "stdout",
     "output_type": "stream",
     "text": [
      "INFO:tensorflow:Assets written to: lenet_models/cifar10_model_1_300/assets\n"
     ]
    },
    {
     "name": "stderr",
     "output_type": "stream",
     "text": [
      "INFO:tensorflow:Assets written to: lenet_models/cifar10_model_1_300/assets\n",
      "2023-08-05 12:40:11.764931: I tensorflow/core/grappler/optimizers/custom_graph_optimizer_registry.cc:113] Plugin optimizer for device_type GPU is enabled.\n"
     ]
    },
    {
     "name": "stdout",
     "output_type": "stream",
     "text": [
      "46/63 [====================>.........] - ETA: 0s"
     ]
    },
    {
     "name": "stderr",
     "output_type": "stream",
     "text": [
      "2023-08-05 12:43:47.703348: I tensorflow/core/grappler/optimizers/custom_graph_optimizer_registry.cc:113] Plugin optimizer for device_type GPU is enabled.\n"
     ]
    },
    {
     "name": "stdout",
     "output_type": "stream",
     "text": [
      "63/63 [==============================] - 0s 3ms/step\n",
      "Trained model with classes  [2, 3]  seed  400\n",
      "Accuracy: 0.7695\n"
     ]
    },
    {
     "name": "stderr",
     "output_type": "stream",
     "text": [
      "WARNING:absl:Found untraced functions such as _jit_compiled_convolution_op, _jit_compiled_convolution_op while saving (showing 2 of 2). These functions will not be directly callable after loading.\n"
     ]
    },
    {
     "name": "stdout",
     "output_type": "stream",
     "text": [
      "INFO:tensorflow:Assets written to: lenet_models/cifar10_model_1_400/assets\n"
     ]
    },
    {
     "name": "stderr",
     "output_type": "stream",
     "text": [
      "INFO:tensorflow:Assets written to: lenet_models/cifar10_model_1_400/assets\n",
      "2023-08-05 12:43:48.728484: I tensorflow/core/grappler/optimizers/custom_graph_optimizer_registry.cc:113] Plugin optimizer for device_type GPU is enabled.\n"
     ]
    },
    {
     "name": "stdout",
     "output_type": "stream",
     "text": [
      "Epoch 64: early stopping\n",
      "63/63 [==============================] - 0s 3ms/step\n"
     ]
    },
    {
     "name": "stderr",
     "output_type": "stream",
     "text": [
      "2023-08-05 12:46:05.957367: I tensorflow/core/grappler/optimizers/custom_graph_optimizer_registry.cc:113] Plugin optimizer for device_type GPU is enabled.\n"
     ]
    },
    {
     "name": "stdout",
     "output_type": "stream",
     "text": [
      "Trained model with classes  [4, 5]  seed  0\n",
      "Accuracy: 0.817\n"
     ]
    },
    {
     "name": "stderr",
     "output_type": "stream",
     "text": [
      "WARNING:absl:Found untraced functions such as _jit_compiled_convolution_op, _jit_compiled_convolution_op while saving (showing 2 of 2). These functions will not be directly callable after loading.\n"
     ]
    },
    {
     "name": "stdout",
     "output_type": "stream",
     "text": [
      "INFO:tensorflow:Assets written to: lenet_models/cifar10_model_2_0/assets\n"
     ]
    },
    {
     "name": "stderr",
     "output_type": "stream",
     "text": [
      "INFO:tensorflow:Assets written to: lenet_models/cifar10_model_2_0/assets\n",
      "2023-08-05 12:46:06.765237: I tensorflow/core/grappler/optimizers/custom_graph_optimizer_registry.cc:113] Plugin optimizer for device_type GPU is enabled.\n"
     ]
    },
    {
     "name": "stdout",
     "output_type": "stream",
     "text": [
      "Epoch 53: early stopping\n",
      "48/63 [=====================>........] - ETA: 0s"
     ]
    },
    {
     "name": "stderr",
     "output_type": "stream",
     "text": [
      "2023-08-05 12:48:00.659799: I tensorflow/core/grappler/optimizers/custom_graph_optimizer_registry.cc:113] Plugin optimizer for device_type GPU is enabled.\n"
     ]
    },
    {
     "name": "stdout",
     "output_type": "stream",
     "text": [
      "63/63 [==============================] - 0s 3ms/step\n",
      "Trained model with classes  [4, 5]  seed  100\n",
      "Accuracy: 0.8275\n"
     ]
    },
    {
     "name": "stderr",
     "output_type": "stream",
     "text": [
      "WARNING:absl:Found untraced functions such as _jit_compiled_convolution_op, _jit_compiled_convolution_op while saving (showing 2 of 2). These functions will not be directly callable after loading.\n"
     ]
    },
    {
     "name": "stdout",
     "output_type": "stream",
     "text": [
      "INFO:tensorflow:Assets written to: lenet_models/cifar10_model_2_100/assets\n"
     ]
    },
    {
     "name": "stderr",
     "output_type": "stream",
     "text": [
      "INFO:tensorflow:Assets written to: lenet_models/cifar10_model_2_100/assets\n",
      "2023-08-05 12:48:01.901820: I tensorflow/core/grappler/optimizers/custom_graph_optimizer_registry.cc:113] Plugin optimizer for device_type GPU is enabled.\n"
     ]
    },
    {
     "name": "stdout",
     "output_type": "stream",
     "text": [
      "Epoch 65: early stopping\n",
      "63/63 [==============================] - 0s 3ms/step\n"
     ]
    },
    {
     "name": "stderr",
     "output_type": "stream",
     "text": [
      "2023-08-05 12:50:21.680550: I tensorflow/core/grappler/optimizers/custom_graph_optimizer_registry.cc:113] Plugin optimizer for device_type GPU is enabled.\n"
     ]
    },
    {
     "name": "stdout",
     "output_type": "stream",
     "text": [
      "Trained model with classes  [4, 5]  seed  200\n",
      "Accuracy: 0.819\n"
     ]
    },
    {
     "name": "stderr",
     "output_type": "stream",
     "text": [
      "WARNING:absl:Found untraced functions such as _jit_compiled_convolution_op, _jit_compiled_convolution_op while saving (showing 2 of 2). These functions will not be directly callable after loading.\n"
     ]
    },
    {
     "name": "stdout",
     "output_type": "stream",
     "text": [
      "INFO:tensorflow:Assets written to: lenet_models/cifar10_model_2_200/assets\n"
     ]
    },
    {
     "name": "stderr",
     "output_type": "stream",
     "text": [
      "INFO:tensorflow:Assets written to: lenet_models/cifar10_model_2_200/assets\n",
      "2023-08-05 12:50:22.490972: I tensorflow/core/grappler/optimizers/custom_graph_optimizer_registry.cc:113] Plugin optimizer for device_type GPU is enabled.\n"
     ]
    },
    {
     "name": "stdout",
     "output_type": "stream",
     "text": [
      "Epoch 94: early stopping\n",
      "63/63 [==============================] - 0s 3ms/step\n"
     ]
    },
    {
     "name": "stderr",
     "output_type": "stream",
     "text": [
      "2023-08-05 12:53:44.519108: I tensorflow/core/grappler/optimizers/custom_graph_optimizer_registry.cc:113] Plugin optimizer for device_type GPU is enabled.\n"
     ]
    },
    {
     "name": "stdout",
     "output_type": "stream",
     "text": [
      "Trained model with classes  [4, 5]  seed  300\n",
      "Accuracy: 0.834\n"
     ]
    },
    {
     "name": "stderr",
     "output_type": "stream",
     "text": [
      "WARNING:absl:Found untraced functions such as _jit_compiled_convolution_op, _jit_compiled_convolution_op while saving (showing 2 of 2). These functions will not be directly callable after loading.\n"
     ]
    },
    {
     "name": "stdout",
     "output_type": "stream",
     "text": [
      "INFO:tensorflow:Assets written to: lenet_models/cifar10_model_2_300/assets\n"
     ]
    },
    {
     "name": "stderr",
     "output_type": "stream",
     "text": [
      "INFO:tensorflow:Assets written to: lenet_models/cifar10_model_2_300/assets\n",
      "2023-08-05 12:53:45.337210: I tensorflow/core/grappler/optimizers/custom_graph_optimizer_registry.cc:113] Plugin optimizer for device_type GPU is enabled.\n"
     ]
    },
    {
     "name": "stdout",
     "output_type": "stream",
     "text": [
      "Epoch 65: early stopping\n",
      "63/63 [==============================] - 0s 3ms/step\n"
     ]
    },
    {
     "name": "stderr",
     "output_type": "stream",
     "text": [
      "2023-08-05 12:56:07.404420: I tensorflow/core/grappler/optimizers/custom_graph_optimizer_registry.cc:113] Plugin optimizer for device_type GPU is enabled.\n"
     ]
    },
    {
     "name": "stdout",
     "output_type": "stream",
     "text": [
      "Trained model with classes  [4, 5]  seed  400\n",
      "Accuracy: 0.824\n"
     ]
    },
    {
     "name": "stderr",
     "output_type": "stream",
     "text": [
      "WARNING:absl:Found untraced functions such as _jit_compiled_convolution_op, _jit_compiled_convolution_op while saving (showing 2 of 2). These functions will not be directly callable after loading.\n"
     ]
    },
    {
     "name": "stdout",
     "output_type": "stream",
     "text": [
      "INFO:tensorflow:Assets written to: lenet_models/cifar10_model_2_400/assets\n"
     ]
    },
    {
     "name": "stderr",
     "output_type": "stream",
     "text": [
      "INFO:tensorflow:Assets written to: lenet_models/cifar10_model_2_400/assets\n",
      "2023-08-05 12:56:08.421230: I tensorflow/core/grappler/optimizers/custom_graph_optimizer_registry.cc:113] Plugin optimizer for device_type GPU is enabled.\n"
     ]
    },
    {
     "name": "stdout",
     "output_type": "stream",
     "text": [
      "Epoch 39: early stopping\n",
      "46/63 [====================>.........] - ETA: 0s"
     ]
    },
    {
     "name": "stderr",
     "output_type": "stream",
     "text": [
      "2023-08-05 12:57:32.174482: I tensorflow/core/grappler/optimizers/custom_graph_optimizer_registry.cc:113] Plugin optimizer for device_type GPU is enabled.\n"
     ]
    },
    {
     "name": "stdout",
     "output_type": "stream",
     "text": [
      "63/63 [==============================] - 0s 3ms/step\n",
      "Trained model with classes  [6, 7]  seed  0\n",
      "Accuracy: 0.917\n"
     ]
    },
    {
     "name": "stderr",
     "output_type": "stream",
     "text": [
      "WARNING:absl:Found untraced functions such as _jit_compiled_convolution_op, _jit_compiled_convolution_op while saving (showing 2 of 2). These functions will not be directly callable after loading.\n"
     ]
    },
    {
     "name": "stdout",
     "output_type": "stream",
     "text": [
      "INFO:tensorflow:Assets written to: lenet_models/cifar10_model_3_0/assets\n"
     ]
    },
    {
     "name": "stderr",
     "output_type": "stream",
     "text": [
      "INFO:tensorflow:Assets written to: lenet_models/cifar10_model_3_0/assets\n",
      "2023-08-05 12:57:33.015957: I tensorflow/core/grappler/optimizers/custom_graph_optimizer_registry.cc:113] Plugin optimizer for device_type GPU is enabled.\n"
     ]
    },
    {
     "name": "stdout",
     "output_type": "stream",
     "text": [
      "Epoch 43: early stopping\n",
      "50/63 [======================>.......] - ETA: 0s"
     ]
    },
    {
     "name": "stderr",
     "output_type": "stream",
     "text": [
      "2023-08-05 12:59:03.968390: I tensorflow/core/grappler/optimizers/custom_graph_optimizer_registry.cc:113] Plugin optimizer for device_type GPU is enabled.\n"
     ]
    },
    {
     "name": "stdout",
     "output_type": "stream",
     "text": [
      "63/63 [==============================] - 0s 2ms/step\n",
      "Trained model with classes  [6, 7]  seed  100\n",
      "Accuracy: 0.921\n"
     ]
    },
    {
     "name": "stderr",
     "output_type": "stream",
     "text": [
      "WARNING:absl:Found untraced functions such as _jit_compiled_convolution_op, _jit_compiled_convolution_op while saving (showing 2 of 2). These functions will not be directly callable after loading.\n"
     ]
    },
    {
     "name": "stdout",
     "output_type": "stream",
     "text": [
      "INFO:tensorflow:Assets written to: lenet_models/cifar10_model_3_100/assets\n"
     ]
    },
    {
     "name": "stderr",
     "output_type": "stream",
     "text": [
      "INFO:tensorflow:Assets written to: lenet_models/cifar10_model_3_100/assets\n",
      "2023-08-05 12:59:04.769750: I tensorflow/core/grappler/optimizers/custom_graph_optimizer_registry.cc:113] Plugin optimizer for device_type GPU is enabled.\n"
     ]
    },
    {
     "name": "stdout",
     "output_type": "stream",
     "text": [
      "Epoch 58: early stopping\n",
      "49/63 [======================>.......] - ETA: 0s"
     ]
    },
    {
     "name": "stderr",
     "output_type": "stream",
     "text": [
      "2023-08-05 13:01:00.075867: I tensorflow/core/grappler/optimizers/custom_graph_optimizer_registry.cc:113] Plugin optimizer for device_type GPU is enabled.\n"
     ]
    },
    {
     "name": "stdout",
     "output_type": "stream",
     "text": [
      "63/63 [==============================] - 0s 3ms/step\n",
      "Trained model with classes  [6, 7]  seed  200\n",
      "Accuracy: 0.925\n"
     ]
    },
    {
     "name": "stderr",
     "output_type": "stream",
     "text": [
      "WARNING:absl:Found untraced functions such as _jit_compiled_convolution_op, _jit_compiled_convolution_op while saving (showing 2 of 2). These functions will not be directly callable after loading.\n"
     ]
    },
    {
     "name": "stdout",
     "output_type": "stream",
     "text": [
      "INFO:tensorflow:Assets written to: lenet_models/cifar10_model_3_200/assets\n"
     ]
    },
    {
     "name": "stderr",
     "output_type": "stream",
     "text": [
      "INFO:tensorflow:Assets written to: lenet_models/cifar10_model_3_200/assets\n",
      "2023-08-05 13:01:01.231815: I tensorflow/core/grappler/optimizers/custom_graph_optimizer_registry.cc:113] Plugin optimizer for device_type GPU is enabled.\n"
     ]
    },
    {
     "name": "stdout",
     "output_type": "stream",
     "text": [
      "Epoch 73: early stopping\n",
      "47/63 [=====================>........] - ETA: 0s"
     ]
    },
    {
     "name": "stderr",
     "output_type": "stream",
     "text": [
      "2023-08-05 13:03:26.560438: I tensorflow/core/grappler/optimizers/custom_graph_optimizer_registry.cc:113] Plugin optimizer for device_type GPU is enabled.\n"
     ]
    },
    {
     "name": "stdout",
     "output_type": "stream",
     "text": [
      "63/63 [==============================] - 0s 3ms/step\n",
      "Trained model with classes  [6, 7]  seed  300\n",
      "Accuracy: 0.914\n"
     ]
    },
    {
     "name": "stderr",
     "output_type": "stream",
     "text": [
      "WARNING:absl:Found untraced functions such as _jit_compiled_convolution_op, _jit_compiled_convolution_op while saving (showing 2 of 2). These functions will not be directly callable after loading.\n"
     ]
    },
    {
     "name": "stdout",
     "output_type": "stream",
     "text": [
      "INFO:tensorflow:Assets written to: lenet_models/cifar10_model_3_300/assets\n"
     ]
    },
    {
     "name": "stderr",
     "output_type": "stream",
     "text": [
      "INFO:tensorflow:Assets written to: lenet_models/cifar10_model_3_300/assets\n",
      "2023-08-05 13:03:27.357575: I tensorflow/core/grappler/optimizers/custom_graph_optimizer_registry.cc:113] Plugin optimizer for device_type GPU is enabled.\n"
     ]
    },
    {
     "name": "stdout",
     "output_type": "stream",
     "text": [
      "Epoch 51: early stopping\n",
      "49/63 [======================>.......] - ETA: 0s"
     ]
    },
    {
     "name": "stderr",
     "output_type": "stream",
     "text": [
      "2023-08-05 13:05:09.236327: I tensorflow/core/grappler/optimizers/custom_graph_optimizer_registry.cc:113] Plugin optimizer for device_type GPU is enabled.\n"
     ]
    },
    {
     "name": "stdout",
     "output_type": "stream",
     "text": [
      "63/63 [==============================] - 0s 3ms/step\n",
      "Trained model with classes  [6, 7]  seed  400\n",
      "Accuracy: 0.919\n"
     ]
    },
    {
     "name": "stderr",
     "output_type": "stream",
     "text": [
      "WARNING:absl:Found untraced functions such as _jit_compiled_convolution_op, _jit_compiled_convolution_op while saving (showing 2 of 2). These functions will not be directly callable after loading.\n"
     ]
    },
    {
     "name": "stdout",
     "output_type": "stream",
     "text": [
      "INFO:tensorflow:Assets written to: lenet_models/cifar10_model_3_400/assets\n"
     ]
    },
    {
     "name": "stderr",
     "output_type": "stream",
     "text": [
      "INFO:tensorflow:Assets written to: lenet_models/cifar10_model_3_400/assets\n",
      "2023-08-05 13:05:10.232054: I tensorflow/core/grappler/optimizers/custom_graph_optimizer_registry.cc:113] Plugin optimizer for device_type GPU is enabled.\n"
     ]
    },
    {
     "name": "stdout",
     "output_type": "stream",
     "text": [
      "Epoch 54: early stopping\n",
      "53/63 [========================>.....] - ETA: 0s"
     ]
    },
    {
     "name": "stderr",
     "output_type": "stream",
     "text": [
      "2023-08-05 13:06:57.735090: I tensorflow/core/grappler/optimizers/custom_graph_optimizer_registry.cc:113] Plugin optimizer for device_type GPU is enabled.\n"
     ]
    },
    {
     "name": "stdout",
     "output_type": "stream",
     "text": [
      "63/63 [==============================] - 0s 3ms/step\n",
      "Trained model with classes  [8, 9]  seed  0\n",
      "Accuracy: 0.9075\n"
     ]
    },
    {
     "name": "stderr",
     "output_type": "stream",
     "text": [
      "WARNING:absl:Found untraced functions such as _jit_compiled_convolution_op, _jit_compiled_convolution_op while saving (showing 2 of 2). These functions will not be directly callable after loading.\n"
     ]
    },
    {
     "name": "stdout",
     "output_type": "stream",
     "text": [
      "INFO:tensorflow:Assets written to: lenet_models/cifar10_model_4_0/assets\n"
     ]
    },
    {
     "name": "stderr",
     "output_type": "stream",
     "text": [
      "INFO:tensorflow:Assets written to: lenet_models/cifar10_model_4_0/assets\n",
      "2023-08-05 13:06:58.526754: I tensorflow/core/grappler/optimizers/custom_graph_optimizer_registry.cc:113] Plugin optimizer for device_type GPU is enabled.\n"
     ]
    },
    {
     "name": "stdout",
     "output_type": "stream",
     "text": [
      "Epoch 71: early stopping\n",
      "49/63 [======================>.......] - ETA: 0s"
     ]
    },
    {
     "name": "stderr",
     "output_type": "stream",
     "text": [
      "2023-08-05 13:09:19.545743: I tensorflow/core/grappler/optimizers/custom_graph_optimizer_registry.cc:113] Plugin optimizer for device_type GPU is enabled.\n"
     ]
    },
    {
     "name": "stdout",
     "output_type": "stream",
     "text": [
      "63/63 [==============================] - 0s 3ms/step\n",
      "Trained model with classes  [8, 9]  seed  100\n",
      "Accuracy: 0.891\n"
     ]
    },
    {
     "name": "stderr",
     "output_type": "stream",
     "text": [
      "WARNING:absl:Found untraced functions such as _jit_compiled_convolution_op, _jit_compiled_convolution_op while saving (showing 2 of 2). These functions will not be directly callable after loading.\n"
     ]
    },
    {
     "name": "stdout",
     "output_type": "stream",
     "text": [
      "INFO:tensorflow:Assets written to: lenet_models/cifar10_model_4_100/assets\n"
     ]
    },
    {
     "name": "stderr",
     "output_type": "stream",
     "text": [
      "INFO:tensorflow:Assets written to: lenet_models/cifar10_model_4_100/assets\n",
      "2023-08-05 13:09:20.343165: I tensorflow/core/grappler/optimizers/custom_graph_optimizer_registry.cc:113] Plugin optimizer for device_type GPU is enabled.\n"
     ]
    },
    {
     "name": "stdout",
     "output_type": "stream",
     "text": [
      "Epoch 67: early stopping\n",
      "48/63 [=====================>........] - ETA: 0s"
     ]
    },
    {
     "name": "stderr",
     "output_type": "stream",
     "text": [
      "2023-08-05 13:11:34.103427: I tensorflow/core/grappler/optimizers/custom_graph_optimizer_registry.cc:113] Plugin optimizer for device_type GPU is enabled.\n"
     ]
    },
    {
     "name": "stdout",
     "output_type": "stream",
     "text": [
      "63/63 [==============================] - 0s 3ms/step\n",
      "Trained model with classes  [8, 9]  seed  200\n",
      "Accuracy: 0.8935\n"
     ]
    },
    {
     "name": "stderr",
     "output_type": "stream",
     "text": [
      "WARNING:absl:Found untraced functions such as _jit_compiled_convolution_op, _jit_compiled_convolution_op while saving (showing 2 of 2). These functions will not be directly callable after loading.\n"
     ]
    },
    {
     "name": "stdout",
     "output_type": "stream",
     "text": [
      "INFO:tensorflow:Assets written to: lenet_models/cifar10_model_4_200/assets\n"
     ]
    },
    {
     "name": "stderr",
     "output_type": "stream",
     "text": [
      "INFO:tensorflow:Assets written to: lenet_models/cifar10_model_4_200/assets\n",
      "2023-08-05 13:11:34.916583: I tensorflow/core/grappler/optimizers/custom_graph_optimizer_registry.cc:113] Plugin optimizer for device_type GPU is enabled.\n"
     ]
    },
    {
     "name": "stdout",
     "output_type": "stream",
     "text": [
      "Epoch 77: early stopping\n",
      "49/63 [======================>.......] - ETA: 0s"
     ]
    },
    {
     "name": "stderr",
     "output_type": "stream",
     "text": [
      "2023-08-05 13:14:07.706933: I tensorflow/core/grappler/optimizers/custom_graph_optimizer_registry.cc:113] Plugin optimizer for device_type GPU is enabled.\n"
     ]
    },
    {
     "name": "stdout",
     "output_type": "stream",
     "text": [
      "63/63 [==============================] - 0s 3ms/step\n",
      "Trained model with classes  [8, 9]  seed  300\n",
      "Accuracy: 0.91\n"
     ]
    },
    {
     "name": "stderr",
     "output_type": "stream",
     "text": [
      "WARNING:absl:Found untraced functions such as _jit_compiled_convolution_op, _jit_compiled_convolution_op while saving (showing 2 of 2). These functions will not be directly callable after loading.\n"
     ]
    },
    {
     "name": "stdout",
     "output_type": "stream",
     "text": [
      "INFO:tensorflow:Assets written to: lenet_models/cifar10_model_4_300/assets\n"
     ]
    },
    {
     "name": "stderr",
     "output_type": "stream",
     "text": [
      "INFO:tensorflow:Assets written to: lenet_models/cifar10_model_4_300/assets\n",
      "2023-08-05 13:14:08.511720: I tensorflow/core/grappler/optimizers/custom_graph_optimizer_registry.cc:113] Plugin optimizer for device_type GPU is enabled.\n"
     ]
    },
    {
     "name": "stdout",
     "output_type": "stream",
     "text": [
      "Epoch 59: early stopping\n",
      "49/63 [======================>.......] - ETA: 0s"
     ]
    },
    {
     "name": "stderr",
     "output_type": "stream",
     "text": [
      "2023-08-05 13:16:05.557825: I tensorflow/core/grappler/optimizers/custom_graph_optimizer_registry.cc:113] Plugin optimizer for device_type GPU is enabled.\n"
     ]
    },
    {
     "name": "stdout",
     "output_type": "stream",
     "text": [
      "63/63 [==============================] - 0s 3ms/step\n",
      "Trained model with classes  [8, 9]  seed  400\n",
      "Accuracy: 0.901\n"
     ]
    },
    {
     "name": "stderr",
     "output_type": "stream",
     "text": [
      "WARNING:absl:Found untraced functions such as _jit_compiled_convolution_op, _jit_compiled_convolution_op while saving (showing 2 of 2). These functions will not be directly callable after loading.\n"
     ]
    },
    {
     "name": "stdout",
     "output_type": "stream",
     "text": [
      "INFO:tensorflow:Assets written to: lenet_models/cifar10_model_4_400/assets\n"
     ]
    },
    {
     "name": "stderr",
     "output_type": "stream",
     "text": [
      "INFO:tensorflow:Assets written to: lenet_models/cifar10_model_4_400/assets\n"
     ]
    }
   ],
   "source": [
    "### train LeNet5 ###\n",
    "\n",
    "for task, classes in enumerate(classes_to_consider):\n",
    "    (x_train, y_train), (x_test, y_test), _ = get_data(classes)\n",
    "    input_shape = x_train[0].shape\n",
    "    for seed in seeds:\n",
    "        np.random.seed(seed)\n",
    "        nn = getLeNet(input_shape, num_classes=len(np.unique(y_train)))\n",
    "        nn.compile(**compile_kwargs)\n",
    "        history = nn.fit(x_train, keras.utils.to_categorical(y_train), **fit_kwargs)\n",
    "        \n",
    "        y_pred = np.argmax(nn.predict(x_test), axis=1)\n",
    "        print('Trained model with classes ', classes, ' seed ', seed)\n",
    "        print('Accuracy:', np.mean(y_pred==y_test.reshape(-1)))\n",
    "        nn.save('lenet_models/cifar10_model_'+str(task)+'_'+str(seed))"
   ]
  },
  {
   "cell_type": "code",
   "execution_count": 156,
   "id": "be8da2c5",
   "metadata": {},
   "outputs": [
    {
     "name": "stdout",
     "output_type": "stream",
     "text": [
      "Training cifar10_model_0_0\n"
     ]
    },
    {
     "name": "stderr",
     "output_type": "stream",
     "text": [
      "WARNING:absl:Found untraced functions such as _jit_compiled_convolution_op, _jit_compiled_convolution_op while saving (showing 2 of 2). These functions will not be directly callable after loading.\n"
     ]
    },
    {
     "name": "stdout",
     "output_type": "stream",
     "text": [
      "INFO:tensorflow:Assets written to: ram://27f7c601-963c-4753-874b-f792cb6880c6/assets\n"
     ]
    },
    {
     "name": "stderr",
     "output_type": "stream",
     "text": [
      "INFO:tensorflow:Assets written to: ram://27f7c601-963c-4753-874b-f792cb6880c6/assets\n"
     ]
    },
    {
     "name": "stdout",
     "output_type": "stream",
     "text": [
      "Training cifar10_model_0_100\n"
     ]
    },
    {
     "name": "stderr",
     "output_type": "stream",
     "text": [
      "WARNING:absl:Found untraced functions such as _jit_compiled_convolution_op, _jit_compiled_convolution_op while saving (showing 2 of 2). These functions will not be directly callable after loading.\n"
     ]
    },
    {
     "name": "stdout",
     "output_type": "stream",
     "text": [
      "INFO:tensorflow:Assets written to: ram://dec1be89-0665-42cf-9907-7c7fd7f46cbc/assets\n"
     ]
    },
    {
     "name": "stderr",
     "output_type": "stream",
     "text": [
      "INFO:tensorflow:Assets written to: ram://dec1be89-0665-42cf-9907-7c7fd7f46cbc/assets\n"
     ]
    },
    {
     "name": "stdout",
     "output_type": "stream",
     "text": [
      "Training cifar10_model_0_200\n"
     ]
    },
    {
     "name": "stderr",
     "output_type": "stream",
     "text": [
      "WARNING:absl:Found untraced functions such as _jit_compiled_convolution_op, _jit_compiled_convolution_op while saving (showing 2 of 2). These functions will not be directly callable after loading.\n"
     ]
    },
    {
     "name": "stdout",
     "output_type": "stream",
     "text": [
      "INFO:tensorflow:Assets written to: ram://96453b34-e7ff-470b-ad88-5f020eef3fca/assets\n"
     ]
    },
    {
     "name": "stderr",
     "output_type": "stream",
     "text": [
      "INFO:tensorflow:Assets written to: ram://96453b34-e7ff-470b-ad88-5f020eef3fca/assets\n"
     ]
    },
    {
     "name": "stdout",
     "output_type": "stream",
     "text": [
      "Training cifar10_model_0_300\n"
     ]
    },
    {
     "name": "stderr",
     "output_type": "stream",
     "text": [
      "WARNING:absl:Found untraced functions such as _jit_compiled_convolution_op, _jit_compiled_convolution_op while saving (showing 2 of 2). These functions will not be directly callable after loading.\n"
     ]
    },
    {
     "name": "stdout",
     "output_type": "stream",
     "text": [
      "INFO:tensorflow:Assets written to: ram://25ace94e-74e9-4a41-a9df-5cb3e0d05ad9/assets\n"
     ]
    },
    {
     "name": "stderr",
     "output_type": "stream",
     "text": [
      "INFO:tensorflow:Assets written to: ram://25ace94e-74e9-4a41-a9df-5cb3e0d05ad9/assets\n"
     ]
    },
    {
     "name": "stdout",
     "output_type": "stream",
     "text": [
      "Training cifar10_model_0_400\n"
     ]
    },
    {
     "name": "stderr",
     "output_type": "stream",
     "text": [
      "WARNING:absl:Found untraced functions such as _jit_compiled_convolution_op, _jit_compiled_convolution_op while saving (showing 2 of 2). These functions will not be directly callable after loading.\n"
     ]
    },
    {
     "name": "stdout",
     "output_type": "stream",
     "text": [
      "INFO:tensorflow:Assets written to: ram://8e83da3b-cf73-4927-a74a-19c1763aa1f2/assets\n"
     ]
    },
    {
     "name": "stderr",
     "output_type": "stream",
     "text": [
      "INFO:tensorflow:Assets written to: ram://8e83da3b-cf73-4927-a74a-19c1763aa1f2/assets\n"
     ]
    },
    {
     "name": "stdout",
     "output_type": "stream",
     "text": [
      "Training cifar10_model_1_0\n"
     ]
    },
    {
     "name": "stderr",
     "output_type": "stream",
     "text": [
      "WARNING:absl:Found untraced functions such as _jit_compiled_convolution_op, _jit_compiled_convolution_op while saving (showing 2 of 2). These functions will not be directly callable after loading.\n"
     ]
    },
    {
     "name": "stdout",
     "output_type": "stream",
     "text": [
      "INFO:tensorflow:Assets written to: ram://33db1ccb-93ed-4866-9825-c359c53d9204/assets\n"
     ]
    },
    {
     "name": "stderr",
     "output_type": "stream",
     "text": [
      "INFO:tensorflow:Assets written to: ram://33db1ccb-93ed-4866-9825-c359c53d9204/assets\n"
     ]
    },
    {
     "name": "stdout",
     "output_type": "stream",
     "text": [
      "Training cifar10_model_1_100\n"
     ]
    },
    {
     "name": "stderr",
     "output_type": "stream",
     "text": [
      "WARNING:absl:Found untraced functions such as _jit_compiled_convolution_op, _jit_compiled_convolution_op while saving (showing 2 of 2). These functions will not be directly callable after loading.\n"
     ]
    },
    {
     "name": "stdout",
     "output_type": "stream",
     "text": [
      "INFO:tensorflow:Assets written to: ram://2f5e079c-9253-4369-aa7a-d4c991e9e740/assets\n"
     ]
    },
    {
     "name": "stderr",
     "output_type": "stream",
     "text": [
      "INFO:tensorflow:Assets written to: ram://2f5e079c-9253-4369-aa7a-d4c991e9e740/assets\n"
     ]
    },
    {
     "name": "stdout",
     "output_type": "stream",
     "text": [
      "Training cifar10_model_1_200\n"
     ]
    },
    {
     "name": "stderr",
     "output_type": "stream",
     "text": [
      "WARNING:absl:Found untraced functions such as _jit_compiled_convolution_op, _jit_compiled_convolution_op while saving (showing 2 of 2). These functions will not be directly callable after loading.\n"
     ]
    },
    {
     "name": "stdout",
     "output_type": "stream",
     "text": [
      "INFO:tensorflow:Assets written to: ram://02a3f1a4-bcba-4c37-a9e7-b068480337c2/assets\n"
     ]
    },
    {
     "name": "stderr",
     "output_type": "stream",
     "text": [
      "INFO:tensorflow:Assets written to: ram://02a3f1a4-bcba-4c37-a9e7-b068480337c2/assets\n"
     ]
    },
    {
     "name": "stdout",
     "output_type": "stream",
     "text": [
      "Training cifar10_model_1_300\n"
     ]
    },
    {
     "name": "stderr",
     "output_type": "stream",
     "text": [
      "WARNING:absl:Found untraced functions such as _jit_compiled_convolution_op, _jit_compiled_convolution_op while saving (showing 2 of 2). These functions will not be directly callable after loading.\n"
     ]
    },
    {
     "name": "stdout",
     "output_type": "stream",
     "text": [
      "INFO:tensorflow:Assets written to: ram://ab7e55c5-84a7-4440-b5d2-015f6a90ccdf/assets\n"
     ]
    },
    {
     "name": "stderr",
     "output_type": "stream",
     "text": [
      "INFO:tensorflow:Assets written to: ram://ab7e55c5-84a7-4440-b5d2-015f6a90ccdf/assets\n"
     ]
    },
    {
     "name": "stdout",
     "output_type": "stream",
     "text": [
      "Training cifar10_model_1_400\n"
     ]
    },
    {
     "name": "stderr",
     "output_type": "stream",
     "text": [
      "WARNING:absl:Found untraced functions such as _jit_compiled_convolution_op, _jit_compiled_convolution_op while saving (showing 2 of 2). These functions will not be directly callable after loading.\n"
     ]
    },
    {
     "name": "stdout",
     "output_type": "stream",
     "text": [
      "INFO:tensorflow:Assets written to: ram://5a3bd5cd-7117-4482-be20-f18df0ce3587/assets\n"
     ]
    },
    {
     "name": "stderr",
     "output_type": "stream",
     "text": [
      "INFO:tensorflow:Assets written to: ram://5a3bd5cd-7117-4482-be20-f18df0ce3587/assets\n"
     ]
    },
    {
     "name": "stdout",
     "output_type": "stream",
     "text": [
      "Training cifar10_model_2_0\n"
     ]
    },
    {
     "name": "stderr",
     "output_type": "stream",
     "text": [
      "WARNING:absl:Found untraced functions such as _jit_compiled_convolution_op, _jit_compiled_convolution_op while saving (showing 2 of 2). These functions will not be directly callable after loading.\n"
     ]
    },
    {
     "name": "stdout",
     "output_type": "stream",
     "text": [
      "INFO:tensorflow:Assets written to: ram://7ba1bf62-0de7-4f3b-8568-5df538f6e5fd/assets\n"
     ]
    },
    {
     "name": "stderr",
     "output_type": "stream",
     "text": [
      "INFO:tensorflow:Assets written to: ram://7ba1bf62-0de7-4f3b-8568-5df538f6e5fd/assets\n"
     ]
    },
    {
     "name": "stdout",
     "output_type": "stream",
     "text": [
      "Training cifar10_model_2_100\n"
     ]
    },
    {
     "name": "stderr",
     "output_type": "stream",
     "text": [
      "WARNING:absl:Found untraced functions such as _jit_compiled_convolution_op, _jit_compiled_convolution_op while saving (showing 2 of 2). These functions will not be directly callable after loading.\n"
     ]
    },
    {
     "name": "stdout",
     "output_type": "stream",
     "text": [
      "INFO:tensorflow:Assets written to: ram://973cc294-7a5c-4322-9f0e-f1d227a4dc0a/assets\n"
     ]
    },
    {
     "name": "stderr",
     "output_type": "stream",
     "text": [
      "INFO:tensorflow:Assets written to: ram://973cc294-7a5c-4322-9f0e-f1d227a4dc0a/assets\n"
     ]
    },
    {
     "name": "stdout",
     "output_type": "stream",
     "text": [
      "Training cifar10_model_2_200\n"
     ]
    },
    {
     "name": "stderr",
     "output_type": "stream",
     "text": [
      "WARNING:absl:Found untraced functions such as _jit_compiled_convolution_op, _jit_compiled_convolution_op while saving (showing 2 of 2). These functions will not be directly callable after loading.\n"
     ]
    },
    {
     "name": "stdout",
     "output_type": "stream",
     "text": [
      "INFO:tensorflow:Assets written to: ram://a16fa23e-1585-4ba3-b842-07d4be41b23b/assets\n"
     ]
    },
    {
     "name": "stderr",
     "output_type": "stream",
     "text": [
      "INFO:tensorflow:Assets written to: ram://a16fa23e-1585-4ba3-b842-07d4be41b23b/assets\n"
     ]
    },
    {
     "name": "stdout",
     "output_type": "stream",
     "text": [
      "Training cifar10_model_2_300\n"
     ]
    },
    {
     "name": "stderr",
     "output_type": "stream",
     "text": [
      "WARNING:absl:Found untraced functions such as _jit_compiled_convolution_op, _jit_compiled_convolution_op while saving (showing 2 of 2). These functions will not be directly callable after loading.\n"
     ]
    },
    {
     "name": "stdout",
     "output_type": "stream",
     "text": [
      "INFO:tensorflow:Assets written to: ram://74f14642-6974-4697-8232-65fa77a2c0e4/assets\n"
     ]
    },
    {
     "name": "stderr",
     "output_type": "stream",
     "text": [
      "INFO:tensorflow:Assets written to: ram://74f14642-6974-4697-8232-65fa77a2c0e4/assets\n"
     ]
    },
    {
     "name": "stdout",
     "output_type": "stream",
     "text": [
      "Training cifar10_model_2_400\n"
     ]
    },
    {
     "name": "stderr",
     "output_type": "stream",
     "text": [
      "WARNING:absl:Found untraced functions such as _jit_compiled_convolution_op, _jit_compiled_convolution_op while saving (showing 2 of 2). These functions will not be directly callable after loading.\n"
     ]
    },
    {
     "name": "stdout",
     "output_type": "stream",
     "text": [
      "INFO:tensorflow:Assets written to: ram://14a4201f-610a-4410-a32c-56e303109a16/assets\n"
     ]
    },
    {
     "name": "stderr",
     "output_type": "stream",
     "text": [
      "INFO:tensorflow:Assets written to: ram://14a4201f-610a-4410-a32c-56e303109a16/assets\n"
     ]
    },
    {
     "name": "stdout",
     "output_type": "stream",
     "text": [
      "Training cifar10_model_3_0\n"
     ]
    },
    {
     "name": "stderr",
     "output_type": "stream",
     "text": [
      "WARNING:absl:Found untraced functions such as _jit_compiled_convolution_op, _jit_compiled_convolution_op while saving (showing 2 of 2). These functions will not be directly callable after loading.\n"
     ]
    },
    {
     "name": "stdout",
     "output_type": "stream",
     "text": [
      "INFO:tensorflow:Assets written to: ram://faf02df4-c8ae-4e02-9a0e-55412bdaf12d/assets\n"
     ]
    },
    {
     "name": "stderr",
     "output_type": "stream",
     "text": [
      "INFO:tensorflow:Assets written to: ram://faf02df4-c8ae-4e02-9a0e-55412bdaf12d/assets\n"
     ]
    },
    {
     "name": "stdout",
     "output_type": "stream",
     "text": [
      "Training cifar10_model_3_100\n"
     ]
    },
    {
     "name": "stderr",
     "output_type": "stream",
     "text": [
      "WARNING:absl:Found untraced functions such as _jit_compiled_convolution_op, _jit_compiled_convolution_op while saving (showing 2 of 2). These functions will not be directly callable after loading.\n"
     ]
    },
    {
     "name": "stdout",
     "output_type": "stream",
     "text": [
      "INFO:tensorflow:Assets written to: ram://c9818a6f-5bbf-4f66-ad94-5ca1d383baeb/assets\n"
     ]
    },
    {
     "name": "stderr",
     "output_type": "stream",
     "text": [
      "INFO:tensorflow:Assets written to: ram://c9818a6f-5bbf-4f66-ad94-5ca1d383baeb/assets\n"
     ]
    },
    {
     "name": "stdout",
     "output_type": "stream",
     "text": [
      "Training cifar10_model_3_200\n"
     ]
    },
    {
     "name": "stderr",
     "output_type": "stream",
     "text": [
      "WARNING:absl:Found untraced functions such as _jit_compiled_convolution_op, _jit_compiled_convolution_op while saving (showing 2 of 2). These functions will not be directly callable after loading.\n"
     ]
    },
    {
     "name": "stdout",
     "output_type": "stream",
     "text": [
      "INFO:tensorflow:Assets written to: ram://92e6ab8e-47c3-4115-9c18-113fed0670e7/assets\n"
     ]
    },
    {
     "name": "stderr",
     "output_type": "stream",
     "text": [
      "INFO:tensorflow:Assets written to: ram://92e6ab8e-47c3-4115-9c18-113fed0670e7/assets\n"
     ]
    },
    {
     "name": "stdout",
     "output_type": "stream",
     "text": [
      "Training cifar10_model_3_300\n"
     ]
    },
    {
     "name": "stderr",
     "output_type": "stream",
     "text": [
      "WARNING:absl:Found untraced functions such as _jit_compiled_convolution_op, _jit_compiled_convolution_op while saving (showing 2 of 2). These functions will not be directly callable after loading.\n"
     ]
    },
    {
     "name": "stdout",
     "output_type": "stream",
     "text": [
      "INFO:tensorflow:Assets written to: ram://26021851-62a8-4528-a84f-d913f8a07b1f/assets\n"
     ]
    },
    {
     "name": "stderr",
     "output_type": "stream",
     "text": [
      "INFO:tensorflow:Assets written to: ram://26021851-62a8-4528-a84f-d913f8a07b1f/assets\n"
     ]
    },
    {
     "name": "stdout",
     "output_type": "stream",
     "text": [
      "Training cifar10_model_3_400\n"
     ]
    },
    {
     "name": "stderr",
     "output_type": "stream",
     "text": [
      "WARNING:absl:Found untraced functions such as _jit_compiled_convolution_op, _jit_compiled_convolution_op while saving (showing 2 of 2). These functions will not be directly callable after loading.\n"
     ]
    },
    {
     "name": "stdout",
     "output_type": "stream",
     "text": [
      "INFO:tensorflow:Assets written to: ram://c7eaee21-c6a6-4854-abe2-cb03a43eba61/assets\n"
     ]
    },
    {
     "name": "stderr",
     "output_type": "stream",
     "text": [
      "INFO:tensorflow:Assets written to: ram://c7eaee21-c6a6-4854-abe2-cb03a43eba61/assets\n"
     ]
    },
    {
     "name": "stdout",
     "output_type": "stream",
     "text": [
      "Training cifar10_model_4_0\n"
     ]
    },
    {
     "name": "stderr",
     "output_type": "stream",
     "text": [
      "WARNING:absl:Found untraced functions such as _jit_compiled_convolution_op, _jit_compiled_convolution_op while saving (showing 2 of 2). These functions will not be directly callable after loading.\n"
     ]
    },
    {
     "name": "stdout",
     "output_type": "stream",
     "text": [
      "INFO:tensorflow:Assets written to: ram://87ec9631-e4d2-465b-a59a-898845a097a1/assets\n"
     ]
    },
    {
     "name": "stderr",
     "output_type": "stream",
     "text": [
      "INFO:tensorflow:Assets written to: ram://87ec9631-e4d2-465b-a59a-898845a097a1/assets\n"
     ]
    },
    {
     "name": "stdout",
     "output_type": "stream",
     "text": [
      "Training cifar10_model_4_100\n"
     ]
    },
    {
     "name": "stderr",
     "output_type": "stream",
     "text": [
      "WARNING:absl:Found untraced functions such as _jit_compiled_convolution_op, _jit_compiled_convolution_op while saving (showing 2 of 2). These functions will not be directly callable after loading.\n"
     ]
    },
    {
     "name": "stdout",
     "output_type": "stream",
     "text": [
      "INFO:tensorflow:Assets written to: ram://5d3f5afe-b54f-4190-8e22-1cfbfe7ab456/assets\n"
     ]
    },
    {
     "name": "stderr",
     "output_type": "stream",
     "text": [
      "INFO:tensorflow:Assets written to: ram://5d3f5afe-b54f-4190-8e22-1cfbfe7ab456/assets\n"
     ]
    },
    {
     "name": "stdout",
     "output_type": "stream",
     "text": [
      "Training cifar10_model_4_200\n"
     ]
    },
    {
     "name": "stderr",
     "output_type": "stream",
     "text": [
      "WARNING:absl:Found untraced functions such as _jit_compiled_convolution_op, _jit_compiled_convolution_op while saving (showing 2 of 2). These functions will not be directly callable after loading.\n"
     ]
    },
    {
     "name": "stdout",
     "output_type": "stream",
     "text": [
      "INFO:tensorflow:Assets written to: ram://e70a6457-2d65-4670-94e9-de18daff777a/assets\n"
     ]
    },
    {
     "name": "stderr",
     "output_type": "stream",
     "text": [
      "INFO:tensorflow:Assets written to: ram://e70a6457-2d65-4670-94e9-de18daff777a/assets\n"
     ]
    },
    {
     "name": "stdout",
     "output_type": "stream",
     "text": [
      "Training cifar10_model_4_300\n"
     ]
    },
    {
     "name": "stderr",
     "output_type": "stream",
     "text": [
      "WARNING:absl:Found untraced functions such as _jit_compiled_convolution_op, _jit_compiled_convolution_op while saving (showing 2 of 2). These functions will not be directly callable after loading.\n"
     ]
    },
    {
     "name": "stdout",
     "output_type": "stream",
     "text": [
      "INFO:tensorflow:Assets written to: ram://1c58355c-0dd6-4d69-921f-af54eda051ef/assets\n"
     ]
    },
    {
     "name": "stderr",
     "output_type": "stream",
     "text": [
      "INFO:tensorflow:Assets written to: ram://1c58355c-0dd6-4d69-921f-af54eda051ef/assets\n"
     ]
    },
    {
     "name": "stdout",
     "output_type": "stream",
     "text": [
      "Training cifar10_model_4_400\n"
     ]
    },
    {
     "name": "stderr",
     "output_type": "stream",
     "text": [
      "WARNING:absl:Found untraced functions such as _jit_compiled_convolution_op, _jit_compiled_convolution_op while saving (showing 2 of 2). These functions will not be directly callable after loading.\n"
     ]
    },
    {
     "name": "stdout",
     "output_type": "stream",
     "text": [
      "INFO:tensorflow:Assets written to: ram://f7937c33-4c3a-4de4-bd87-2f0998185111/assets\n"
     ]
    },
    {
     "name": "stderr",
     "output_type": "stream",
     "text": [
      "INFO:tensorflow:Assets written to: ram://f7937c33-4c3a-4de4-bd87-2f0998185111/assets\n"
     ]
    }
   ],
   "source": [
    "### load models and train kgn ###\n",
    "for task, classes in enumerate(classes_to_consider):\n",
    "    (x_train, y_train), (x_test, y_test), _ = get_data(classes)\n",
    "    for seed in seeds:\n",
    "        print('Training cifar10_model_'+str(task)+'_'+str(seed))\n",
    "        nn = keras.models.load_model('lenet_models/cifar10_model_'+str(task)+'_'+str(seed))\n",
    "        model_kdn = kdn(network=nn)\n",
    "        model_kdn.fit(x_train, y_train, batch=10)\n",
    "        model_kdn.global_bias = -1e9\n",
    "        \n",
    "        with open('kdn_models/cifar10_model_'+str(task)+'_'+str(seed)+'.pickle', 'wb') as f:\n",
    "            pickle.dump(model_kdn, f)"
   ]
  },
  {
   "cell_type": "code",
   "execution_count": null,
   "id": "6ff686c4",
   "metadata": {},
   "outputs": [
    {
     "name": "stdout",
     "output_type": "stream",
     "text": [
      "Testing cifar10_model_0_0\n",
      "45/63 [====================>.........] - ETA: 0s"
     ]
    },
    {
     "name": "stderr",
     "output_type": "stream",
     "text": [
      "2023-08-06 10:28:33.053932: I tensorflow/core/grappler/optimizers/custom_graph_optimizer_registry.cc:113] Plugin optimizer for device_type GPU is enabled.\n"
     ]
    },
    {
     "name": "stdout",
     "output_type": "stream",
     "text": [
      "63/63 [==============================] - 0s 3ms/step\n",
      "Task  0  MMC  0.9991891127820134\n",
      "Task  0  MMC  0.99110293\n",
      "63/63 [==============================] - 0s 2ms/step\n",
      "Task  1  MMC  0.7368346296723508\n",
      "Task  1  MMC  0.98095727\n",
      "63/63 [==============================] - 0s 2ms/step\n",
      "Task  2  MMC  0.7361423490043749\n",
      "Task  2  MMC  0.98203325\n",
      "63/63 [==============================] - 0s 2ms/step\n",
      "Task  3  MMC  0.7123024606360723\n",
      "Task  3  MMC  0.971602\n",
      "63/63 [==============================] - 0s 2ms/step\n",
      "Task  4  MMC  0.704356885264001\n",
      "Task  4  MMC  0.980611\n",
      "63/63 [==============================] - 0s 2ms/step\n",
      "cifar100  MMC  0.7403559987551153\n",
      "cifar100  MMC  0.97944117\n",
      "63/63 [==============================] - 0s 2ms/step\n",
      "svhn  MMC  0.5029994309727048\n",
      "svhn  MMC  0.9824552\n",
      "63/63 [==============================] - 0s 2ms/step\n",
      "noise  MMC  0.5044974536174789\n",
      "noise  MMC  0.9948486\n",
      "Testing cifar10_model_0_100\n",
      "46/63 [====================>.........] - ETA: 0s"
     ]
    },
    {
     "name": "stderr",
     "output_type": "stream",
     "text": [
      "2023-08-06 10:58:54.364016: I tensorflow/core/grappler/optimizers/custom_graph_optimizer_registry.cc:113] Plugin optimizer for device_type GPU is enabled.\n"
     ]
    },
    {
     "name": "stdout",
     "output_type": "stream",
     "text": [
      "63/63 [==============================] - 0s 3ms/step\n",
      "Task  0  MMC  0.99897890123296\n",
      "Task  0  MMC  0.9932534\n",
      "63/63 [==============================] - 0s 2ms/step\n",
      "Task  1  MMC  0.6657239409749752\n",
      "Task  1  MMC  0.98026067\n",
      "63/63 [==============================] - 0s 2ms/step\n",
      "Task  2  MMC  0.6384808350903985\n",
      "Task  2  MMC  0.9799261\n",
      "63/63 [==============================] - 0s 2ms/step\n",
      "Task  3  MMC  0.6174468772096005\n",
      "Task  3  MMC  0.9767306\n",
      "63/63 [==============================] - 0s 2ms/step\n",
      "Task  4  MMC  0.6119939098131671\n",
      "Task  4  MMC  0.9839808\n",
      "63/63 [==============================] - 0s 2ms/step\n",
      "cifar100  MMC  0.6534675092919906\n",
      "cifar100  MMC  0.98133093\n",
      "63/63 [==============================] - 0s 2ms/step\n",
      "svhn  MMC  0.5012499954786107\n",
      "svhn  MMC  0.99773306\n",
      "63/63 [==============================] - 0s 2ms/step\n",
      "noise  MMC  0.5002499512862915\n",
      "noise  MMC  0.9989194\n",
      "Testing cifar10_model_0_200\n",
      "47/63 [=====================>........] - ETA: 0s"
     ]
    },
    {
     "name": "stderr",
     "output_type": "stream",
     "text": [
      "2023-08-06 11:29:09.349801: I tensorflow/core/grappler/optimizers/custom_graph_optimizer_registry.cc:113] Plugin optimizer for device_type GPU is enabled.\n"
     ]
    },
    {
     "name": "stdout",
     "output_type": "stream",
     "text": [
      "63/63 [==============================] - 0s 3ms/step\n",
      "Task  0  MMC  0.9972494749243354\n",
      "Task  0  MMC  0.99182063\n",
      "63/63 [==============================] - 0s 2ms/step\n",
      "Task  1  MMC  0.6289996031129017\n",
      "Task  1  MMC  0.9788495\n",
      "63/63 [==============================] - 0s 2ms/step\n",
      "Task  2  MMC  0.6092498942224143\n",
      "Task  2  MMC  0.97736305\n",
      "63/63 [==============================] - 0s 2ms/step\n",
      "Task  3  MMC  0.5587498425455724\n",
      "Task  3  MMC  0.97281116\n",
      "63/63 [==============================] - 0s 2ms/step\n",
      "Task  4  MMC  0.5802498510088805\n",
      "Task  4  MMC  0.97923726\n",
      "63/63 [==============================] - 0s 2ms/step\n",
      "cifar100  MMC  0.6269976908672005\n",
      "cifar100  MMC  0.97732127\n",
      "63/63 [==============================] - 0s 2ms/step\n",
      "svhn  MMC  0.5\n",
      "svhn  MMC  0.9999398\n",
      "63/63 [==============================] - 0s 2ms/step\n",
      "noise  MMC  0.5\n",
      "noise  MMC  0.9998655\n",
      "Testing cifar10_model_0_300\n",
      "49/63 [======================>.......] - ETA: 0s"
     ]
    },
    {
     "name": "stderr",
     "output_type": "stream",
     "text": [
      "2023-08-06 11:59:13.046982: I tensorflow/core/grappler/optimizers/custom_graph_optimizer_registry.cc:113] Plugin optimizer for device_type GPU is enabled.\n"
     ]
    },
    {
     "name": "stdout",
     "output_type": "stream",
     "text": [
      "63/63 [==============================] - 0s 3ms/step\n",
      "Task  0  MMC  0.9992499975539194\n",
      "Task  0  MMC  0.9922407\n",
      "63/63 [==============================] - 0s 2ms/step\n",
      "Task  1  MMC  0.6254999993665249\n",
      "Task  1  MMC  0.979182\n",
      "63/63 [==============================] - 0s 2ms/step\n",
      "Task  2  MMC  0.6012499999101253\n",
      "Task  2  MMC  0.97679615\n",
      "63/63 [==============================] - 0s 2ms/step\n",
      "Task  3  MMC  0.576499999811314\n",
      "Task  3  MMC  0.97273755\n",
      "63/63 [==============================] - 0s 2ms/step\n",
      "Task  4  MMC  0.590749999528964\n",
      "Task  4  MMC  0.9793528\n",
      "63/63 [==============================] - 0s 2ms/step\n",
      "cifar100  MMC  0.6332499982299093\n",
      "cifar100  MMC  0.97816867\n",
      "63/63 [==============================] - 0s 2ms/step\n",
      "svhn  MMC  0.5\n",
      "svhn  MMC  0.99640906\n",
      "63/63 [==============================] - 0s 2ms/step\n",
      "noise  MMC  0.5\n",
      "noise  MMC  0.99718994\n",
      "Testing cifar10_model_0_400\n",
      "47/63 [=====================>........] - ETA: 0s"
     ]
    },
    {
     "name": "stderr",
     "output_type": "stream",
     "text": [
      "2023-08-06 12:29:11.367375: I tensorflow/core/grappler/optimizers/custom_graph_optimizer_registry.cc:113] Plugin optimizer for device_type GPU is enabled.\n"
     ]
    },
    {
     "name": "stdout",
     "output_type": "stream",
     "text": [
      "63/63 [==============================] - 0s 3ms/step\n",
      "Task  0  MMC  0.9997499992394316\n",
      "Task  0  MMC  0.99036264\n",
      "63/63 [==============================] - 0s 2ms/step\n",
      "Task  1  MMC  0.6447499999983057\n",
      "Task  1  MMC  0.98058546\n",
      "63/63 [==============================] - 0s 2ms/step\n",
      "Task  2  MMC  0.6039999999978974\n",
      "Task  2  MMC  0.98089254\n",
      "63/63 [==============================] - 0s 2ms/step\n",
      "Task  3  MMC  0.5944999999980634\n",
      "Task  3  MMC  0.9742293\n",
      "63/63 [==============================] - 0s 2ms/step\n",
      "Task  4  MMC  0.594499999995925\n",
      "Task  4  MMC  0.9793269\n",
      "63/63 [==============================] - 0s 2ms/step\n",
      "cifar100  MMC  0.6404999999958975\n",
      "cifar100  MMC  0.97774833\n",
      "63/63 [==============================] - 0s 2ms/step\n",
      "svhn  MMC  0.511\n",
      "svhn  MMC  0.99409485\n",
      "63/63 [==============================] - 0s 2ms/step\n",
      "noise  MMC  0.50525\n",
      "noise  MMC  0.9904693\n",
      "Testing cifar10_model_1_0\n",
      "47/63 [=====================>........] - ETA: 0s"
     ]
    },
    {
     "name": "stderr",
     "output_type": "stream",
     "text": [
      "2023-08-06 12:59:13.496202: I tensorflow/core/grappler/optimizers/custom_graph_optimizer_registry.cc:113] Plugin optimizer for device_type GPU is enabled.\n"
     ]
    },
    {
     "name": "stdout",
     "output_type": "stream",
     "text": [
      "63/63 [==============================] - 0s 3ms/step\n",
      "Task  0  MMC  0.60975\n",
      "Task  0  MMC  0.9773074\n",
      "63/63 [==============================] - 0s 2ms/step\n",
      "Task  1  MMC  0.99975\n",
      "Task  1  MMC  0.98279727\n",
      "63/63 [==============================] - 0s 2ms/step\n",
      "Task  2  MMC  0.5955\n",
      "Task  2  MMC  0.9825418\n",
      "63/63 [==============================] - 0s 2ms/step\n",
      "Task  3  MMC  0.5815\n",
      "Task  3  MMC  0.97591597\n",
      "63/63 [==============================] - 0s 2ms/step\n",
      "Task  4  MMC  0.5565\n",
      "Task  4  MMC  0.97373337\n",
      "63/63 [==============================] - 0s 2ms/step\n",
      "cifar100  MMC  0.604\n",
      "cifar100  MMC  0.98024136\n",
      "63/63 [==============================] - 0s 2ms/step\n",
      "svhn  MMC  0.5515\n",
      "svhn  MMC  0.96179914\n",
      "63/63 [==============================] - 0s 2ms/step\n",
      "noise  MMC  0.5055\n",
      "noise  MMC  0.9894111\n",
      "Testing cifar10_model_1_100\n",
      "50/63 [======================>.......] - ETA: 0s"
     ]
    },
    {
     "name": "stderr",
     "output_type": "stream",
     "text": [
      "2023-08-06 13:28:58.352174: I tensorflow/core/grappler/optimizers/custom_graph_optimizer_registry.cc:113] Plugin optimizer for device_type GPU is enabled.\n"
     ]
    },
    {
     "name": "stdout",
     "output_type": "stream",
     "text": [
      "63/63 [==============================] - 0s 3ms/step\n",
      "Task  0  MMC  0.6102474594416094\n",
      "Task  0  MMC  0.9719707\n",
      "63/63 [==============================] - 0s 2ms/step\n",
      "Task  1  MMC  0.9994990115393059\n",
      "Task  1  MMC  0.97732264\n",
      "63/63 [==============================] - 0s 2ms/step\n",
      "Task  2  MMC  0.6112482979775309\n",
      "Task  2  MMC  0.9771111\n",
      "63/63 [==============================] - 0s 2ms/step\n",
      "Task  3  MMC  0.5909991114315496\n",
      "Task  3  MMC  0.9736059\n",
      "63/63 [==============================] - 0s 2ms/step\n",
      "Task  4  MMC  0.5502498818368815\n",
      "Task  4  MMC  0.97140014\n",
      "63/63 [==============================] - 0s 2ms/step\n",
      "cifar100  MMC  0.6072491302860137\n",
      "cifar100  MMC  0.9718324\n",
      "63/63 [==============================] - 0s 2ms/step\n",
      "svhn  MMC  0.50025\n",
      "svhn  MMC  0.98744166\n",
      "63/63 [==============================] - 0s 2ms/step\n",
      "noise  MMC  0.5\n",
      "noise  MMC  0.99811906\n",
      "Testing cifar10_model_1_200\n",
      "48/63 [=====================>........] - ETA: 0s"
     ]
    },
    {
     "name": "stderr",
     "output_type": "stream",
     "text": [
      "2023-08-06 13:58:43.088317: I tensorflow/core/grappler/optimizers/custom_graph_optimizer_registry.cc:113] Plugin optimizer for device_type GPU is enabled.\n"
     ]
    },
    {
     "name": "stdout",
     "output_type": "stream",
     "text": [
      "63/63 [==============================] - 0s 3ms/step\n",
      "Task  0  MMC  0.6109999527901806\n",
      "Task  0  MMC  0.97767556\n",
      "63/63 [==============================] - 0s 2ms/step\n",
      "Task  1  MMC  0.9969998305542142\n",
      "Task  1  MMC  0.9808458\n",
      "63/63 [==============================] - 0s 2ms/step\n",
      "Task  2  MMC  0.6132499304305246\n",
      "Task  2  MMC  0.97788125\n",
      "63/63 [==============================] - 0s 2ms/step\n",
      "Task  3  MMC  0.5814999353262585\n",
      "Task  3  MMC  0.9760177\n",
      "63/63 [==============================] - 0s 2ms/step\n",
      "Task  4  MMC  0.5547499757018939\n",
      "Task  4  MMC  0.97383267\n",
      "63/63 [==============================] - 0s 2ms/step\n",
      "cifar100  MMC  0.6164999366040408\n",
      "cifar100  MMC  0.9732356\n",
      "63/63 [==============================] - 0s 2ms/step\n",
      "svhn  MMC  0.5667499825263163\n",
      "svhn  MMC  0.9649748\n",
      "63/63 [==============================] - 0s 2ms/step\n",
      "noise  MMC  0.5\n",
      "noise  MMC  0.96911156\n",
      "Testing cifar10_model_1_300\n",
      "48/63 [=====================>........] - ETA: 0s"
     ]
    },
    {
     "name": "stderr",
     "output_type": "stream",
     "text": [
      "2023-08-06 14:28:28.270808: I tensorflow/core/grappler/optimizers/custom_graph_optimizer_registry.cc:113] Plugin optimizer for device_type GPU is enabled.\n"
     ]
    },
    {
     "name": "stdout",
     "output_type": "stream",
     "text": [
      "63/63 [==============================] - 0s 3ms/step\n",
      "Task  0  MMC  0.6332499999199195\n",
      "Task  0  MMC  0.9760191\n",
      "63/63 [==============================] - 0s 2ms/step\n",
      "Task  1  MMC  0.9992499997897588\n",
      "Task  1  MMC  0.98255557\n",
      "63/63 [==============================] - 0s 2ms/step\n",
      "Task  2  MMC  0.6147499999129563\n",
      "Task  2  MMC  0.97630584\n",
      "63/63 [==============================] - 0s 2ms/step\n",
      "Task  3  MMC  0.600999999873803\n",
      "Task  3  MMC  0.9748671\n",
      "63/63 [==============================] - 0s 2ms/step\n",
      "Task  4  MMC  0.5712499999717986\n",
      "Task  4  MMC  0.97810435\n",
      "63/63 [==============================] - 0s 2ms/step\n",
      "cifar100  MMC  0.6249999999298242\n",
      "cifar100  MMC  0.9790848\n",
      "63/63 [==============================] - 0s 2ms/step\n",
      "svhn  MMC  0.5285\n",
      "svhn  MMC  0.9970082\n",
      "63/63 [==============================] - 0s 2ms/step\n",
      "noise  MMC  0.50325\n",
      "noise  MMC  0.9893309\n",
      "Testing cifar10_model_1_400\n",
      "45/63 [====================>.........] - ETA: 0s"
     ]
    },
    {
     "name": "stderr",
     "output_type": "stream",
     "text": [
      "2023-08-06 14:58:14.256205: I tensorflow/core/grappler/optimizers/custom_graph_optimizer_registry.cc:113] Plugin optimizer for device_type GPU is enabled.\n"
     ]
    },
    {
     "name": "stdout",
     "output_type": "stream",
     "text": [
      "63/63 [==============================] - 0s 3ms/step\n",
      "Task  0  MMC  0.6102499999677528\n",
      "Task  0  MMC  0.977677\n",
      "63/63 [==============================] - 0s 2ms/step\n",
      "Task  1  MMC  0.9984999938121623\n",
      "Task  1  MMC  0.9858229\n",
      "63/63 [==============================] - 0s 2ms/step\n",
      "Task  2  MMC  0.5869999999781426\n",
      "Task  2  MMC  0.9802357\n",
      "63/63 [==============================] - 0s 2ms/step\n",
      "Task  3  MMC  0.5774999999466597\n",
      "Task  3  MMC  0.97797495\n",
      "63/63 [==============================] - 0s 2ms/step\n",
      "Task  4  MMC  0.5537499999766242\n",
      "Task  4  MMC  0.9769101\n",
      "63/63 [==============================] - 0s 2ms/step\n",
      "cifar100  MMC  0.5967499999260326\n",
      "cifar100  MMC  0.98030186\n",
      "63/63 [==============================] - 0s 2ms/step\n",
      "svhn  MMC  0.5\n",
      "svhn  MMC  0.9687397\n",
      "63/63 [==============================] - 0s 2ms/step\n",
      "noise  MMC  0.5\n",
      "noise  MMC  0.97428393\n",
      "Testing cifar10_model_2_0\n",
      "49/63 [======================>.......] - ETA: 0s"
     ]
    },
    {
     "name": "stderr",
     "output_type": "stream",
     "text": [
      "2023-08-06 15:27:59.048779: I tensorflow/core/grappler/optimizers/custom_graph_optimizer_registry.cc:113] Plugin optimizer for device_type GPU is enabled.\n"
     ]
    },
    {
     "name": "stdout",
     "output_type": "stream",
     "text": [
      "63/63 [==============================] - 0s 3ms/step\n",
      "Task  0  MMC  0.570499997902281\n",
      "Task  0  MMC  0.9805754\n",
      "63/63 [==============================] - 0s 2ms/step\n",
      "Task  1  MMC  0.5867499982610362\n",
      "Task  1  MMC  0.9831547\n",
      "63/63 [==============================] - 0s 2ms/step\n",
      "Task  2  MMC  0.999499996611217\n",
      "Task  2  MMC  0.98548156\n",
      "63/63 [==============================] - 0s 2ms/step\n",
      "Task  3  MMC  0.5527499990616105\n",
      "Task  3  MMC  0.97867614\n",
      "63/63 [==============================] - 0s 2ms/step\n",
      "Task  4  MMC  0.541999999201575\n",
      "Task  4  MMC  0.97585714\n",
      "63/63 [==============================] - 0s 2ms/step\n",
      "cifar100  MMC  0.5797499961284073\n",
      "cifar100  MMC  0.98340195\n",
      "63/63 [==============================] - 0s 2ms/step\n",
      "svhn  MMC  0.5005\n",
      "svhn  MMC  0.9249022\n",
      "63/63 [==============================] - 0s 2ms/step\n",
      "noise  MMC  0.5002499999999624\n",
      "noise  MMC  0.9812372\n",
      "Testing cifar10_model_2_100\n",
      "46/63 [====================>.........] - ETA: 0s"
     ]
    },
    {
     "name": "stderr",
     "output_type": "stream",
     "text": [
      "2023-08-06 15:57:43.547904: I tensorflow/core/grappler/optimizers/custom_graph_optimizer_registry.cc:113] Plugin optimizer for device_type GPU is enabled.\n"
     ]
    },
    {
     "name": "stdout",
     "output_type": "stream",
     "text": [
      "63/63 [==============================] - 0s 3ms/step\n",
      "Task  0  MMC  0.57225\n",
      "Task  0  MMC  0.9770117\n",
      "63/63 [==============================] - 0s 2ms/step\n",
      "Task  1  MMC  0.61025\n",
      "Task  1  MMC  0.98011684\n",
      "63/63 [==============================] - 0s 2ms/step\n",
      "Task  2  MMC  0.99975\n",
      "Task  2  MMC  0.98462844\n",
      "63/63 [==============================] - 0s 2ms/step\n",
      "Task  3  MMC  0.584\n",
      "Task  3  MMC  0.97609055\n",
      "63/63 [==============================] - 0s 2ms/step\n",
      "Task  4  MMC  0.54525\n",
      "Task  4  MMC  0.9798897\n",
      "63/63 [==============================] - 0s 2ms/step\n",
      "cifar100  MMC  0.60525\n",
      "cifar100  MMC  0.97871935\n",
      "63/63 [==============================] - 0s 2ms/step\n",
      "svhn  MMC  0.5\n",
      "svhn  MMC  0.90934324\n",
      "63/63 [==============================] - 0s 2ms/step\n",
      "noise  MMC  0.5\n",
      "noise  MMC  0.9704004\n",
      "Testing cifar10_model_2_200\n",
      "49/63 [======================>.......] - ETA: 0s"
     ]
    },
    {
     "name": "stderr",
     "output_type": "stream",
     "text": [
      "2023-08-06 16:27:24.390603: I tensorflow/core/grappler/optimizers/custom_graph_optimizer_registry.cc:113] Plugin optimizer for device_type GPU is enabled.\n"
     ]
    },
    {
     "name": "stdout",
     "output_type": "stream",
     "text": [
      "63/63 [==============================] - 0s 3ms/step\n",
      "Task  0  MMC  0.5889999914569024\n",
      "Task  0  MMC  0.98153645\n",
      "63/63 [==============================] - 0s 2ms/step\n",
      "Task  1  MMC  0.5852499815738409\n",
      "Task  1  MMC  0.9834095\n",
      "63/63 [==============================] - 0s 2ms/step\n",
      "Task  2  MMC  0.9979999557297415\n",
      "Task  2  MMC  0.9863154\n",
      "63/63 [==============================] - 0s 2ms/step\n",
      "Task  3  MMC  0.5512499790349422\n",
      "Task  3  MMC  0.97940886\n",
      "63/63 [==============================] - 0s 2ms/step\n",
      "Task  4  MMC  0.5602499872335677\n",
      "Task  4  MMC  0.9796607\n",
      "63/63 [==============================] - 0s 2ms/step\n",
      "cifar100  MMC  0.5792499881215808\n",
      "cifar100  MMC  0.9830856\n",
      "63/63 [==============================] - 0s 2ms/step\n",
      "svhn  MMC  0.5\n",
      "svhn  MMC  0.9446901\n",
      "63/63 [==============================] - 0s 2ms/step\n",
      "noise  MMC  0.5\n",
      "noise  MMC  0.9876125\n",
      "Testing cifar10_model_2_300\n",
      "49/63 [======================>.......] - ETA: 0s"
     ]
    },
    {
     "name": "stderr",
     "output_type": "stream",
     "text": [
      "2023-08-06 16:57:06.406792: I tensorflow/core/grappler/optimizers/custom_graph_optimizer_registry.cc:113] Plugin optimizer for device_type GPU is enabled.\n"
     ]
    },
    {
     "name": "stdout",
     "output_type": "stream",
     "text": [
      "63/63 [==============================] - 0s 3ms/step\n",
      "Task  0  MMC  0.56175\n",
      "Task  0  MMC  0.9819274\n",
      "63/63 [==============================] - 0s 2ms/step\n",
      "Task  1  MMC  0.57675\n",
      "Task  1  MMC  0.98300254\n",
      "63/63 [==============================] - 0s 2ms/step\n",
      "Task  2  MMC  0.9955\n",
      "Task  2  MMC  0.9848878\n",
      "63/63 [==============================] - 0s 2ms/step\n",
      "Task  3  MMC  0.54825\n",
      "Task  3  MMC  0.98137134\n",
      "63/63 [==============================] - 0s 2ms/step\n",
      "Task  4  MMC  0.533\n",
      "Task  4  MMC  0.9824786\n",
      "63/63 [==============================] - 0s 2ms/step\n",
      "cifar100  MMC  0.56675\n",
      "cifar100  MMC  0.9845304\n",
      "63/63 [==============================] - 0s 2ms/step\n",
      "svhn  MMC  0.5\n",
      "svhn  MMC  0.93091196\n",
      "63/63 [==============================] - 0s 2ms/step\n",
      "noise  MMC  0.5\n",
      "noise  MMC  0.9774375\n",
      "Testing cifar10_model_2_400\n",
      "50/63 [======================>.......] - ETA: 0s"
     ]
    },
    {
     "name": "stderr",
     "output_type": "stream",
     "text": [
      "2023-08-06 17:26:49.991736: I tensorflow/core/grappler/optimizers/custom_graph_optimizer_registry.cc:113] Plugin optimizer for device_type GPU is enabled.\n"
     ]
    },
    {
     "name": "stdout",
     "output_type": "stream",
     "text": [
      "63/63 [==============================] - 0s 3ms/step\n",
      "Task  0  MMC  0.5702499929627965\n",
      "Task  0  MMC  0.9828448\n",
      "63/63 [==============================] - 0s 2ms/step\n",
      "Task  1  MMC  0.5917499913810724\n",
      "Task  1  MMC  0.98062086\n",
      "63/63 [==============================] - 0s 2ms/step\n",
      "Task  2  MMC  0.9994999706562324\n",
      "Task  2  MMC  0.98658824\n",
      "63/63 [==============================] - 0s 2ms/step\n",
      "Task  3  MMC  0.5622499900889677\n",
      "Task  3  MMC  0.98011756\n",
      "63/63 [==============================] - 0s 2ms/step\n",
      "Task  4  MMC  0.539999994968374\n",
      "Task  4  MMC  0.98099905\n",
      "63/63 [==============================] - 0s 2ms/step\n",
      "cifar100  MMC  0.5822499924360945\n",
      "cifar100  MMC  0.980811\n",
      "63/63 [==============================] - 0s 2ms/step\n",
      "svhn  MMC  0.5087499989577535\n",
      "svhn  MMC  0.93247\n",
      "63/63 [==============================] - 0s 2ms/step\n",
      "noise  MMC  0.5\n",
      "noise  MMC  0.9578953\n",
      "Testing cifar10_model_3_0\n",
      "50/63 [======================>.......] - ETA: 0s"
     ]
    },
    {
     "name": "stderr",
     "output_type": "stream",
     "text": [
      "2023-08-06 17:56:37.561575: I tensorflow/core/grappler/optimizers/custom_graph_optimizer_registry.cc:113] Plugin optimizer for device_type GPU is enabled.\n"
     ]
    },
    {
     "name": "stdout",
     "output_type": "stream",
     "text": [
      "63/63 [==============================] - 0s 3ms/step\n",
      "Task  0  MMC  0.6605\n",
      "Task  0  MMC  0.9750377\n",
      "63/63 [==============================] - 0s 2ms/step\n",
      "Task  1  MMC  0.66175\n",
      "Task  1  MMC  0.97864854\n",
      "63/63 [==============================] - 1s 9ms/step\n",
      "Task  2  MMC  0.63\n",
      "Task  2  MMC  0.98284495\n",
      "63/63 [==============================] - 0s 2ms/step\n",
      "Task  3  MMC  1.0\n",
      "Task  3  MMC  0.9896277\n",
      "63/63 [==============================] - 0s 2ms/step\n",
      "Task  4  MMC  0.6025\n",
      "Task  4  MMC  0.9772463\n",
      "63/63 [==============================] - 0s 2ms/step\n",
      "cifar100  MMC  0.647\n",
      "cifar100  MMC  0.9788391\n",
      "63/63 [==============================] - 0s 2ms/step\n",
      "svhn  MMC  0.535\n",
      "svhn  MMC  0.93890274\n",
      "63/63 [==============================] - 0s 2ms/step\n",
      "noise  MMC  0.50075\n",
      "noise  MMC  0.9452709\n",
      "Testing cifar10_model_3_100\n",
      "50/63 [======================>.......] - ETA: 0s"
     ]
    },
    {
     "name": "stderr",
     "output_type": "stream",
     "text": [
      "2023-08-06 18:26:23.135791: I tensorflow/core/grappler/optimizers/custom_graph_optimizer_registry.cc:113] Plugin optimizer for device_type GPU is enabled.\n"
     ]
    },
    {
     "name": "stdout",
     "output_type": "stream",
     "text": [
      "63/63 [==============================] - 0s 3ms/step\n",
      "Task  0  MMC  0.57125\n",
      "Task  0  MMC  0.9720849\n",
      "63/63 [==============================] - 0s 2ms/step\n",
      "Task  1  MMC  0.5885\n",
      "Task  1  MMC  0.98013335\n",
      "63/63 [==============================] - 0s 2ms/step\n",
      "Task  2  MMC  0.569\n",
      "Task  2  MMC  0.9782905\n",
      "63/63 [==============================] - 0s 2ms/step\n",
      "Task  3  MMC  0.999\n",
      "Task  3  MMC  0.9901145\n",
      "63/63 [==============================] - 0s 2ms/step\n",
      "Task  4  MMC  0.53675\n",
      "Task  4  MMC  0.9751983\n",
      "63/63 [==============================] - 0s 2ms/step\n",
      "cifar100  MMC  0.5685\n",
      "cifar100  MMC  0.97758764\n",
      "63/63 [==============================] - 0s 2ms/step\n",
      "svhn  MMC  0.5545\n",
      "svhn  MMC  0.98222846\n",
      "63/63 [==============================] - 0s 2ms/step\n",
      "noise  MMC  0.5\n",
      "noise  MMC  0.97207415\n",
      "Testing cifar10_model_3_200\n",
      "49/63 [======================>.......] - ETA: 0s"
     ]
    },
    {
     "name": "stderr",
     "output_type": "stream",
     "text": [
      "2023-08-06 18:56:02.877568: I tensorflow/core/grappler/optimizers/custom_graph_optimizer_registry.cc:113] Plugin optimizer for device_type GPU is enabled.\n"
     ]
    },
    {
     "name": "stdout",
     "output_type": "stream",
     "text": [
      "63/63 [==============================] - 0s 3ms/step\n",
      "Task  0  MMC  0.5577499999991328\n",
      "Task  0  MMC  0.9778081\n",
      "63/63 [==============================] - 0s 2ms/step\n",
      "Task  1  MMC  0.5544999999992921\n",
      "Task  1  MMC  0.98104846\n",
      "63/63 [==============================] - 0s 2ms/step\n",
      "Task  2  MMC  0.5434999999996335\n",
      "Task  2  MMC  0.98007005\n",
      "63/63 [==============================] - 0s 2ms/step\n",
      "Task  3  MMC  0.9987499999302304\n",
      "Task  3  MMC  0.99279255\n",
      "63/63 [==============================] - 0s 3ms/step\n",
      "Task  4  MMC  0.5272499999994763\n",
      "Task  4  MMC  0.97737926\n",
      "63/63 [==============================] - 0s 3ms/step\n",
      "cifar100  MMC  0.5612499999988443\n",
      "cifar100  MMC  0.98218846\n",
      "63/63 [==============================] - 0s 2ms/step\n",
      "svhn  MMC  0.5\n",
      "svhn  MMC  0.99142283\n",
      "63/63 [==============================] - 0s 2ms/step\n",
      "noise  MMC  0.5\n",
      "noise  MMC  0.99228734\n",
      "Testing cifar10_model_3_300\n",
      "47/63 [=====================>........] - ETA: 0s"
     ]
    },
    {
     "name": "stderr",
     "output_type": "stream",
     "text": [
      "2023-08-06 19:26:13.770995: I tensorflow/core/grappler/optimizers/custom_graph_optimizer_registry.cc:113] Plugin optimizer for device_type GPU is enabled.\n"
     ]
    },
    {
     "name": "stdout",
     "output_type": "stream",
     "text": [
      "63/63 [==============================] - 0s 3ms/step\n",
      "Task  0  MMC  0.5824998093378506\n",
      "Task  0  MMC  0.9769765\n",
      "63/63 [==============================] - 0s 2ms/step\n",
      "Task  1  MMC  0.5882499068937023\n",
      "Task  1  MMC  0.97844434\n"
     ]
    }
   ],
   "source": [
    "subtract_pixel_mean = False\n",
    "normalize = False\n",
    "\n",
    "for task, classes in enumerate(classes_to_consider):\n",
    "    for seed in seeds:\n",
    "        print('Testing cifar10_model_'+str(task)+'_'+str(seed))\n",
    "        \n",
    "        np.random.seed(seed)\n",
    "        result = []\n",
    "        proba_kdn = {}\n",
    "        proba_dn = {}\n",
    "        predicted_label_kdn = {}\n",
    "        predicted_label_dn = {}\n",
    "        \n",
    "        (_, _), (_, _), train_mean = get_data(classes)\n",
    "        with open('kdn_models/cifar10_model_'+str(task)+'_'+str(seed)+'.pickle', 'rb') as f:\n",
    "            model_kdn = pickle.load(f)\n",
    "            \n",
    "        for task_, classes_ in enumerate(classes_to_consider):\n",
    "            \n",
    "            if task_ == task:\n",
    "                model_kdn.global_bias = -1e10\n",
    "            else:\n",
    "                model_kdn.global_bias = -1e7\n",
    "                \n",
    "            (_, _), (x_test, y_test), _ = get_data(classes_)\n",
    "            x_test -= trn_mean\n",
    "            \n",
    "            proba_kdn['Task '+str(task_)] = model_kdn.predict_proba(x_test, distance='Geodesic')\n",
    "            proba_dn['Task '+str(task_)] = model_kdn.network.predict(x_test)\n",
    "            predicted_label_kdn['Task '+str(task_)] = np.argmax(proba_kdn['Task '+str(task_)], axis = 1)\n",
    "            predicted_label_dn['Task '+str(task_)] = np.argmax(proba_dn['Task '+str(task_)], axis = 1)\n",
    "            print('Task ', task_, ' MMC ', np.mean(np.max(proba_kdn['Task '+str(task_)], axis=1)))\n",
    "            print('Task ', task_, ' MMC ', np.mean(np.max(proba_dn['Task '+str(task_)], axis=1)))\n",
    "        \n",
    "        \n",
    "        (_, _), (x_test, y_test) = keras.datasets.cifar100.load_data()\n",
    "        test_ids =  random.sample(range(0, x_test.shape[0]), 2000)\n",
    "        x_test = x_test[test_ids].astype('float32')\n",
    "        x_test -= trn_mean\n",
    "        proba_kdn['cifar100'] = model_kdn.predict_proba(x_test, distance='Geodesic')\n",
    "        proba_dn['cifar100'] = model_kdn.network.predict(x_test)\n",
    "        predicted_label_kdn['cifar100'] = np.argmax(proba_kdn['cifar100'], axis = 1)\n",
    "        predicted_label_dn['cifar100'] = np.argmax(proba_dn['cifar100'], axis = 1)\n",
    "        print('cifar100', ' MMC ', np.mean(np.max(proba_kdn['cifar100'], axis=1)))\n",
    "        print('cifar100', ' MMC ', np.mean(np.max(proba_dn['cifar100'], axis=1)))\n",
    "        \n",
    "        x_test = loadmat('/Users/jayantadey/svhn/train_32x32.mat')['X']\n",
    "        test_ids =  random.sample(range(0, x_test.shape[3]), 2000)\n",
    "        x_test = x_test[:,:,:,test_ids].astype('float32').reshape(2000,32,32,3)\n",
    "        x_test -= trn_mean\n",
    "        proba_kdn['svhn'] = model_kdn.predict_proba(x_test, distance='Geodesic')\n",
    "        proba_dn['svhn'] = model_kdn.network.predict(x_test)\n",
    "        predicted_label_kdn['svhn'] = np.argmax(proba_kdn['svhn'], axis = 1)\n",
    "        predicted_label_dn['svhn'] = np.argmax(proba_dn['svhn'], axis = 1)\n",
    "        print('svhn', ' MMC ', np.mean(np.max(proba_kdn['svhn'], axis=1)))\n",
    "        print('svhn', ' MMC ', np.mean(np.max(proba_dn['svhn'], axis=1)))\n",
    "        \n",
    "        x_test = np.random.random_integers(0,high=255,size=(2000,32,32,3)).astype('float')\n",
    "        x_test -= trn_mean\n",
    "        proba_kdn['noise'] = model_kdn.predict_proba(x_test, distance='Geodesic')\n",
    "        proba_dn['noise'] = model_kdn.network.predict(x_test)\n",
    "        predicted_label_kdn['noise'] = np.argmax(proba_kdn['noise'], axis = 1)\n",
    "        predicted_label_dn['noise'] = np.argmax(proba_dn['noise'], axis = 1)\n",
    "        print('noise', ' MMC ', np.mean(np.max(proba_kdn['noise'], axis=1)))\n",
    "        print('noise', ' MMC ', np.mean(np.max(proba_dn['noise'], axis=1)))\n",
    "        \n",
    "        result = [proba_kdn, proba_dn, predicted_label_kdn, predicted_label_dn]\n",
    "        with open('results/model_'+str(task)+'_'+str(seed)+'.pickle', 'wb') as f:\n",
    "            pickle.dump(result, f)"
   ]
  },
  {
   "cell_type": "code",
   "execution_count": 279,
   "id": "025e962c",
   "metadata": {},
   "outputs": [],
   "source": [
    "x_test = loadmat('/Users/jayantadey/svhn/train_32x32.mat')['X']\n",
    "test_ids =  random.sample(range(0, x_test.shape[3]-1), 200)\n",
    "x_test = x_test[:,:,:,test_ids].astype('float32').reshape(200,32,32,3)\n",
    "x_test -= trn_mean"
   ]
  },
  {
   "cell_type": "code",
   "execution_count": 262,
   "id": "a2c6c092",
   "metadata": {},
   "outputs": [],
   "source": [
    "x_test = np.random.random_integers(0,high=255,size=(200,32,32,3)).astype('float')\n",
    "x_test -= trn_mean"
   ]
  },
  {
   "cell_type": "code",
   "execution_count": 269,
   "id": "242c9c52",
   "metadata": {},
   "outputs": [],
   "source": [
    "model_kdn.global_bias = -1e7"
   ]
  },
  {
   "cell_type": "code",
   "execution_count": 284,
   "id": "b992a57e",
   "metadata": {},
   "outputs": [],
   "source": [
    "proba_kdn = model_kdn.predict_proba(x_test[:200], distance='Geodesic')"
   ]
  },
  {
   "cell_type": "code",
   "execution_count": 288,
   "id": "108f6c57",
   "metadata": {},
   "outputs": [
    {
     "ename": "AxisError",
     "evalue": "axis 1 is out of bounds for array of dimension 0",
     "output_type": "error",
     "traceback": [
      "\u001b[0;31m---------------------------------------------------------------------------\u001b[0m",
      "\u001b[0;31mAxisError\u001b[0m                                 Traceback (most recent call last)",
      "Input \u001b[0;32mIn [288]\u001b[0m, in \u001b[0;36m<cell line: 1>\u001b[0;34m()\u001b[0m\n\u001b[0;32m----> 1\u001b[0m np\u001b[38;5;241m.\u001b[39mmean(\u001b[43mnp\u001b[49m\u001b[38;5;241;43m.\u001b[39;49m\u001b[43mmax\u001b[49m\u001b[43m(\u001b[49m\u001b[43mproba_kdn\u001b[49m\u001b[43m,\u001b[49m\u001b[43m \u001b[49m\u001b[43maxis\u001b[49m\u001b[38;5;241;43m=\u001b[39;49m\u001b[38;5;241;43m1\u001b[39;49m\u001b[43m)\u001b[49m)\n",
      "File \u001b[0;32m<__array_function__ internals>:180\u001b[0m, in \u001b[0;36mamax\u001b[0;34m(*args, **kwargs)\u001b[0m\n",
      "File \u001b[0;32m~/miniforge3/envs/env/lib/python3.9/site-packages/numpy/core/fromnumeric.py:2791\u001b[0m, in \u001b[0;36mamax\u001b[0;34m(a, axis, out, keepdims, initial, where)\u001b[0m\n\u001b[1;32m   2675\u001b[0m \u001b[38;5;129m@array_function_dispatch\u001b[39m(_amax_dispatcher)\n\u001b[1;32m   2676\u001b[0m \u001b[38;5;28;01mdef\u001b[39;00m \u001b[38;5;21mamax\u001b[39m(a, axis\u001b[38;5;241m=\u001b[39m\u001b[38;5;28;01mNone\u001b[39;00m, out\u001b[38;5;241m=\u001b[39m\u001b[38;5;28;01mNone\u001b[39;00m, keepdims\u001b[38;5;241m=\u001b[39mnp\u001b[38;5;241m.\u001b[39m_NoValue, initial\u001b[38;5;241m=\u001b[39mnp\u001b[38;5;241m.\u001b[39m_NoValue,\n\u001b[1;32m   2677\u001b[0m          where\u001b[38;5;241m=\u001b[39mnp\u001b[38;5;241m.\u001b[39m_NoValue):\n\u001b[1;32m   2678\u001b[0m     \u001b[38;5;124;03m\"\"\"\u001b[39;00m\n\u001b[1;32m   2679\u001b[0m \u001b[38;5;124;03m    Return the maximum of an array or maximum along an axis.\u001b[39;00m\n\u001b[1;32m   2680\u001b[0m \n\u001b[0;32m   (...)\u001b[0m\n\u001b[1;32m   2789\u001b[0m \u001b[38;5;124;03m    5\u001b[39;00m\n\u001b[1;32m   2790\u001b[0m \u001b[38;5;124;03m    \"\"\"\u001b[39;00m\n\u001b[0;32m-> 2791\u001b[0m     \u001b[38;5;28;01mreturn\u001b[39;00m \u001b[43m_wrapreduction\u001b[49m\u001b[43m(\u001b[49m\u001b[43ma\u001b[49m\u001b[43m,\u001b[49m\u001b[43m \u001b[49m\u001b[43mnp\u001b[49m\u001b[38;5;241;43m.\u001b[39;49m\u001b[43mmaximum\u001b[49m\u001b[43m,\u001b[49m\u001b[43m \u001b[49m\u001b[38;5;124;43m'\u001b[39;49m\u001b[38;5;124;43mmax\u001b[39;49m\u001b[38;5;124;43m'\u001b[39;49m\u001b[43m,\u001b[49m\u001b[43m \u001b[49m\u001b[43maxis\u001b[49m\u001b[43m,\u001b[49m\u001b[43m \u001b[49m\u001b[38;5;28;43;01mNone\u001b[39;49;00m\u001b[43m,\u001b[49m\u001b[43m \u001b[49m\u001b[43mout\u001b[49m\u001b[43m,\u001b[49m\n\u001b[1;32m   2792\u001b[0m \u001b[43m                          \u001b[49m\u001b[43mkeepdims\u001b[49m\u001b[38;5;241;43m=\u001b[39;49m\u001b[43mkeepdims\u001b[49m\u001b[43m,\u001b[49m\u001b[43m \u001b[49m\u001b[43minitial\u001b[49m\u001b[38;5;241;43m=\u001b[39;49m\u001b[43minitial\u001b[49m\u001b[43m,\u001b[49m\u001b[43m \u001b[49m\u001b[43mwhere\u001b[49m\u001b[38;5;241;43m=\u001b[39;49m\u001b[43mwhere\u001b[49m\u001b[43m)\u001b[49m\n",
      "File \u001b[0;32m~/miniforge3/envs/env/lib/python3.9/site-packages/numpy/core/fromnumeric.py:86\u001b[0m, in \u001b[0;36m_wrapreduction\u001b[0;34m(obj, ufunc, method, axis, dtype, out, **kwargs)\u001b[0m\n\u001b[1;32m     83\u001b[0m         \u001b[38;5;28;01melse\u001b[39;00m:\n\u001b[1;32m     84\u001b[0m             \u001b[38;5;28;01mreturn\u001b[39;00m reduction(axis\u001b[38;5;241m=\u001b[39maxis, out\u001b[38;5;241m=\u001b[39mout, \u001b[38;5;241m*\u001b[39m\u001b[38;5;241m*\u001b[39mpasskwargs)\n\u001b[0;32m---> 86\u001b[0m \u001b[38;5;28;01mreturn\u001b[39;00m \u001b[43mufunc\u001b[49m\u001b[38;5;241;43m.\u001b[39;49m\u001b[43mreduce\u001b[49m\u001b[43m(\u001b[49m\u001b[43mobj\u001b[49m\u001b[43m,\u001b[49m\u001b[43m \u001b[49m\u001b[43maxis\u001b[49m\u001b[43m,\u001b[49m\u001b[43m \u001b[49m\u001b[43mdtype\u001b[49m\u001b[43m,\u001b[49m\u001b[43m \u001b[49m\u001b[43mout\u001b[49m\u001b[43m,\u001b[49m\u001b[43m \u001b[49m\u001b[38;5;241;43m*\u001b[39;49m\u001b[38;5;241;43m*\u001b[39;49m\u001b[43mpasskwargs\u001b[49m\u001b[43m)\u001b[49m\n",
      "\u001b[0;31mAxisError\u001b[0m: axis 1 is out of bounds for array of dimension 0"
     ]
    }
   ],
   "source": [
    "np.mean(np.max(proba_kdn, axis=1))"
   ]
  },
  {
   "cell_type": "code",
   "execution_count": 286,
   "id": "d0bd27e9",
   "metadata": {},
   "outputs": [
    {
     "data": {
      "text/plain": [
       "array([[9.97047284e-01, 2.95271601e-03],\n",
       "       [9.99996814e-01, 3.18565916e-06],\n",
       "       [9.93717524e-01, 6.28247618e-03],\n",
       "       [9.99645169e-01, 3.54830980e-04],\n",
       "       [5.00000000e-01, 5.00000000e-01],\n",
       "       [5.00000000e-01, 5.00000000e-01],\n",
       "       [9.96023302e-01, 3.97669786e-03],\n",
       "       [5.68507770e-05, 9.99943149e-01],\n",
       "       [9.99996814e-01, 3.18565916e-06],\n",
       "       [9.97985252e-01, 2.01474753e-03],\n",
       "       [5.00000000e-01, 5.00000000e-01],\n",
       "       [9.99922670e-01, 7.73295149e-05],\n",
       "       [5.00000000e-01, 5.00000000e-01],\n",
       "       [9.99668209e-01, 3.31791241e-04],\n",
       "       [9.99976180e-01, 2.38196682e-05],\n",
       "       [9.92937024e-01, 7.06297560e-03],\n",
       "       [5.00000000e-01, 5.00000000e-01],\n",
       "       [9.96024118e-01, 3.97588182e-03],\n",
       "       [5.00000000e-01, 5.00000000e-01],\n",
       "       [9.99411664e-01, 5.88335604e-04],\n",
       "       [9.99958113e-01, 4.18871693e-05],\n",
       "       [9.97904077e-01, 2.09592348e-03],\n",
       "       [9.99875613e-01, 1.24386730e-04],\n",
       "       [9.93824758e-01, 6.17524204e-03],\n",
       "       [9.99891473e-01, 1.08526513e-04],\n",
       "       [9.98640581e-01, 1.35941911e-03],\n",
       "       [9.92875343e-01, 7.12465749e-03],\n",
       "       [2.40021735e-04, 9.99759978e-01],\n",
       "       [1.27239101e-04, 9.99872761e-01],\n",
       "       [9.94668570e-01, 5.33143001e-03],\n",
       "       [5.00000000e-01, 5.00000000e-01],\n",
       "       [5.00000000e-01, 5.00000000e-01],\n",
       "       [2.39409028e-03, 9.97605910e-01],\n",
       "       [9.99706624e-01, 2.93376313e-04],\n",
       "       [9.99976180e-01, 2.38196682e-05],\n",
       "       [9.99875613e-01, 1.24386730e-04],\n",
       "       [9.94460972e-01, 5.53902844e-03],\n",
       "       [9.98418159e-01, 1.58184091e-03],\n",
       "       [9.97753227e-01, 2.24677314e-03],\n",
       "       [9.98889199e-01, 1.11080055e-03],\n",
       "       [5.00000000e-01, 5.00000000e-01],\n",
       "       [9.98262745e-01, 1.73725458e-03],\n",
       "       [5.00000000e-01, 5.00000000e-01],\n",
       "       [9.97497198e-01, 2.50280153e-03],\n",
       "       [5.00000000e-01, 5.00000000e-01],\n",
       "       [9.99875613e-01, 1.24386730e-04],\n",
       "       [9.98461644e-01, 1.53835634e-03],\n",
       "       [5.00000000e-01, 5.00000000e-01],\n",
       "       [5.00000000e-01, 5.00000000e-01],\n",
       "       [5.00000000e-01, 5.00000000e-01],\n",
       "       [9.99609280e-01, 3.90719757e-04],\n",
       "       [9.99691472e-01, 3.08528112e-04],\n",
       "       [9.99821981e-01, 1.78019340e-04],\n",
       "       [9.99947057e-01, 5.29434955e-05],\n",
       "       [9.99318592e-01, 6.81408022e-04],\n",
       "       [5.00000000e-01, 5.00000000e-01],\n",
       "       [9.92590896e-01, 7.40910408e-03],\n",
       "       [9.99557222e-01, 4.42777613e-04],\n",
       "       [9.99593603e-01, 4.06396767e-04],\n",
       "       [6.27111851e-04, 9.99372888e-01],\n",
       "       [9.99991214e-01, 8.78605358e-06],\n",
       "       [3.79962124e-04, 9.99620038e-01],\n",
       "       [7.46748183e-05, 9.99925325e-01],\n",
       "       [9.99875613e-01, 1.24386730e-04],\n",
       "       [9.97263331e-01, 2.73666907e-03],\n",
       "       [9.99963028e-01, 3.69715618e-05],\n",
       "       [9.99822395e-01, 1.77605485e-04],\n",
       "       [4.32335779e-02, 9.56766422e-01],\n",
       "       [9.82408941e-01, 1.75910586e-02],\n",
       "       [9.99935464e-01, 6.45357198e-05],\n",
       "       [5.00000000e-01, 5.00000000e-01],\n",
       "       [9.97138080e-01, 2.86191997e-03],\n",
       "       [9.99212624e-01, 7.87376050e-04],\n",
       "       [1.95743653e-03, 9.98042563e-01],\n",
       "       [9.99372067e-01, 6.27933115e-04],\n",
       "       [9.99875613e-01, 1.24386730e-04],\n",
       "       [9.99914015e-01, 8.59847704e-05],\n",
       "       [3.74522325e-04, 9.99625478e-01],\n",
       "       [9.99187101e-01, 8.12899351e-04],\n",
       "       [9.98610185e-01, 1.38981503e-03],\n",
       "       [9.99148280e-01, 8.51719906e-04],\n",
       "       [9.99778633e-01, 2.21366677e-04],\n",
       "       [9.99991214e-01, 8.78605358e-06],\n",
       "       [9.99960451e-01, 3.95485520e-05],\n",
       "       [9.99996600e-01, 3.39954685e-06],\n",
       "       [9.99706624e-01, 2.93376313e-04],\n",
       "       [9.99807646e-01, 1.92354025e-04],\n",
       "       [9.99876231e-01, 1.23768720e-04],\n",
       "       [9.98596245e-01, 1.40375514e-03],\n",
       "       [9.99670909e-01, 3.29091268e-04],\n",
       "       [5.00000000e-01, 5.00000000e-01],\n",
       "       [5.00000000e-01, 5.00000000e-01],\n",
       "       [9.99640494e-01, 3.59506441e-04],\n",
       "       [9.96502581e-01, 3.49741857e-03],\n",
       "       [9.94157144e-01, 5.84285575e-03],\n",
       "       [9.90540273e-01, 9.45972749e-03],\n",
       "       [9.99917040e-01, 8.29603566e-05],\n",
       "       [9.99958113e-01, 4.18871693e-05],\n",
       "       [9.99811345e-01, 1.88655389e-04],\n",
       "       [5.00000000e-01, 5.00000000e-01],\n",
       "       [9.98446293e-01, 1.55370711e-03],\n",
       "       [5.00000000e-01, 5.00000000e-01],\n",
       "       [9.98835705e-01, 1.16429512e-03],\n",
       "       [5.00000000e-01, 5.00000000e-01],\n",
       "       [9.99976180e-01, 2.38196682e-05],\n",
       "       [9.99976180e-01, 2.38196682e-05],\n",
       "       [9.99025459e-01, 9.74541246e-04],\n",
       "       [5.00000000e-01, 5.00000000e-01],\n",
       "       [5.00000000e-01, 5.00000000e-01],\n",
       "       [9.99667942e-01, 3.32058009e-04],\n",
       "       [5.00000000e-01, 5.00000000e-01],\n",
       "       [9.99989528e-01, 1.04724341e-05],\n",
       "       [9.99875613e-01, 1.24386730e-04],\n",
       "       [5.00000000e-01, 5.00000000e-01],\n",
       "       [9.99186434e-01, 8.13565722e-04],\n",
       "       [5.00000000e-01, 5.00000000e-01],\n",
       "       [9.88673826e-01, 1.13261742e-02],\n",
       "       [9.99706624e-01, 2.93376313e-04],\n",
       "       [6.10217260e-02, 9.38978274e-01],\n",
       "       [9.98565796e-01, 1.43420376e-03],\n",
       "       [5.00000000e-01, 5.00000000e-01],\n",
       "       [9.99563615e-01, 4.36385455e-04],\n",
       "       [5.00000000e-01, 5.00000000e-01],\n",
       "       [5.00000000e-01, 5.00000000e-01],\n",
       "       [5.00000000e-01, 5.00000000e-01],\n",
       "       [9.99776058e-01, 2.23941826e-04],\n",
       "       [9.99976180e-01, 2.38196682e-05],\n",
       "       [3.74522325e-04, 9.99625478e-01],\n",
       "       [9.99174517e-01, 8.25482736e-04],\n",
       "       [5.00000000e-01, 5.00000000e-01],\n",
       "       [5.00000000e-01, 5.00000000e-01],\n",
       "       [9.99996600e-01, 3.39954685e-06],\n",
       "       [5.00000000e-01, 5.00000000e-01],\n",
       "       [9.99947476e-01, 5.25243060e-05],\n",
       "       [9.99976180e-01, 2.38196682e-05],\n",
       "       [9.99948960e-01, 5.10399897e-05],\n",
       "       [9.94611749e-01, 5.38825120e-03],\n",
       "       [5.00000000e-01, 5.00000000e-01],\n",
       "       [5.00000000e-01, 5.00000000e-01],\n",
       "       [9.99948960e-01, 5.10399897e-05],\n",
       "       [9.99775948e-01, 2.24052017e-04],\n",
       "       [9.99976180e-01, 2.38196682e-05],\n",
       "       [9.99379126e-01, 6.20874197e-04],\n",
       "       [9.96502581e-01, 3.49741857e-03],\n",
       "       [9.99976180e-01, 2.38196682e-05],\n",
       "       [9.99216265e-01, 7.83734764e-04],\n",
       "       [5.00000000e-01, 5.00000000e-01],\n",
       "       [9.98829401e-01, 1.17059885e-03],\n",
       "       [5.00000000e-01, 5.00000000e-01],\n",
       "       [9.99443021e-01, 5.56979372e-04],\n",
       "       [9.99996814e-01, 3.18565916e-06],\n",
       "       [9.40772646e-05, 9.99905923e-01],\n",
       "       [9.99958113e-01, 4.18871693e-05],\n",
       "       [9.97629586e-03, 9.90023704e-01],\n",
       "       [5.00000000e-01, 5.00000000e-01],\n",
       "       [9.99686270e-01, 3.13730376e-04],\n",
       "       [9.99976180e-01, 2.38196682e-05],\n",
       "       [9.96154440e-01, 3.84556007e-03],\n",
       "       [9.99976180e-01, 2.38196682e-05],\n",
       "       [9.99787173e-01, 2.12826841e-04],\n",
       "       [9.93285310e-01, 6.71469045e-03],\n",
       "       [9.99770036e-01, 2.29964045e-04],\n",
       "       [9.93861930e-01, 6.13807013e-03],\n",
       "       [9.99881284e-01, 1.18715657e-04],\n",
       "       [9.99976180e-01, 2.38196682e-05],\n",
       "       [9.99996814e-01, 3.18565916e-06],\n",
       "       [5.00000000e-01, 5.00000000e-01],\n",
       "       [9.99981418e-01, 1.85818366e-05],\n",
       "       [9.90413000e-01, 9.58700021e-03],\n",
       "       [9.99976180e-01, 2.38196682e-05],\n",
       "       [5.00000000e-01, 5.00000000e-01],\n",
       "       [9.99991214e-01, 8.78605357e-06],\n",
       "       [9.99213118e-01, 7.86882033e-04],\n",
       "       [9.96092449e-01, 3.90755144e-03],\n",
       "       [9.99947057e-01, 5.29434955e-05],\n",
       "       [5.00000000e-01, 5.00000000e-01],\n",
       "       [9.99955170e-01, 4.48303607e-05],\n",
       "       [9.99865261e-01, 1.34738811e-04],\n",
       "       [5.00000000e-01, 5.00000000e-01],\n",
       "       [9.99963028e-01, 3.69715618e-05],\n",
       "       [5.00000000e-01, 5.00000000e-01],\n",
       "       [1.76286864e-04, 9.99823713e-01],\n",
       "       [1.90618658e-03, 9.98093813e-01],\n",
       "       [9.99576790e-01, 4.23209542e-04],\n",
       "       [9.99976180e-01, 2.38196682e-05],\n",
       "       [5.00000000e-01, 5.00000000e-01],\n",
       "       [5.00000000e-01, 5.00000000e-01],\n",
       "       [9.99817160e-01, 1.82840496e-04],\n",
       "       [9.96973590e-01, 3.02640976e-03],\n",
       "       [9.99946240e-01, 5.37602508e-05],\n",
       "       [5.00000000e-01, 5.00000000e-01],\n",
       "       [9.07419903e-04, 9.99092580e-01],\n",
       "       [9.99802360e-01, 1.97640412e-04],\n",
       "       [9.99991214e-01, 8.78605358e-06],\n",
       "       [9.99935464e-01, 6.45357198e-05],\n",
       "       [9.99996814e-01, 3.18565916e-06],\n",
       "       [5.00000000e-01, 5.00000000e-01],\n",
       "       [9.99113270e-01, 8.86730224e-04],\n",
       "       [5.00000000e-01, 5.00000000e-01],\n",
       "       [5.00000000e-01, 5.00000000e-01]])"
      ]
     },
     "execution_count": 286,
     "metadata": {},
     "output_type": "execute_result"
    }
   ],
   "source": [
    "proba_kdn"
   ]
  },
  {
   "cell_type": "code",
   "execution_count": 19,
   "id": "0cc40a00",
   "metadata": {},
   "outputs": [
    {
     "data": {
      "text/plain": [
       "0.9253333333333333"
      ]
     },
     "execution_count": 19,
     "metadata": {},
     "output_type": "execute_result"
    }
   ],
   "source": [
    "np.mean(predicted_label_kdn==y_test.reshape(-1))"
   ]
  },
  {
   "cell_type": "code",
   "execution_count": 20,
   "id": "9f0d15db",
   "metadata": {},
   "outputs": [
    {
     "data": {
      "text/plain": [
       "0.014454352441613586"
      ]
     },
     "execution_count": 20,
     "metadata": {},
     "output_type": "execute_result"
    }
   ],
   "source": [
    "get_ece(proba_kdn, predicted_label_kdn, y_test.reshape(-1))"
   ]
  },
  {
   "cell_type": "code",
   "execution_count": 21,
   "id": "71a8b0ee",
   "metadata": {},
   "outputs": [
    {
     "name": "stdout",
     "output_type": "stream",
     "text": [
      "50/94 [==============>...............] - ETA: 0s"
     ]
    },
    {
     "name": "stderr",
     "output_type": "stream",
     "text": [
      "2023-08-05 00:40:13.118006: W tensorflow/core/platform/profile_utils/cpu_utils.cc:128] Failed to get CPU frequency: 0 Hz\n",
      "2023-08-05 00:40:13.151876: I tensorflow/core/grappler/optimizers/custom_graph_optimizer_registry.cc:113] Plugin optimizer for device_type GPU is enabled.\n"
     ]
    },
    {
     "name": "stdout",
     "output_type": "stream",
     "text": [
      "94/94 [==============================] - 0s 2ms/step\n"
     ]
    }
   ],
   "source": [
    "proba_dn = model_kdn.network.predict(x_test)"
   ]
  },
  {
   "cell_type": "code",
   "execution_count": 22,
   "id": "5311d728",
   "metadata": {},
   "outputs": [
    {
     "data": {
      "text/plain": [
       "0.0031983357768464926"
      ]
     },
     "execution_count": 22,
     "metadata": {},
     "output_type": "execute_result"
    }
   ],
   "source": [
    "get_ece(proba_dn, np.argmax(proba_dn,axis=1), y_test.reshape(-1))"
   ]
  },
  {
   "cell_type": "code",
   "execution_count": 23,
   "id": "41defc47",
   "metadata": {},
   "outputs": [
    {
     "data": {
      "text/plain": [
       "0.014454352441613586"
      ]
     },
     "execution_count": 23,
     "metadata": {},
     "output_type": "execute_result"
    },
    {
     "data": {
      "image/png": "[encoded data removed]",
      "text/plain": [
       "<Figure size 1152x576 with 2 Axes>"
      ]
     },
     "metadata": {
      "needs_background": "light"
     },
     "output_type": "display_data"
    }
   ],
   "source": [
    "plot_reliability(proba_kdn, predicted_label_kdn, y_test.reshape(-1))\n"
   ]
  },
  {
   "cell_type": "code",
   "execution_count": 24,
   "id": "3e226f7e",
   "metadata": {},
   "outputs": [
    {
     "data": {
      "text/plain": [
       "0.0031983357768464926"
      ]
     },
     "execution_count": 24,
     "metadata": {},
     "output_type": "execute_result"
    },
    {
     "data": {
      "image/png": "[encoded data removed]",
      "text/plain": [
       "<Figure size 1152x576 with 2 Axes>"
      ]
     },
     "metadata": {
      "needs_background": "light"
     },
     "output_type": "display_data"
    }
   ],
   "source": [
    "plot_reliability(proba_dn, np.argmax(proba_dn,axis=1), y_test.reshape(-1))"
   ]
  },
  {
   "cell_type": "code",
   "execution_count": 283,
   "id": "b39003c2",
   "metadata": {},
   "outputs": [],
   "source": [
    "subtract_pixel_mean = True\n",
    "normalize = False\n",
    "(x_train, y_train), (x_test, y_test), trn_mean = get_data([0, 1])"
   ]
  },
  {
   "cell_type": "code",
   "execution_count": 190,
   "id": "7c9e786c",
   "metadata": {},
   "outputs": [],
   "source": [
    "subtract_pixel_mean = False\n",
    "normalize = False\n",
    "(x_train, y_train), (x_test, y_test), _= get_data([4, 5])"
   ]
  },
  {
   "cell_type": "code",
   "execution_count": 192,
   "id": "a6865c4a",
   "metadata": {},
   "outputs": [],
   "source": [
    "x_train -= trn_mean\n",
    "x_test -= trn_mean"
   ]
  },
  {
   "cell_type": "code",
   "execution_count": 187,
   "id": "303f7f4e",
   "metadata": {},
   "outputs": [],
   "source": [
    "model_kdn.global_bias = -1e9"
   ]
  },
  {
   "cell_type": "code",
   "execution_count": 194,
   "id": "577bbcf6",
   "metadata": {},
   "outputs": [
    {
     "data": {
      "text/plain": [
       "array([[9.99999976e-01, 2.41545662e-08],\n",
       "       [6.45148593e-08, 9.99999935e-01],\n",
       "       [1.00000000e+00, 2.10395450e-11],\n",
       "       [2.57673956e-11, 1.00000000e+00],\n",
       "       [5.00000000e-01, 5.00000000e-01],\n",
       "       [1.00000000e+00, 6.29252030e-11],\n",
       "       [1.35782003e-07, 9.99999864e-01],\n",
       "       [5.00000000e-01, 5.00000000e-01],\n",
       "       [4.05898542e-12, 1.00000000e+00],\n",
       "       [5.00000000e-01, 5.00000000e-01]])"
      ]
     },
     "execution_count": 194,
     "metadata": {},
     "output_type": "execute_result"
    }
   ],
   "source": [
    "model_kdn.predict_proba(x_test[:10], distance='Geodesic')"
   ]
  },
  {
   "cell_type": "code",
   "execution_count": 165,
   "id": "994b5091",
   "metadata": {},
   "outputs": [
    {
     "data": {
      "text/plain": [
       "array([1, 1, 1, 1, 1, 1, 1, 1, 1, 1, 1, 1, 1, 1, 1, 1, 1, 1, 1, 1, 1, 1,\n",
       "       1, 1, 1, 1, 1, 1, 1, 1])"
      ]
     },
     "execution_count": 165,
     "metadata": {},
     "output_type": "execute_result"
    }
   ],
   "source": [
    "y_test[1000:1030]"
   ]
  },
  {
   "cell_type": "code",
   "execution_count": 267,
   "id": "07f4ea2e",
   "metadata": {},
   "outputs": [
    {
     "name": "stderr",
     "output_type": "stream",
     "text": [
      "WARNING:matplotlib.image:Clipping input data to the valid range for imshow with RGB data ([0..1] for floats or [0..255] for integers).\n"
     ]
    },
    {
     "data": {
      "text/plain": [
       "<matplotlib.image.AxesImage at 0x3dda50190>"
      ]
     },
     "execution_count": 267,
     "metadata": {},
     "output_type": "execute_result"
    },
    {
     "data": {
      "image/png": "[encoded data removed]",
      "text/plain": [
       "<Figure size 432x288 with 1 Axes>"
      ]
     },
     "metadata": {
      "needs_background": "light"
     },
     "output_type": "display_data"
    }
   ],
   "source": [
    "plt.imshow(x_test[:1].reshape(32,32,3))"
   ]
  },
  {
   "cell_type": "code",
   "execution_count": 268,
   "id": "e50af7a8",
   "metadata": {},
   "outputs": [
    {
     "name": "stdout",
     "output_type": "stream",
     "text": [
      "1/1 [==============================] - 0s 47ms/step\n"
     ]
    },
    {
     "data": {
      "text/plain": [
       "array([[3.2105488e-10, 1.0000000e+00],\n",
       "       [3.2274530e-12, 1.0000000e+00],\n",
       "       [3.5409059e-13, 1.0000000e+00],\n",
       "       [4.4139972e-07, 9.9999952e-01],\n",
       "       [7.7945799e-08, 9.9999988e-01],\n",
       "       [6.1030828e-17, 1.0000000e+00],\n",
       "       [1.5473361e-04, 9.9984533e-01],\n",
       "       [1.3547129e-13, 1.0000000e+00],\n",
       "       [2.5455230e-12, 1.0000000e+00],\n",
       "       [6.5727107e-10, 1.0000000e+00],\n",
       "       [7.5683461e-15, 1.0000000e+00],\n",
       "       [5.4894003e-11, 1.0000000e+00],\n",
       "       [1.5605254e-17, 1.0000000e+00],\n",
       "       [9.4984554e-14, 1.0000000e+00],\n",
       "       [5.8763060e-12, 1.0000000e+00],\n",
       "       [4.9092180e-17, 1.0000000e+00],\n",
       "       [3.4413424e-16, 1.0000000e+00],\n",
       "       [3.3952689e-05, 9.9996603e-01],\n",
       "       [2.7814373e-10, 1.0000000e+00],\n",
       "       [1.3934039e-11, 1.0000000e+00],\n",
       "       [2.3190382e-13, 1.0000000e+00],\n",
       "       [1.7196068e-04, 9.9982804e-01],\n",
       "       [1.9994607e-07, 9.9999976e-01],\n",
       "       [5.3081855e-08, 1.0000000e+00],\n",
       "       [5.0574023e-08, 1.0000000e+00],\n",
       "       [5.4456089e-03, 9.9455440e-01],\n",
       "       [5.7079643e-11, 1.0000000e+00],\n",
       "       [1.7347982e-09, 1.0000000e+00],\n",
       "       [4.2346526e-11, 1.0000000e+00],\n",
       "       [8.4350759e-08, 9.9999988e-01]], dtype=float32)"
      ]
     },
     "execution_count": 268,
     "metadata": {},
     "output_type": "execute_result"
    }
   ],
   "source": [
    "model_kdn.network.predict(x_test[:30])"
   ]
  },
  {
   "cell_type": "code",
   "execution_count": 33,
   "id": "baad230e",
   "metadata": {},
   "outputs": [
    {
     "data": {
      "text/plain": [
       "{0: 0.3333333333333333, 1: 0.6666666666666666}"
      ]
     },
     "execution_count": 33,
     "metadata": {},
     "output_type": "execute_result"
    }
   ],
   "source": [
    "model_kdn.prior"
   ]
  },
  {
   "cell_type": "code",
   "execution_count": 37,
   "id": "1ff71110",
   "metadata": {},
   "outputs": [
    {
     "data": {
      "text/plain": [
       "(10000, 32, 32, 3)"
      ]
     },
     "execution_count": 37,
     "metadata": {},
     "output_type": "execute_result"
    }
   ],
   "source": [
    "x_train.shape"
   ]
  },
  {
   "cell_type": "code",
   "execution_count": 101,
   "id": "159a632e",
   "metadata": {},
   "outputs": [
    {
     "data": {
      "text/plain": [
       "[0.0,\n",
       " 0.0,\n",
       " 1.0000028813106665,\n",
       " 1.0000026389836585,\n",
       " 0.0,\n",
       " 1.0000002221020483,\n",
       " 0.0,\n",
       " 0.0,\n",
       " 0.0,\n",
       " 1.0000069015441073,\n",
       " 0.0,\n",
       " 0.0,\n",
       " 0.0,\n",
       " 0.0,\n",
       " 0.0,\n",
       " 1.0000246080072306,\n",
       " 0.0,\n",
       " 1.0000032818101126,\n",
       " 0.0,\n",
       " 0.0,\n",
       " 0.0,\n",
       " 0.0,\n",
       " 0.0,\n",
       " 0.0,\n",
       " 1.000497682845267,\n",
       " 1.0072050872415834,\n",
       " 0.0,\n",
       " 0.0,\n",
       " 1.0030404470786458,\n",
       " 0.0,\n",
       " 0.0,\n",
       " 0.0,\n",
       " 0.0,\n",
       " 0.0,\n",
       " 1.0000087489682852,\n",
       " 0.0,\n",
       " 0.0,\n",
       " 1.0000132367144867,\n",
       " 0.0,\n",
       " 1.0000217299122096,\n",
       " 1.000001708762132,\n",
       " 1.0001005512753889,\n",
       " 0.0,\n",
       " 0.0,\n",
       " 0.0,\n",
       " 1.0001280548773221,\n",
       " 1.0000319199447567,\n",
       " 1.0000015895011312,\n",
       " 0.0,\n",
       " 0.0,\n",
       " 1.000005969015782,\n",
       " 0.0,\n",
       " 0.0,\n",
       " 0.0,\n",
       " 0.0,\n",
       " 0.0,\n",
       " 0.0,\n",
       " 0.0,\n",
       " 1.0034526722199753,\n",
       " 0.0,\n",
       " 1.0002640088791994,\n",
       " 1.0000164818189676,\n",
       " 0.0,\n",
       " 1.0003692215533875,\n",
       " 1.0000002222802566,\n",
       " 0.0,\n",
       " 0.0,\n",
       " 0.0,\n",
       " 1.0000027492178687,\n",
       " 0.0,\n",
       " 0.0,\n",
       " 1.0025179709815375,\n",
       " 0.0,\n",
       " 0.0,\n",
       " 0.0,\n",
       " 1.0000002080665884,\n",
       " 1.0009936051272692,\n",
       " 1.0001361946966223,\n",
       " 1.0001404472269926,\n",
       " 1.0003732702449197,\n",
       " 1.0000004859570717,\n",
       " 0.0,\n",
       " 0.0,\n",
       " 1.0001064536287891,\n",
       " 1.0001220486468352,\n",
       " 0.0,\n",
       " 1.000067167878365,\n",
       " 0.0,\n",
       " 1.000001390971301,\n",
       " 0.0,\n",
       " 0.0,\n",
       " 1.000022886242902,\n",
       " 1.0000011213937265,\n",
       " 1.0000144761955776,\n",
       " 1.0000049952458194,\n",
       " 1.0000418699435192,\n",
       " 1.0003299785023285,\n",
       " 0.0,\n",
       " 0.0,\n",
       " 1.0001967245249157,\n",
       " 1.0000027195447376,\n",
       " 1.0000095005591876,\n",
       " 1.0000049683846253,\n",
       " 0.0,\n",
       " 1.0002699400246757,\n",
       " 1.00000716011912,\n",
       " 0.0,\n",
       " 0.0,\n",
       " 1.0000006998110798,\n",
       " 1.0000659608207827,\n",
       " 1.000044508598144,\n",
       " 0.0,\n",
       " 0.0,\n",
       " 0.0,\n",
       " 1.0003373597521676,\n",
       " 0.0,\n",
       " 1.000058632630633,\n",
       " 0.0,\n",
       " 0.0,\n",
       " 1.000000189697242,\n",
       " 0.0,\n",
       " 0.0,\n",
       " 1.000000314450391,\n",
       " 1.0045307884947507,\n",
       " 0.0,\n",
       " 1.0000264735463096,\n",
       " 0.0,\n",
       " 0.0,\n",
       " 0.0,\n",
       " 0.0,\n",
       " 0.0,\n",
       " 0.0,\n",
       " 1.0002576213024787,\n",
       " 0.0,\n",
       " 1.0002214150613562,\n",
       " 1.0002741736718204,\n",
       " 1.000087331449869,\n",
       " 0.0,\n",
       " 1.0000001729413692,\n",
       " 1.0000079016267889,\n",
       " 0.0,\n",
       " 1.0000921086271353,\n",
       " 1.000301687724442,\n",
       " 1.0000181227313802,\n",
       " 0.0,\n",
       " 1.0000996735929466,\n",
       " 1.0002393413226778,\n",
       " 1.000249202038573,\n",
       " 0.0,\n",
       " 1.0003654790373415,\n",
       " 0.0,\n",
       " 1.0018197052586149,\n",
       " 1.0004737383554183,\n",
       " 1.0002778494182012,\n",
       " 0.0,\n",
       " 1.0000003172085508,\n",
       " 1.0000001606544504,\n",
       " 1.0001126218779355,\n",
       " 0.0,\n",
       " 1.0000030458396647,\n",
       " 1.0005434511478883,\n",
       " 1.00014798826378,\n",
       " 0.0,\n",
       " 0.0,\n",
       " 1.0009336989290927,\n",
       " 1.0000137538119043,\n",
       " 0.0,\n",
       " 1.0068862771175842,\n",
       " 0.0,\n",
       " 1.0000735207955531,\n",
       " 0.0,\n",
       " 1.000665055066209,\n",
       " 1.0000131889092025,\n",
       " 1.0001528310298855,\n",
       " 1.0000001162208478,\n",
       " 0.0,\n",
       " 1.001142383089832,\n",
       " 0.0,\n",
       " 0.0,\n",
       " 0.0,\n",
       " 0.0,\n",
       " 0.0,\n",
       " 0.0,\n",
       " 1.0000001893774355,\n",
       " 0.0,\n",
       " 0.0,\n",
       " 1.0006856111090063,\n",
       " 1.002385307824487,\n",
       " 1.0000643213824478,\n",
       " 0.0,\n",
       " 0.0,\n",
       " 0.0,\n",
       " 0.0,\n",
       " 1.0000119052902592,\n",
       " 1.0000119566873162,\n",
       " 1.0000179054315712,\n",
       " 1.000329874292346,\n",
       " 0.0,\n",
       " 1.0000001145326487,\n",
       " 0.0,\n",
       " 1.0000559757545875,\n",
       " 1.000000782043078,\n",
       " 0.0,\n",
       " 0.0,\n",
       " 0.0,\n",
       " 1.0000019396870066,\n",
       " 1.002186195933376,\n",
       " 0.0,\n",
       " 0.0,\n",
       " 0.0,\n",
       " 1.0000206821308302,\n",
       " 1.000029743347709,\n",
       " 0.0,\n",
       " 0.0,\n",
       " 0.0,\n",
       " 1.0000011411523917,\n",
       " 0.0,\n",
       " 0.0,\n",
       " 0.0,\n",
       " 0.0,\n",
       " 1.000010145625653,\n",
       " 1.0000802414809267,\n",
       " 0.0,\n",
       " 0.0,\n",
       " 0.0,\n",
       " 0.0,\n",
       " 1.0000578064936538,\n",
       " 0.0,\n",
       " 0.0,\n",
       " 1.0000038744989082,\n",
       " 0.0,\n",
       " 1.000006859062144,\n",
       " 1.0000296964124635,\n",
       " 1.0005486231421277,\n",
       " 1.0000826174271855,\n",
       " 1.0000189564391855,\n",
       " 0.0,\n",
       " 1.0001591129477032,\n",
       " 0.0,\n",
       " 1.0000020623686248,\n",
       " 1.0042603647510946,\n",
       " 0.0,\n",
       " 1.0047836961168914,\n",
       " 1.0000010140303752,\n",
       " 1.0000003044674146,\n",
       " 1.0000081549182542,\n",
       " 1.0000013949876365,\n",
       " 1.0000108879112093,\n",
       " 1.00012905785199,\n",
       " 1.0000661473465773,\n",
       " 1.0000372574148582,\n",
       " 1.0000012827405513,\n",
       " 1.0000127754859856,\n",
       " 0.0,\n",
       " 0.0,\n",
       " 1.0087736992818115,\n",
       " 1.004885333926386,\n",
       " 0.0,\n",
       " 1.000004962277038,\n",
       " 1.0000705171611417,\n",
       " 1.0000080432206386,\n",
       " 1.0002335076954625,\n",
       " 0.0,\n",
       " 0.0,\n",
       " 1.0002359445571034,\n",
       " 0.0,\n",
       " 0.0,\n",
       " 0.0,\n",
       " 1.0000008992993434,\n",
       " 1.000145797669557,\n",
       " 0.0,\n",
       " 1.0000850745679895,\n",
       " 1.0000747195590913,\n",
       " 1.0000012450676405,\n",
       " 1.0013788270850394,\n",
       " 0.0,\n",
       " 0.0,\n",
       " 1.0016136261654214,\n",
       " 0.0,\n",
       " 0.0,\n",
       " 1.000130120447131,\n",
       " 1.0000087633584764,\n",
       " 0.0,\n",
       " 0.0,\n",
       " 1.0000276753386605,\n",
       " 0.0,\n",
       " 0.0,\n",
       " 0.0,\n",
       " 0.0,\n",
       " 1.000600569199981,\n",
       " 1.0001223980948155,\n",
       " 1.0037518930681362,\n",
       " 1.0000956822386737,\n",
       " 0.0,\n",
       " 0.0,\n",
       " 1.0000002924885705,\n",
       " 0.0,\n",
       " 1.000000419043589,\n",
       " 0.0,\n",
       " 1.0000005848561502,\n",
       " 1.000058991598212,\n",
       " 1.0000487209899314,\n",
       " 0.0,\n",
       " 1.0000018228537804,\n",
       " 1.0000004674376726,\n",
       " 1.0056501417360675,\n",
       " 0.0,\n",
       " 0.0,\n",
       " 1.000006156847221,\n",
       " 1.0003614253473336,\n",
       " 0.0,\n",
       " 1.0049661242003913,\n",
       " 1.0002318620405315,\n",
       " 1.0000062899988968,\n",
       " 0.0,\n",
       " 0.0,\n",
       " 0.0,\n",
       " 0.0,\n",
       " 0.0,\n",
       " 1.000003610957848,\n",
       " 0.0,\n",
       " 0.0,\n",
       " 0.0,\n",
       " 0.0,\n",
       " 0.0,\n",
       " 0.0,\n",
       " 1.0000675125393723,\n",
       " 1.0000316313615365,\n",
       " 1.0000051087550055,\n",
       " 1.0000004225558519,\n",
       " 0.0,\n",
       " 1.0004834979775583,\n",
       " 0.0,\n",
       " 0.0,\n",
       " 1.000108545793667,\n",
       " 0.0,\n",
       " 0.0,\n",
       " 1.0000502956031554,\n",
       " 1.000001615387225,\n",
       " 0.0,\n",
       " 1.0000644637148028,\n",
       " 0.0,\n",
       " 0.0,\n",
       " 1.0012530990846182,\n",
       " 1.0002419708753412,\n",
       " 1.0003141600741206,\n",
       " 0.0,\n",
       " 1.0000002203227267,\n",
       " 0.0,\n",
       " 0.0,\n",
       " 1.0012078374521554,\n",
       " 0.0,\n",
       " 1.0000010591515183,\n",
       " 1.0001901625226963,\n",
       " 1.0006868200154697,\n",
       " 1.0000008854333295,\n",
       " 0.0,\n",
       " 0.0,\n",
       " 0.0,\n",
       " 1.0002410760877036,\n",
       " 0.0,\n",
       " 1.0000003602779055,\n",
       " 1.000003870487091,\n",
       " 1.0000750532627778,\n",
       " 0.0,\n",
       " 0.0,\n",
       " 0.0,\n",
       " 1.0002578118007148,\n",
       " 1.0001225529458875,\n",
       " 0.0,\n",
       " 1.0000487187124156,\n",
       " 1.0002639477501414,\n",
       " 0.0,\n",
       " 1.000000544545989,\n",
       " 1.0035139663207882,\n",
       " 1.000023006004619,\n",
       " 1.000025240886751,\n",
       " 1.0000613980474375,\n",
       " 0.0,\n",
       " 0.0,\n",
       " 1.0000040646757549,\n",
       " 1.0000025704320512,\n",
       " 1.000001093551385,\n",
       " 0.0,\n",
       " 1.0000183883248055,\n",
       " 1.000396317556224,\n",
       " 1.0000208452805304,\n",
       " 0.0,\n",
       " 1.0000936392088207,\n",
       " 1.0000113159935962,\n",
       " 0.0,\n",
       " 1.000005716724257,\n",
       " 1.0000705240600694,\n",
       " 0.0,\n",
       " 1.000684317790486,\n",
       " 1.0000092345329925,\n",
       " 1.0000190300496188,\n",
       " 1.0000005899133757,\n",
       " 0.0,\n",
       " 1.0000873031212987,\n",
       " 0.0,\n",
       " 1.0085541158430673,\n",
       " 1.0000041569777551,\n",
       " 0.0,\n",
       " 0.0,\n",
       " 0.0,\n",
       " 0.0,\n",
       " 0.0,\n",
       " 1.0001129299398395,\n",
       " 1.0000001468321733,\n",
       " 1.0000470967444108,\n",
       " 0.0,\n",
       " 0.0,\n",
       " 0.0,\n",
       " 0.0,\n",
       " 0.0,\n",
       " 1.0000759450364023,\n",
       " 0.0,\n",
       " 1.0003736546784172,\n",
       " 0.0,\n",
       " 1.0380954585908597,\n",
       " 0.0,\n",
       " 0.0,\n",
       " 1.0000537167162808,\n",
       " 1.0002454143437973,\n",
       " 1.000005508400133,\n",
       " 0.0,\n",
       " 0.0,\n",
       " 0.0,\n",
       " 0.0,\n",
       " 0.0,\n",
       " 1.0000216044446024,\n",
       " 0.0,\n",
       " 0.0,\n",
       " 1.0000005929478486,\n",
       " 0.0,\n",
       " 1.0000012277998152,\n",
       " 1.000049568058874,\n",
       " 0.0,\n",
       " 0.0,\n",
       " 1.0276250384894323,\n",
       " 0.0,\n",
       " 1.000004231789132,\n",
       " 1.0001584693808625,\n",
       " 0.0,\n",
       " 1.0010889532571163,\n",
       " 0.0,\n",
       " 0.0,\n",
       " 0.0,\n",
       " 1.000001937358112,\n",
       " 0.0,\n",
       " 0.0,\n",
       " 0.0,\n",
       " 0.0,\n",
       " 1.0000006367575531,\n",
       " 0.0,\n",
       " 1.0000768872434493,\n",
       " 0.0,\n",
       " 1.0015412631361207,\n",
       " 1.0023737872143006,\n",
       " 1.0000013614905343,\n",
       " 1.0001037374460222,\n",
       " 1.0000009544329815,\n",
       " 0.0,\n",
       " 1.0000020535899974,\n",
       " 0.0,\n",
       " 0.0,\n",
       " 1.0020442545901618,\n",
       " 0.0,\n",
       " 1.0002881231277727,\n",
       " 1.0004149895987287,\n",
       " 1.000001263411775,\n",
       " 1.0000086604220266,\n",
       " 1.0000264060892916,\n",
       " 0.0,\n",
       " 1.0000471221853322,\n",
       " 1.0000004373786398,\n",
       " 0.0,\n",
       " 1.0001683352040625,\n",
       " 0.0,\n",
       " 0.0,\n",
       " 1.0000506773881148,\n",
       " 0.0,\n",
       " 1.000365983056201,\n",
       " 1.0000127703260882,\n",
       " 1.0002043611741154,\n",
       " 0.0,\n",
       " 0.0,\n",
       " 1.0005426057268998,\n",
       " 1.0801123156191104,\n",
       " 0.0,\n",
       " 0.0,\n",
       " 1.0000806065321286,\n",
       " 1.0002156909739959,\n",
       " 1.0000051082187849,\n",
       " 0.0,\n",
       " 1.000000370283335,\n",
       " 0.0,\n",
       " 1.0000729759670313,\n",
       " 1.000096020360737,\n",
       " 0.0,\n",
       " 0.0,\n",
       " 0.0,\n",
       " 0.0,\n",
       " 1.0000949903649141,\n",
       " 1.000119784076264,\n",
       " 0.0,\n",
       " 0.0,\n",
       " 0.0,\n",
       " 0.0,\n",
       " 0.0,\n",
       " 1.0002218243701626,\n",
       " 0.0,\n",
       " 1.0000006687619183,\n",
       " 0.0,\n",
       " 1.0015449496137367,\n",
       " 1.0000028299752435,\n",
       " 0.0,\n",
       " 0.0,\n",
       " 1.00002704254575,\n",
       " 1.0000352527011565,\n",
       " 1.0000192760627533,\n",
       " 1.0000298270203514,\n",
       " 0.0,\n",
       " 1.0000006700515913,\n",
       " 1.000127363019052,\n",
       " 0.0,\n",
       " 1.00160301314519,\n",
       " 1.000072961812314,\n",
       " 1.0004238867592692,\n",
       " 1.0001022602283154,\n",
       " 1.000001296683597,\n",
       " 1.0007485971062204,\n",
       " 1.0020677031391105,\n",
       " 1.0011894844807054,\n",
       " 1.0015927773564322,\n",
       " 0.0,\n",
       " 0.0,\n",
       " 0.0,\n",
       " 0.0,\n",
       " 0.0,\n",
       " 0.0,\n",
       " 0.0,\n",
       " 0.0,\n",
       " 0.0,\n",
       " 1.005404795935905,\n",
       " 0.0,\n",
       " 1.0093208184406464,\n",
       " 0.0,\n",
       " 0.0,\n",
       " 0.0,\n",
       " 1.00020965265539,\n",
       " 1.0684776144940773,\n",
       " 1.0003060021760728,\n",
       " 0.0,\n",
       " 0.0,\n",
       " 0.0,\n",
       " 0.0,\n",
       " 0.0,\n",
       " 0.0,\n",
       " 1.0000669566275355,\n",
       " 0.0,\n",
       " 0.0,\n",
       " 1.0000396329052637,\n",
       " 1.0004596089904536,\n",
       " 1.0000902086667371,\n",
       " 0.0,\n",
       " 1.0000113071559547,\n",
       " 1.000001526755291,\n",
       " 0.0,\n",
       " 1.0000031391605204,\n",
       " 0.0,\n",
       " 1.0000002361315812,\n",
       " 0.0,\n",
       " 0.0,\n",
       " 1.000003571364345,\n",
       " 1.0000047241133743,\n",
       " 1.0000054464097274,\n",
       " 1.0000001184496967,\n",
       " 0.0,\n",
       " 1.0000620899439483,\n",
       " 1.000007024109009,\n",
       " 1.0000319707389207,\n",
       " 1.000001430784618,\n",
       " 0.0,\n",
       " 1.0000012696344291,\n",
       " 0.0,\n",
       " 1.00001011902413,\n",
       " 0.0,\n",
       " 1.000224065162858,\n",
       " 0.0,\n",
       " 0.0,\n",
       " 1.0000022787778267,\n",
       " 1.003014779761757,\n",
       " 1.000004538813755,\n",
       " 1.000179908760311,\n",
       " 0.0,\n",
       " 0.0,\n",
       " 1.0001215755163457,\n",
       " 0.0,\n",
       " 1.0012672941171123,\n",
       " 0.0,\n",
       " 1.0000210712783195,\n",
       " 1.0001849814949342,\n",
       " 0.0,\n",
       " 0.0,\n",
       " 1.000015976950932,\n",
       " 1.0009754043905208,\n",
       " 0.0,\n",
       " 1.0000509207932613,\n",
       " 1.000008963777824,\n",
       " 0.0,\n",
       " 1.000066536810584,\n",
       " 0.0,\n",
       " 1.000046989339132,\n",
       " 1.0000220831840134,\n",
       " 0.0,\n",
       " 1.0000022424664186,\n",
       " 0.0,\n",
       " 1.0030551163654313,\n",
       " 1.0008749034985067,\n",
       " 1.0000034639038318,\n",
       " 1.0000098832062252,\n",
       " 0.0,\n",
       " 1.0000024543551531,\n",
       " 1.0000512462610418,\n",
       " 0.0,\n",
       " 0.0,\n",
       " 0.0,\n",
       " 0.0,\n",
       " 1.0000169484629453,\n",
       " 0.0,\n",
       " 1.0052722900027393,\n",
       " 0.0,\n",
       " 1.0001367428389758,\n",
       " 0.0,\n",
       " 1.0008435454062368,\n",
       " 1.000000249889201,\n",
       " 1.0000502089739691,\n",
       " 0.0,\n",
       " 1.0005511794417365,\n",
       " 0.0,\n",
       " 1.0000132103016057,\n",
       " 1.0000012729094208,\n",
       " 1.0000044957690624,\n",
       " 1.0000038337632264,\n",
       " 1.0000090289128991,\n",
       " 1.0000001426184384,\n",
       " 1.0000231766260264,\n",
       " 0.0,\n",
       " 1.0060744770040229,\n",
       " 1.0004505991735773,\n",
       " 1.0000275289584761,\n",
       " 1.0000001328036048,\n",
       " 0.0,\n",
       " 1.0000091010924383,\n",
       " 0.0,\n",
       " 0.0,\n",
       " 1.000677510331193,\n",
       " 0.0,\n",
       " 0.0,\n",
       " 0.0,\n",
       " 0.0,\n",
       " 0.0,\n",
       " 0.0,\n",
       " 1.0002503883415044,\n",
       " 1.0000007319430488,\n",
       " 1.0001899018908216,\n",
       " 0.0,\n",
       " 0.0,\n",
       " 1.000001793616041,\n",
       " 0.0,\n",
       " 1.00007375488303,\n",
       " 0.0,\n",
       " 0.0,\n",
       " 0.0,\n",
       " 0.0,\n",
       " 1.0008494105330883,\n",
       " 0.0,\n",
       " 1.0000128994735271,\n",
       " 1.0000497221753248,\n",
       " 1.0360353850389925,\n",
       " 0.0,\n",
       " 1.0000090155948012,\n",
       " 1.0000089256506255,\n",
       " 1.0000065287590771,\n",
       " 1.0000104655164774,\n",
       " 1.0001605721014473,\n",
       " 0.0,\n",
       " 0.0,\n",
       " 1.0000587113790016,\n",
       " 1.0000278075645848,\n",
       " 1.0000005730880122,\n",
       " 0.0,\n",
       " 1.0000047733519948,\n",
       " 1.0000018809225266,\n",
       " 0.0,\n",
       " 0.0,\n",
       " 1.0000282840747612,\n",
       " 1.0000764045379986,\n",
       " 0.0,\n",
       " 1.0000465025904364,\n",
       " 1.0000164378304177,\n",
       " 1.000209048870547,\n",
       " 1.0002530915350776,\n",
       " 1.0013421572436159,\n",
       " 1.0001074422276983,\n",
       " 1.0000014120568546,\n",
       " 0.0,\n",
       " 1.000066046255108,\n",
       " 0.0,\n",
       " 0.0,\n",
       " 1.0000072976805425,\n",
       " 0.0,\n",
       " 0.0,\n",
       " 0.0,\n",
       " 0.0,\n",
       " 0.0,\n",
       " 1.0018471433621488,\n",
       " 0.0,\n",
       " 1.0000669039668921,\n",
       " 0.0,\n",
       " 0.0,\n",
       " 0.0,\n",
       " 1.001234848462156,\n",
       " 0.0,\n",
       " 0.0,\n",
       " 1.003712228337307,\n",
       " 0.0,\n",
       " 1.0002123055629677,\n",
       " 1.0000095780239866,\n",
       " 0.0,\n",
       " 1.0000005357493147,\n",
       " 1.0000802358305132,\n",
       " 0.0,\n",
       " 1.0000031139119128,\n",
       " 1.0000020151232256,\n",
       " 0.0,\n",
       " 1.0000106129390431,\n",
       " 1.000101543091315,\n",
       " 1.0000069578419997,\n",
       " 0.0,\n",
       " 1.0000014261895631,\n",
       " 0.0,\n",
       " 1.0555140452796048,\n",
       " 0.0,\n",
       " 0.0,\n",
       " 0.0,\n",
       " 0.0,\n",
       " 0.0,\n",
       " 1.0000004045349982,\n",
       " 1.0006598100590467,\n",
       " 1.0001566023559263,\n",
       " 0.0,\n",
       " 1.000045060872587,\n",
       " 1.0000009376061214,\n",
       " 1.0011481727618887,\n",
       " 1.014031928441789,\n",
       " 0.0,\n",
       " 1.0000066542138615,\n",
       " 0.0,\n",
       " 0.0,\n",
       " 0.0,\n",
       " 0.0,\n",
       " 0.0,\n",
       " 1.0000255139071001,\n",
       " 0.0,\n",
       " 1.0004490287931807,\n",
       " 1.0001553715211011,\n",
       " 0.0,\n",
       " 0.0,\n",
       " 1.0000025911553352,\n",
       " 0.0,\n",
       " 1.0000044946636086,\n",
       " 0.0,\n",
       " 1.0000443661107787,\n",
       " 1.0071126285932224,\n",
       " 1.0000073357836938,\n",
       " 1.0000700722915308,\n",
       " 1.0000045452991733,\n",
       " 0.0,\n",
       " 1.000802750294537,\n",
       " 1.0000009019782503,\n",
       " 0.0,\n",
       " 0.0,\n",
       " 0.0,\n",
       " 0.0,\n",
       " 1.000137345544107,\n",
       " 0.0,\n",
       " 1.0001149842177457,\n",
       " 1.0000774845666276,\n",
       " 1.0000065189181042,\n",
       " 1.0001748835350008,\n",
       " 0.0,\n",
       " 0.0,\n",
       " 1.0000006405109243,\n",
       " 0.0,\n",
       " 1.0000017239189107,\n",
       " 0.0,\n",
       " 1.0028921597360787,\n",
       " 0.0,\n",
       " 1.0000034497268322,\n",
       " 1.0000260901549833,\n",
       " 0.0,\n",
       " 1.0001558432509718,\n",
       " 1.000382832218822,\n",
       " 0.0,\n",
       " 1.0000145433395509,\n",
       " 0.0,\n",
       " 0.0,\n",
       " 0.0,\n",
       " 1.0000002100716432,\n",
       " 1.0000640225663704,\n",
       " 1.000461931064532,\n",
       " 1.000009215691856,\n",
       " 1.0000007037597,\n",
       " 1.0003817187142308,\n",
       " 1.0000015400933286,\n",
       " 0.0,\n",
       " 1.000099652831051,\n",
       " 1.0000019904704263,\n",
       " 1.0001228363730132,\n",
       " 0.0,\n",
       " 0.0,\n",
       " 0.0,\n",
       " 0.0,\n",
       " 1.0092364424728397,\n",
       " 1.0000065619600145,\n",
       " 1.0001290349227567,\n",
       " 0.0,\n",
       " 1.0006491666253283,\n",
       " 0.0,\n",
       " 0.0,\n",
       " 0.0,\n",
       " 0.0,\n",
       " 1.0000127628172706,\n",
       " 1.0000032268380357,\n",
       " 0.0,\n",
       " 0.0,\n",
       " 1.000093052199907,\n",
       " 0.0,\n",
       " 1.0094212513391043,\n",
       " 1.0000051782825825,\n",
       " 1.0000235509369677,\n",
       " 0.0,\n",
       " 0.0,\n",
       " 0.0,\n",
       " 0.0,\n",
       " 0.0,\n",
       " 0.0,\n",
       " 1.0000889985698143,\n",
       " 1.0000042550270243,\n",
       " 1.0000094789654324,\n",
       " 1.0008801573899817,\n",
       " 1.0000004968964136,\n",
       " 0.0,\n",
       " 0.0,\n",
       " 1.0000003387809147,\n",
       " 0.0,\n",
       " 1.0000013052063308,\n",
       " 0.0,\n",
       " 1.0002881149285074,\n",
       " 1.0001989019945616,\n",
       " 0.0,\n",
       " 1.001645068259808,\n",
       " 1.0000032343853043,\n",
       " 0.0,\n",
       " 0.0,\n",
       " 1.0000014355059232,\n",
       " 1.0011639349423034,\n",
       " 1.000001071521773,\n",
       " 1.0047268766818638,\n",
       " 0.0,\n",
       " 0.0,\n",
       " 1.0002320240440807,\n",
       " 0.0,\n",
       " 0.0,\n",
       " 1.0003558029676725,\n",
       " 0.0,\n",
       " 1.0001963153036861,\n",
       " 1.0000051951727484,\n",
       " 1.00144222634897,\n",
       " 1.000001471218699,\n",
       " 0.0,\n",
       " 0.0,\n",
       " 0.0,\n",
       " 1.0000111605198243,\n",
       " 1.0001431465504003,\n",
       " 1.0001687287153032,\n",
       " 1.0010828469390407,\n",
       " 0.0,\n",
       " 0.0,\n",
       " 0.0,\n",
       " 1.000000995752805,\n",
       " 1.0000466529287466,\n",
       " 0.0,\n",
       " 0.0,\n",
       " 0.0,\n",
       " 0.0,\n",
       " 1.095119355138438,\n",
       " 0.0,\n",
       " 1.000727394412725,\n",
       " 1.000003074005287,\n",
       " 0.0,\n",
       " 1.0000237694129628,\n",
       " 0.0,\n",
       " 0.0,\n",
       " 1.0000064181447659,\n",
       " 1.0011087039194881,\n",
       " 1.0003522795337914,\n",
       " 0.0,\n",
       " 1.0002192483612973,\n",
       " 1.0000064019570558,\n",
       " 1.0000024860733332,\n",
       " 1.0000318198760199,\n",
       " 0.0,\n",
       " 1.0000194597387808,\n",
       " 1.0000018015849532,\n",
       " 0.0,\n",
       " 0.0,\n",
       " 1.0033770547694794,\n",
       " 0.0,\n",
       " 1.000088171449266,\n",
       " 0.0,\n",
       " 1.0000011097902397,\n",
       " 1.0000039154656313,\n",
       " 0.0,\n",
       " 1.0000099612365179,\n",
       " 0.0,\n",
       " 1.0000003315729409,\n",
       " 1.0000000150838595,\n",
       " 0.0,\n",
       " 1.00000188055074,\n",
       " 0.0,\n",
       " 0.0,\n",
       " 1.0000060590253108,\n",
       " 1.0001187536389557,\n",
       " 0.0,\n",
       " 1.0000124855256112,\n",
       " 1.0003231974208648,\n",
       " 1.0000462128218044,\n",
       " 0.0,\n",
       " 0.0,\n",
       " 1.0000033309073262,\n",
       " 1.0021988656008192,\n",
       " 1.0000100042809683,\n",
       " 0.0,\n",
       " 1.0000002794595135,\n",
       " 0.0,\n",
       " 1.0000166661440102,\n",
       " 1.0001913452694597,\n",
       " 1.0079699032424423,\n",
       " 0.0,\n",
       " 0.0,\n",
       " 0.0,\n",
       " 0.0,\n",
       " 1.0000001183399199,\n",
       " 0.0,\n",
       " 1.000076927592808,\n",
       " 0.0,\n",
       " 1.0000131604084654,\n",
       " 0.0,\n",
       " 0.0,\n",
       " 1.0000002497678804,\n",
       " 0.0,\n",
       " 1.000000627567474,\n",
       " 1.0020832661056895,\n",
       " 0.0,\n",
       " 1.0043988598510045,\n",
       " 0.0,\n",
       " 1.0000065712223907,\n",
       " 1.0000035576055943,\n",
       " 1.001187578464974,\n",
       " 1.0007493206825113,\n",
       " 0.0,\n",
       " 1.000000522326153,\n",
       " 0.0,\n",
       " 0.0,\n",
       " 1.0072049540908024,\n",
       " 0.0,\n",
       " 1.0000120911620523,\n",
       " 1.0000071044548007,\n",
       " 1.0001050307821293,\n",
       " 0.0,\n",
       " 0.0,\n",
       " 1.0000002986300702,\n",
       " 0.0,\n",
       " 1.0000044530843146,\n",
       " 0.0,\n",
       " 1.000399972978204,\n",
       " 0.0,\n",
       " 0.0,\n",
       " 0.0,\n",
       " 0.0,\n",
       " 1.0079007343670845,\n",
       " 0.0,\n",
       " 1.0051382401598927,\n",
       " 0.0,\n",
       " 1.0000024040614282,\n",
       " 0.0,\n",
       " ...]"
      ]
     },
     "execution_count": 101,
     "metadata": {},
     "output_type": "execute_result"
    }
   ],
   "source": [
    "model_kdn.polytope_cardinality[0]"
   ]
  },
  {
   "cell_type": "code",
   "execution_count": 97,
   "id": "a03580eb",
   "metadata": {},
   "outputs": [
    {
     "data": {
      "text/plain": [
       "[2.0000012691770084,\n",
       " 2.0000312974482495,\n",
       " 0.0,\n",
       " 0.0,\n",
       " 2.0000159122656616,\n",
       " 0.0,\n",
       " 2.0000063161448294,\n",
       " 2.0000085515582,\n",
       " 2.0000333750650685,\n",
       " 0.0,\n",
       " 2.0000028500521307,\n",
       " 2.0000012171652397,\n",
       " 2.000018812392672,\n",
       " 2.0000012776035763,\n",
       " 2.000034948892416,\n",
       " 0.0,\n",
       " 2.0000007551452117,\n",
       " 0.0,\n",
       " 2.001110601332014,\n",
       " 2.000050881907028,\n",
       " 2.000003629062608,\n",
       " 2.000093464672618,\n",
       " 2.00008958123303,\n",
       " 2.0000012209099016,\n",
       " 0.0,\n",
       " 0.0,\n",
       " 2.068173338701909,\n",
       " 2.0000120977661777,\n",
       " 0.0,\n",
       " 2.001580756895478,\n",
       " 2.000028331079736,\n",
       " 2.0000012082507825,\n",
       " 2.0000028128275185,\n",
       " 2.000093791285859,\n",
       " 0.0,\n",
       " 2.0000099512723817,\n",
       " 2.0000018553452956,\n",
       " 0.0,\n",
       " 2.000023097024576,\n",
       " 0.0,\n",
       " 0.0,\n",
       " 0.0,\n",
       " 2.0000167417769923,\n",
       " 2.0108446031078877,\n",
       " 2.000006319333199,\n",
       " 0.0,\n",
       " 0.0,\n",
       " 0.0,\n",
       " 2.000018856557009,\n",
       " 2.000000414229603,\n",
       " 0.0,\n",
       " 2.000001182169073,\n",
       " 2.0000074816894835,\n",
       " 2.003599075175404,\n",
       " 2.0000157303978083,\n",
       " 2.0000172928484523,\n",
       " 2.0000752149494985,\n",
       " 2.000001992718333,\n",
       " 0.0,\n",
       " 2.0000171838931844,\n",
       " 0.0,\n",
       " 0.0,\n",
       " 2.0000037042181917,\n",
       " 0.0,\n",
       " 0.0,\n",
       " 2.0000034474551103,\n",
       " 2.0000078725422177,\n",
       " 2.000003652373993,\n",
       " 0.0,\n",
       " 2.000001187100125,\n",
       " 2.000018479749962,\n",
       " 0.0,\n",
       " 2.0052569190633585,\n",
       " 2.000032684091369,\n",
       " 2.000004748017679,\n",
       " 0.0,\n",
       " 0.0,\n",
       " 0.0,\n",
       " 0.0,\n",
       " 0.0,\n",
       " 0.0,\n",
       " 2.0000701938004144,\n",
       " 2.0000375309718694,\n",
       " 0.0,\n",
       " 0.0,\n",
       " 2.000000891379315,\n",
       " 0.0,\n",
       " 2.000022765961626,\n",
       " 0.0,\n",
       " 2.0000010019991934,\n",
       " 2.000011047643739,\n",
       " 0.0,\n",
       " 0.0,\n",
       " 0.0,\n",
       " 0.0,\n",
       " 0.0,\n",
       " 0.0,\n",
       " 2.000047106421252,\n",
       " 2.000011147342956,\n",
       " 0.0,\n",
       " 0.0,\n",
       " 0.0,\n",
       " 0.0,\n",
       " 2.000003034898581,\n",
       " 0.0,\n",
       " 0.0,\n",
       " 2.0000279483836185,\n",
       " 2.0000050203895765,\n",
       " 0.0,\n",
       " 0.0,\n",
       " 0.0,\n",
       " 2.0000021792384177,\n",
       " 2.0000113839922404,\n",
       " 2.0000007989292485,\n",
       " 0.0,\n",
       " 2.00000303592156,\n",
       " 0.0,\n",
       " 2.0000266213477524,\n",
       " 2.000051238544946,\n",
       " 0.0,\n",
       " 2.0000013533785195,\n",
       " 2.013981633875209,\n",
       " 0.0,\n",
       " 0.0,\n",
       " 2.0000070118987945,\n",
       " 0.0,\n",
       " 2.0000188870223234,\n",
       " 2.0000010931553804,\n",
       " 2.000047028752355,\n",
       " 2.0000256131661,\n",
       " 2.0000040384783118,\n",
       " 2.000003454001368,\n",
       " 0.0,\n",
       " 2.0000016327937993,\n",
       " 0.0,\n",
       " 0.0,\n",
       " 0.0,\n",
       " 2.000001666049129,\n",
       " 0.0,\n",
       " 0.0,\n",
       " 2.0000011324109233,\n",
       " 0.0,\n",
       " 0.0,\n",
       " 0.0,\n",
       " 2.0000499625850523,\n",
       " 0.0,\n",
       " 0.0,\n",
       " 0.0,\n",
       " 2.000153315927835,\n",
       " 0.0,\n",
       " 2.0000280611819425,\n",
       " 0.0,\n",
       " 0.0,\n",
       " 0.0,\n",
       " 2.000005235164028,\n",
       " 0.0,\n",
       " 0.0,\n",
       " 0.0,\n",
       " 2.000006221801482,\n",
       " 0.0,\n",
       " 0.0,\n",
       " 0.0,\n",
       " 2.0000420801270233,\n",
       " 2.0000831056837804,\n",
       " 0.0,\n",
       " 0.0,\n",
       " 2.0000005958349285,\n",
       " 0.0,\n",
       " 2.0000084878243953,\n",
       " 0.0,\n",
       " 2.0000338022285575,\n",
       " 0.0,\n",
       " 0.0,\n",
       " 0.0,\n",
       " 0.0,\n",
       " 2.0000029454273425,\n",
       " 0.0,\n",
       " 2.0000918696579664,\n",
       " 2.0000252821324835,\n",
       " 2.000027228521946,\n",
       " 2.0000041964469664,\n",
       " 2.0000009102631564,\n",
       " 2.000002242181751,\n",
       " 0.0,\n",
       " 2.0000016733783146,\n",
       " 2.000016039514319,\n",
       " 0.0,\n",
       " 0.0,\n",
       " 0.0,\n",
       " 2.000005200475426,\n",
       " 2.0000105353902944,\n",
       " 2.000010673283858,\n",
       " 2.000000655969585,\n",
       " 0.0,\n",
       " 0.0,\n",
       " 0.0,\n",
       " 0.0,\n",
       " 2.0000031419854727,\n",
       " 0.0,\n",
       " 2.000010059400572,\n",
       " 0.0,\n",
       " 0.0,\n",
       " 2.0000050526743656,\n",
       " 2.0000037104095956,\n",
       " 2.0000113814057316,\n",
       " 0.0,\n",
       " 0.0,\n",
       " 2.0000532009118857,\n",
       " 2.000007131950778,\n",
       " 2.0000048674849786,\n",
       " 0.0,\n",
       " 0.0,\n",
       " 2.0014428678351788,\n",
       " 2.000013240712643,\n",
       " 2.000135165832299,\n",
       " 0.0,\n",
       " 2.000001314000996,\n",
       " 2.0000031161623686,\n",
       " 2.000001403533658,\n",
       " 2.0000008602885395,\n",
       " 0.0,\n",
       " 0.0,\n",
       " 2.0000032613341645,\n",
       " 2.0000314938881667,\n",
       " 2.0000012050228757,\n",
       " 2.0001791697178235,\n",
       " 0.0,\n",
       " 2.0000029619944413,\n",
       " 2.000007174618675,\n",
       " 0.0,\n",
       " 2.0000042539930534,\n",
       " 0.0,\n",
       " 0.0,\n",
       " 0.0,\n",
       " 0.0,\n",
       " 0.0,\n",
       " 2.0000221020175237,\n",
       " 0.0,\n",
       " 2.0000054285385445,\n",
       " 0.0,\n",
       " 0.0,\n",
       " 2.000001854000438,\n",
       " 0.0,\n",
       " 0.0,\n",
       " 0.0,\n",
       " 0.0,\n",
       " 0.0,\n",
       " 0.0,\n",
       " 0.0,\n",
       " 0.0,\n",
       " 0.0,\n",
       " 0.0,\n",
       " 0.0,\n",
       " 2.00000705129911,\n",
       " 2.0000009723644125,\n",
       " 0.0,\n",
       " 0.0,\n",
       " 2.000001568886061,\n",
       " 0.0,\n",
       " 0.0,\n",
       " 0.0,\n",
       " 0.0,\n",
       " 2.0000048836145905,\n",
       " 2.0000585932279193,\n",
       " 0.0,\n",
       " 2.000002383449893,\n",
       " 2.0000017491881987,\n",
       " 2.0000057414271213,\n",
       " 0.0,\n",
       " 0.0,\n",
       " 2.000002890757954,\n",
       " 0.0,\n",
       " 0.0,\n",
       " 0.0,\n",
       " 0.0,\n",
       " 2.0000028217154973,\n",
       " 2.0000031895104504,\n",
       " 0.0,\n",
       " 2.000000388312091,\n",
       " 2.000003686124073,\n",
       " 0.0,\n",
       " 0.0,\n",
       " 2.0000237049565848,\n",
       " 2.000382695381292,\n",
       " 0.0,\n",
       " 2.000031396809613,\n",
       " 2.055369325476343,\n",
       " 2.0000416908726972,\n",
       " 2.000000832128847,\n",
       " 0.0,\n",
       " 0.0,\n",
       " 0.0,\n",
       " 0.0,\n",
       " 2.0000192772566945,\n",
       " 2.064859430868911,\n",
       " 0.0,\n",
       " 2.000049636488006,\n",
       " 0.0,\n",
       " 2.000001054569645,\n",
       " 0.0,\n",
       " 0.0,\n",
       " 0.0,\n",
       " 2.000009437818025,\n",
       " 0.0,\n",
       " 0.0,\n",
       " 0.0,\n",
       " 2.000026568358676,\n",
       " 2.000007757402654,\n",
       " 0.0,\n",
       " 0.0,\n",
       " 2.000005365800506,\n",
       " 0.0,\n",
       " 0.0,\n",
       " 0.0,\n",
       " 2.002999247715952,\n",
       " 2.0000001251085346,\n",
       " 2.0000008681359054,\n",
       " 2.000001249215717,\n",
       " 2.0000350237782016,\n",
       " 0.0,\n",
       " 2.000004923883912,\n",
       " 2.0000009484133794,\n",
       " 2.0000014566363027,\n",
       " 2.0000098139635663,\n",
       " 2.000008432135538,\n",
       " 2.0000020305489876,\n",
       " 0.0,\n",
       " 0.0,\n",
       " 0.0,\n",
       " 0.0,\n",
       " 2.0000159086790132,\n",
       " 0.0,\n",
       " 2.0000014281759513,\n",
       " 2.0000064163904554,\n",
       " 0.0,\n",
       " 2.0000010964072166,\n",
       " 2.000003916451593,\n",
       " 0.0,\n",
       " 0.0,\n",
       " 2.000030758942112,\n",
       " 0.0,\n",
       " 2.0000477843651714,\n",
       " 2.0000033906802694,\n",
       " 0.0,\n",
       " 0.0,\n",
       " 0.0,\n",
       " 2.0389984081994643,\n",
       " 0.0,\n",
       " 2.000006120813641,\n",
       " 2.000012206858304,\n",
       " 0.0,\n",
       " 2.0000093751918597,\n",
       " 0.0,\n",
       " 0.0,\n",
       " 0.0,\n",
       " 0.0,\n",
       " 2.000012223637511,\n",
       " 2.0000052351937536,\n",
       " 2.0000096633345583,\n",
       " 0.0,\n",
       " 2.0000179645588734,\n",
       " 0.0,\n",
       " 0.0,\n",
       " 0.0,\n",
       " 2.000010598008881,\n",
       " 2.0001366806494074,\n",
       " 2.0000025582673446,\n",
       " 0.0,\n",
       " 0.0,\n",
       " 2.000001037433618,\n",
       " 0.0,\n",
       " 0.0,\n",
       " 2.000003227296048,\n",
       " 0.0,\n",
       " 0.0,\n",
       " 0.0,\n",
       " 0.0,\n",
       " 0.0,\n",
       " 2.0653276957060775,\n",
       " 2.0000006730885898,\n",
       " 0.0,\n",
       " 0.0,\n",
       " 0.0,\n",
       " 2.0000008147655386,\n",
       " 0.0,\n",
       " 0.0,\n",
       " 0.0,\n",
       " 2.0000032745553704,\n",
       " 0.0,\n",
       " 0.0,\n",
       " 2.0000085144794584,\n",
       " 0.0,\n",
       " 0.0,\n",
       " 2.0000088615189,\n",
       " 0.0,\n",
       " 0.0,\n",
       " 0.0,\n",
       " 0.0,\n",
       " 2.00000172213138,\n",
       " 0.0,\n",
       " 2.0000172348201746,\n",
       " 0.0,\n",
       " 0.0,\n",
       " 2.000013361747278,\n",
       " 2.0000016993209773,\n",
       " 2.000016946534332,\n",
       " 2.0000058414630084,\n",
       " 2.0000035355513144,\n",
       " 0.0,\n",
       " 0.0,\n",
       " 0.0,\n",
       " 2.000018046696313,\n",
       " 2.0000071065187774,\n",
       " 2.0000030953332306,\n",
       " 2.000010715609712,\n",
       " 2.000004225972998,\n",
       " 0.0,\n",
       " 2.000002106614813,\n",
       " 0.0,\n",
       " 2.0000017830105343,\n",
       " 0.0,\n",
       " 2.000018285666035,\n",
       " 2.0000031875153104,\n",
       " 0.0,\n",
       " 0.0,\n",
       " 0.0,\n",
       " 2.0000023616916054,\n",
       " 2.0000036773323977,\n",
       " 2.0000097656158426,\n",
       " 2.000002476619719,\n",
       " 2.0000016193299266,\n",
       " 0.0,\n",
       " 2.0000164513028174,\n",
       " 2.0000073132472473,\n",
       " 0.0,\n",
       " 2.0000457370057254,\n",
       " 0.0,\n",
       " 0.0,\n",
       " 2.000002888741967,\n",
       " 2.000002704000269,\n",
       " 0.0,\n",
       " 2.0000015408666934,\n",
       " 0.0,\n",
       " 0.0,\n",
       " 2.0319978989303813,\n",
       " 0.0,\n",
       " 2.000002454884531,\n",
       " 2.000002638495406,\n",
       " 2.0000007290179105,\n",
       " 0.0,\n",
       " 2.000005151051612,\n",
       " 2.000001308576981,\n",
       " 2.0000015710807584,\n",
       " 2.000022588361286,\n",
       " 0.0,\n",
       " 2.000141414019768,\n",
       " 0.0,\n",
       " 2.000209540597266,\n",
       " 0.0,\n",
       " 0.0,\n",
       " 0.0,\n",
       " 0.0,\n",
       " 0.0,\n",
       " 2.0112252026324446,\n",
       " 0.0,\n",
       " 2.000010278921578,\n",
       " 2.0000057418633337,\n",
       " 0.0,\n",
       " 2.0000139040613836,\n",
       " 0.0,\n",
       " 0.0,\n",
       " 0.0,\n",
       " 0.0,\n",
       " 0.0,\n",
       " 2.0000412325074954,\n",
       " 0.0,\n",
       " 0.0,\n",
       " 2.0000023845943313,\n",
       " 0.0,\n",
       " 2.000003979287244,\n",
       " 2.0000954979814884,\n",
       " 0.0,\n",
       " 2.000016866514948,\n",
       " 0.0,\n",
       " 0.0,\n",
       " 0.0,\n",
       " 2.000046121099143,\n",
       " 2.0000061782319523,\n",
       " 0.0,\n",
       " 0.0,\n",
       " 2.0000010630593015,\n",
       " 2.000024065612654,\n",
       " 0.0,\n",
       " 0.0,\n",
       " 0.0,\n",
       " 2.000000651408997,\n",
       " 0.0,\n",
       " 2.000001592148441,\n",
       " 0.0,\n",
       " 0.0,\n",
       " 2.0000075652693456,\n",
       " 2.000018646104673,\n",
       " 2.000014517882376,\n",
       " 2.000004651955416,\n",
       " 0.0,\n",
       " 0.0,\n",
       " 2.0000033041837306,\n",
       " 2.0000061110270533,\n",
       " 2.0000005477926392,\n",
       " 2.0000346721351674,\n",
       " 2.000002714215206,\n",
       " 0.0,\n",
       " 2.00004330185304,\n",
       " 0.0,\n",
       " 2.000018018989272,\n",
       " 0.0,\n",
       " 0.0,\n",
       " 2.0000779912038915,\n",
       " 2.000005508912871,\n",
       " 0.0,\n",
       " 0.0,\n",
       " 0.0,\n",
       " 0.0,\n",
       " 2.000003258240086,\n",
       " 0.0,\n",
       " 0.0,\n",
       " 2.00001037983349,\n",
       " 0.0,\n",
       " 0.0,\n",
       " 0.0,\n",
       " 0.0,\n",
       " 0.0,\n",
       " 0.0,\n",
       " 0.0,\n",
       " 0.0,\n",
       " 0.0,\n",
       " 2.00009058560091,\n",
       " 2.0000015398692716,\n",
       " 2.000001987389031,\n",
       " 2.000005840673509,\n",
       " 2.0000032341116696,\n",
       " 2.000003237408059,\n",
       " 2.000000505324738,\n",
       " 2.0000047630058257,\n",
       " 2.0000022461984077,\n",
       " 0.0,\n",
       " 2.0000643703194827,\n",
       " 0.0,\n",
       " 2.000005594417381,\n",
       " 2.000001905336331,\n",
       " 2.000002903046249,\n",
       " 0.0,\n",
       " 0.0,\n",
       " 0.0,\n",
       " 2.000013817566162,\n",
       " 2.0000211355024726,\n",
       " 2.0000729147801177,\n",
       " 2.000005972919683,\n",
       " 2.0000237479687084,\n",
       " 2.0108445250941056,\n",
       " 0.0,\n",
       " 2.0000023425984783,\n",
       " 2.0000042223553467,\n",
       " 0.0,\n",
       " 0.0,\n",
       " 0.0,\n",
       " 2.0000049616013653,\n",
       " 0.0,\n",
       " 0.0,\n",
       " 2.0000149147449786,\n",
       " 0.0,\n",
       " 2.0000175738884334,\n",
       " 0.0,\n",
       " 2.000011587393825,\n",
       " 2.000122609722381,\n",
       " 0.0,\n",
       " 0.0,\n",
       " 0.0,\n",
       " 0.0,\n",
       " 2.000002213372155,\n",
       " 0.0,\n",
       " 0.0,\n",
       " 0.0,\n",
       " 0.0,\n",
       " 2.0000008250967936,\n",
       " 0.0,\n",
       " 2.000000917805461,\n",
       " 0.0,\n",
       " 2.0000190070058377,\n",
       " 0.0,\n",
       " 2.000012292274043,\n",
       " 2.0000030717816,\n",
       " 0.0,\n",
       " 0.0,\n",
       " 0.0,\n",
       " 0.0,\n",
       " 2.0000658811483136,\n",
       " 2.0000164508104645,\n",
       " 0.0,\n",
       " 2.0000016072707063,\n",
       " 0.0,\n",
       " 2.0000018529142434,\n",
       " 0.0,\n",
       " 0.0,\n",
       " 2.000003307477713,\n",
       " 2.0000010542362068,\n",
       " 0.0,\n",
       " 0.0,\n",
       " 2.0000111865941728,\n",
       " 0.0,\n",
       " 0.0,\n",
       " 2.000007194124648,\n",
       " 0.0,\n",
       " 2.000039801532319,\n",
       " 0.0,\n",
       " 0.0,\n",
       " 2.0000017199166398,\n",
       " 0.0,\n",
       " 2.000035864429792,\n",
       " 0.0,\n",
       " 0.0,\n",
       " 0.0,\n",
       " 0.0,\n",
       " 2.000004013831082,\n",
       " 0.0,\n",
       " 0.0,\n",
       " 2.000014962870341,\n",
       " 2.0000804682888544,\n",
       " 2.000001158206244,\n",
       " 2.0000040510177377,\n",
       " 0.0,\n",
       " 2.0000052357692026,\n",
       " 0.0,\n",
       " 2.000002444115209,\n",
       " 0.0,\n",
       " 2.003806789265104,\n",
       " 0.0,\n",
       " 0.0,\n",
       " 0.0,\n",
       " 2.000003021607984,\n",
       " 0.0,\n",
       " 2.0000060598439076,\n",
       " 0.0,\n",
       " 0.0,\n",
       " 0.0,\n",
       " 0.0,\n",
       " 0.0,\n",
       " 0.0,\n",
       " 0.0,\n",
       " 2.000006201551364,\n",
       " 0.0,\n",
       " 0.0,\n",
       " 0.0,\n",
       " 0.0,\n",
       " 2.0000371757550957,\n",
       " 0.0,\n",
       " 2.0000008366567825,\n",
       " 2.000000145180211,\n",
       " 0.0,\n",
       " 2.0000088632321025,\n",
       " 2.0000375984018404,\n",
       " 2.0000448031566984,\n",
       " 2.000004428669522,\n",
       " 2.0000018567125974,\n",
       " 2.000019251592747,\n",
       " 0.0,\n",
       " 0.0,\n",
       " 0.0,\n",
       " 2.0000020085166876,\n",
       " 2.000011288941457,\n",
       " 0.0,\n",
       " 2.000104069681952,\n",
       " 0.0,\n",
       " 2.0000059598411286,\n",
       " 2.000009410571322,\n",
       " 2.0000014186469506,\n",
       " 2.000006910188176,\n",
       " 0.0,\n",
       " 2.0000394552722383,\n",
       " 0.0,\n",
       " 0.0,\n",
       " 0.0,\n",
       " 2.0000040945355466,\n",
       " 0.0,\n",
       " 0.0,\n",
       " 0.0,\n",
       " 0.0,\n",
       " 0.0,\n",
       " 2.0140785266490795,\n",
       " 2.0000041743688173,\n",
       " 0.0,\n",
       " 0.0,\n",
       " 0.0,\n",
       " 2.000012920717884,\n",
       " 0.0,\n",
       " 0.0,\n",
       " 2.0000029765990623,\n",
       " 2.0000424157169614,\n",
       " 0.0,\n",
       " 0.0,\n",
       " 2.00002644211042,\n",
       " 0.0,\n",
       " 0.0,\n",
       " 0.0,\n",
       " 0.0,\n",
       " 0.0,\n",
       " 0.0,\n",
       " 0.0,\n",
       " 2.0176971673116415,\n",
       " 0.0,\n",
       " 2.0000314171359976,\n",
       " 2.0000480126251268,\n",
       " 0.0,\n",
       " 2.0000102461903824,\n",
       " 2.0000217572916785,\n",
       " 2.000004791678433,\n",
       " 2.0000636538754812,\n",
       " 2.000161689565724,\n",
       " 0.0,\n",
       " 2.000006873180588,\n",
       " 0.0,\n",
       " 2.0000101574422278,\n",
       " 2.0000231399541377,\n",
       " 2.000002170361964,\n",
       " 0.0,\n",
       " 2.000256254906613,\n",
       " 2.0000017674731723,\n",
       " 0.0,\n",
       " 2.0000016349051792,\n",
       " 0.0,\n",
       " 0.0,\n",
       " 2.0000031332982844,\n",
       " 0.0,\n",
       " 0.0,\n",
       " 2.000001245897056,\n",
       " 0.0,\n",
       " 0.0,\n",
       " 2.0000005771870617,\n",
       " 0.0,\n",
       " 0.0,\n",
       " 0.0,\n",
       " 2.000119844261318,\n",
       " 0.0,\n",
       " 2.0000379664176497,\n",
       " 0.0,\n",
       " 2.0156801463483487,\n",
       " 2.0000249283929956,\n",
       " 2.0000109375322643,\n",
       " 2.000000651290079,\n",
       " 2.000001349846886,\n",
       " 0.0,\n",
       " 0.0,\n",
       " 0.0,\n",
       " 2.000002570854389,\n",
       " 0.0,\n",
       " 0.0,\n",
       " 0.0,\n",
       " 0.0,\n",
       " 2.0000969316179558,\n",
       " 0.0,\n",
       " 2.0000057528142805,\n",
       " 2.0000006613791785,\n",
       " 2.00000304439093,\n",
       " 2.000044967625981,\n",
       " 2.0000053834354,\n",
       " 0.0,\n",
       " 2.0000024007190267,\n",
       " 0.0,\n",
       " 0.0,\n",
       " 2.0000006993638024,\n",
       " 2.000002304565601,\n",
       " 0.0,\n",
       " 2.0000103644592047,\n",
       " 0.0,\n",
       " 2.000005663911307,\n",
       " 0.0,\n",
       " 0.0,\n",
       " 0.0,\n",
       " 0.0,\n",
       " 0.0,\n",
       " 2.00007380059481,\n",
       " 0.0,\n",
       " 0.0,\n",
       " 2.000401847509835,\n",
       " 2.000027559490796,\n",
       " 2.0001839761602556,\n",
       " 2.0001365779661677,\n",
       " 0.0,\n",
       " 2.00001348399336,\n",
       " 0.0,\n",
       " 0.0,\n",
       " 0.0,\n",
       " 0.0,\n",
       " 2.000032255428447,\n",
       " 2.0000020424113965,\n",
       " 0.0,\n",
       " 2.000008584465217,\n",
       " 0.0,\n",
       " 2.000098811063748,\n",
       " 0.0,\n",
       " 2.0000009430225356,\n",
       " 0.0,\n",
       " 0.0,\n",
       " 2.0000024738071756,\n",
       " 0.0,\n",
       " 0.0,\n",
       " 2.0000104232096603,\n",
       " 0.0,\n",
       " 2.0000256677155925,\n",
       " 2.000050652358995,\n",
       " 2.000003537996441,\n",
       " 0.0,\n",
       " 0.0,\n",
       " 0.0,\n",
       " 0.0,\n",
       " 0.0,\n",
       " 0.0,\n",
       " 0.0,\n",
       " 2.000002948820675,\n",
       " 0.0,\n",
       " 0.0,\n",
       " 0.0,\n",
       " 2.000009049748704,\n",
       " 2.0000105271985245,\n",
       " 2.0000003814730425,\n",
       " 2.0000009354558017,\n",
       " 0.0,\n",
       " 0.0,\n",
       " 0.0,\n",
       " 2.000008954919795,\n",
       " 0.0,\n",
       " 2.0000267090647994,\n",
       " 2.000000851107052,\n",
       " 2.0000015770274833,\n",
       " 2.000006575466914,\n",
       " 0.0,\n",
       " 0.0,\n",
       " 2.000019687796825,\n",
       " 2.000002138247163,\n",
       " 0.0,\n",
       " 2.0000009664693965,\n",
       " 0.0,\n",
       " 0.0,\n",
       " 0.0,\n",
       " 2.00000779728465,\n",
       " 2.0000003975392584,\n",
       " 2.0000085336025446,\n",
       " 2.0000054063169226,\n",
       " 2.000082189294046,\n",
       " 2.000384104738902,\n",
       " 0.0,\n",
       " 0.0,\n",
       " 0.0,\n",
       " 0.0,\n",
       " 0.0,\n",
       " 2.000002647619094,\n",
       " 2.0000025955757694,\n",
       " 0.0,\n",
       " 2.0008506535216357,\n",
       " 0.0,\n",
       " 2.003618639513587,\n",
       " 0.0,\n",
       " 0.0,\n",
       " 2.0000033154246575,\n",
       " 0.0,\n",
       " 0.0,\n",
       " 2.0000072691465993,\n",
       " 2.0000028946841364,\n",
       " 0.0,\n",
       " 0.0,\n",
       " 0.0,\n",
       " 0.0,\n",
       " 2.000007078922457,\n",
       " 2.0000249480062293,\n",
       " 0.0,\n",
       " 2.0000044149592164,\n",
       " 2.0000146663232288,\n",
       " 0.0,\n",
       " 2.000502540679649,\n",
       " 0.0,\n",
       " 0.0,\n",
       " 0.0,\n",
       " 0.0,\n",
       " 2.000024270274426,\n",
       " 2.000001508161504,\n",
       " 2.0000097114936666,\n",
       " 0.0,\n",
       " 0.0,\n",
       " 0.0,\n",
       " 0.0,\n",
       " 2.0020866856660264,\n",
       " 2.0000021729831845,\n",
       " 2.0000058894102604,\n",
       " 0.0,\n",
       " 0.0,\n",
       " 2.0000579297042385,\n",
       " 2.0000021041890657,\n",
       " 2.000006583732419,\n",
       " 2.0000014182689263,\n",
       " 0.0,\n",
       " 2.000005094725347,\n",
       " 0.0,\n",
       " 0.0,\n",
       " 2.000025108590158,\n",
       " 0.0,\n",
       " 2.0000027956180078,\n",
       " 2.0000671681271682,\n",
       " 0.0,\n",
       " 0.0,\n",
       " 0.0,\n",
       " 2.0000146386937314,\n",
       " 0.0,\n",
       " 0.0,\n",
       " 0.0,\n",
       " 0.0,\n",
       " 2.000018514380928,\n",
       " 0.0,\n",
       " 0.0,\n",
       " 2.000002232690271,\n",
       " 2.0000748277921967,\n",
       " 0.0,\n",
       " 2.0000027394765856,\n",
       " 0.0,\n",
       " 2.0000055973760347,\n",
       " 0.0,\n",
       " 0.0,\n",
       " 2.000000737171859,\n",
       " 0.0,\n",
       " 2.000080112106123,\n",
       " 0.0,\n",
       " 0.0,\n",
       " 2.0000034318387345,\n",
       " 0.0,\n",
       " 2.0000026881744035,\n",
       " 2.000028168323549,\n",
       " 0.0,\n",
       " 0.0,\n",
       " 2.0000016196323718,\n",
       " 0.0,\n",
       " 0.0,\n",
       " 0.0,\n",
       " 2.0000090415957086,\n",
       " 2.0000017838677806,\n",
       " 0.0,\n",
       " 0.0,\n",
       " 0.0,\n",
       " 2.0000422866092666,\n",
       " 0.0,\n",
       " 2.000136810900126,\n",
       " 0.0,\n",
       " 0.0,\n",
       " 0.0,\n",
       " 2.000000777538271,\n",
       " 2.000003346394011,\n",
       " 2.00000391853413,\n",
       " 2.0000037461034808,\n",
       " 0.0,\n",
       " 2.000001256334937,\n",
       " 0.0,\n",
       " 2.0000307599021245,\n",
       " 0.0,\n",
       " 2.000001081088922,\n",
       " 2.000008782411091,\n",
       " 0.0,\n",
       " 2.0000094079122954,\n",
       " 0.0,\n",
       " 0.0,\n",
       " 2.0000206962629288,\n",
       " 0.0,\n",
       " 2.000004989870739,\n",
       " 0.0,\n",
       " 0.0,\n",
       " 0.0,\n",
       " 0.0,\n",
       " 2.000961212200373,\n",
       " 0.0,\n",
       " 2.0000013592282144,\n",
       " 2.0000044902653933,\n",
       " 0.0,\n",
       " 2.000061439134574,\n",
       " 0.0,\n",
       " 0.0,\n",
       " 0.0,\n",
       " 2.0000009420361855,\n",
       " 2.0000594342360487,\n",
       " 0.0,\n",
       " 2.000002065348539,\n",
       " 0.0,\n",
       " 2.0000025381730158,\n",
       " 0.0,\n",
       " 2.000021408042038,\n",
       " 2.0000038240011935,\n",
       " 2.0000963452122624,\n",
       " 2.000010855291581,\n",
       " 0.0,\n",
       " 2.0000727538496887,\n",
       " 0.0,\n",
       " 2.0000014823838814,\n",
       " 0.0,\n",
       " 2.000002136930826,\n",
       " ...]"
      ]
     },
     "execution_count": 97,
     "metadata": {},
     "output_type": "execute_result"
    }
   ],
   "source": [
    "model_kdn.polytope_cardinality[1]"
   ]
  },
  {
   "cell_type": "code",
   "execution_count": 160,
   "id": "3127d0d9",
   "metadata": {},
   "outputs": [
    {
     "ename": "EOFError",
     "evalue": "Ran out of input",
     "output_type": "error",
     "traceback": [
      "\u001b[0;31m---------------------------------------------------------------------------\u001b[0m",
      "\u001b[0;31mEOFError\u001b[0m                                  Traceback (most recent call last)",
      "Input \u001b[0;32mIn [160]\u001b[0m, in \u001b[0;36m<cell line: 1>\u001b[0;34m()\u001b[0m\n\u001b[1;32m      1\u001b[0m \u001b[38;5;28;01mwith\u001b[39;00m \u001b[38;5;28mopen\u001b[39m(\u001b[38;5;124m'\u001b[39m\u001b[38;5;124m/Users/jayantadey/kdg/benchmarks/cifar10_experiments/kdn_models/cifar10_model_0_0.pickle\u001b[39m\u001b[38;5;124m'\u001b[39m, \u001b[38;5;124m'\u001b[39m\u001b[38;5;124mrb\u001b[39m\u001b[38;5;124m'\u001b[39m) \u001b[38;5;28;01mas\u001b[39;00m f:\n\u001b[0;32m----> 2\u001b[0m             model_kdn \u001b[38;5;241m=\u001b[39m \u001b[43mpickle\u001b[49m\u001b[38;5;241;43m.\u001b[39;49m\u001b[43mload\u001b[49m\u001b[43m(\u001b[49m\u001b[43mf\u001b[49m\u001b[43m)\u001b[49m\n",
      "\u001b[0;31mEOFError\u001b[0m: Ran out of input"
     ]
    }
   ],
   "source": [
    "with open('/Users/jayantadey/kdg/benchmarks/cifar10_experiments/kdn_models/cifar10_model_0_0.pickle', 'rb') as f:\n",
    "            model_kdn = pickle.load(f)"
   ]
  },
  {
   "cell_type": "code",
   "execution_count": 104,
   "id": "acdaaafd",
   "metadata": {},
   "outputs": [],
   "source": [
    "(x_train_, y_train_), (x_test_, y_test_) = keras.datasets.cifar100.load_data()"
   ]
  },
  {
   "cell_type": "code",
   "execution_count": 107,
   "id": "42713c8b",
   "metadata": {},
   "outputs": [],
   "source": [
    "x_test_ = x_test_.astype('float32') "
   ]
  },
  {
   "cell_type": "code",
   "execution_count": 108,
   "id": "ce3c4456",
   "metadata": {},
   "outputs": [
    {
     "data": {
      "text/plain": [
       "array([[1., 0.],\n",
       "       [1., 0.],\n",
       "       [1., 0.],\n",
       "       [1., 0.],\n",
       "       [1., 0.],\n",
       "       [1., 0.],\n",
       "       [1., 0.],\n",
       "       [1., 0.],\n",
       "       [1., 0.],\n",
       "       [1., 0.],\n",
       "       [1., 0.],\n",
       "       [1., 0.],\n",
       "       [1., 0.],\n",
       "       [1., 0.],\n",
       "       [1., 0.],\n",
       "       [1., 0.],\n",
       "       [1., 0.],\n",
       "       [1., 0.],\n",
       "       [1., 0.],\n",
       "       [1., 0.],\n",
       "       [1., 0.],\n",
       "       [1., 0.],\n",
       "       [1., 0.],\n",
       "       [1., 0.],\n",
       "       [1., 0.],\n",
       "       [1., 0.],\n",
       "       [1., 0.],\n",
       "       [1., 0.],\n",
       "       [1., 0.],\n",
       "       [1., 0.]])"
      ]
     },
     "execution_count": 108,
     "metadata": {},
     "output_type": "execute_result"
    }
   ],
   "source": [
    "model_kdn.predict_proba(x_test_[:30], distance='Geodesic')"
   ]
  },
  {
   "cell_type": "code",
   "execution_count": 196,
   "id": "2725ae6e",
   "metadata": {},
   "outputs": [
    {
     "data": {
      "text/plain": [
       "{'Task 0': array([[9.99999776e-01, 2.23500088e-07],\n",
       "        [1.00000000e+00, 1.18259938e-10],\n",
       "        [9.99999832e-01, 1.68117272e-07],\n",
       "        ...,\n",
       "        [7.75822607e-06, 9.99992242e-01],\n",
       "        [5.84862796e-08, 9.99999942e-01],\n",
       "        [5.00000000e-01, 5.00000000e-01]])}"
      ]
     },
     "execution_count": 196,
     "metadata": {},
     "output_type": "execute_result"
    }
   ],
   "source": [
    "proba_kdn"
   ]
  },
  {
   "cell_type": "code",
   "execution_count": 197,
   "id": "c7a00413",
   "metadata": {},
   "outputs": [
    {
     "name": "stdout",
     "output_type": "stream",
     "text": [
      "Task  0  MMC  0.9732335520867337\n",
      "Task  0  MMC  0.99316853\n"
     ]
    }
   ],
   "source": [
    "print('Task ', task_, ' MMC ', np.mean(np.max(proba_kdn['Task '+str(task_)], axis=1)))\n",
    "print('Task ', task_, ' MMC ', np.mean(np.max(proba_dn['Task '+str(task_)], axis=1)))"
   ]
  },
  {
   "cell_type": "code",
   "execution_count": null,
   "id": "aaae9771",
   "metadata": {},
   "outputs": [],
   "source": []
  }
 ],
 "metadata": {
  "kernelspec": {
   "display_name": "Python 3 (ipykernel)",
   "language": "python",
   "name": "python3"
  },
  "language_info": {
   "codemirror_mode": {
    "name": "ipython",
    "version": 3
   },
   "file_extension": ".py",
   "mimetype": "text/x-python",
   "name": "python",
   "nbconvert_exporter": "python",
   "pygments_lexer": "ipython3",
   "version": "3.9.12"
  }
 },
 "nbformat": 4,
 "nbformat_minor": 5
}
